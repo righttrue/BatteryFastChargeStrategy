{
 "cells": [
  {
   "cell_type": "code",
   "execution_count": 1,
   "metadata": {},
   "outputs": [],
   "source": [
    "import pybamm"
   ]
  },
  {
   "cell_type": "code",
   "execution_count": 3,
   "metadata": {},
   "outputs": [],
   "source": [
    "model = pybamm.lithium_ion.SPMe()\n",
    "param = pybamm.ParameterValues(\"Chen2020\")\n",
    "fast_solver = pybamm.CasadiSolver(atol=1e-3, rtol=1e-3, mode=\"fast\")    \n",
    "\n",
    "#”fast with events”: perform direct integration of the whole timespan, then go back and check where events were crossed. Experimental only. \n",
    "# 첫 번째 스텝을 위한 초기 솔루션 생성\n",
    "# experiment = pybamm.Experiment(\n",
    "#     [\n",
    "#         \"Discharge at 1C until 2.3V\",\n",
    "#         \"Rest for 3 hours\"\n",
    "#     ]\n",
    "# )\n",
    "t_eval = [60,120]\n",
    "fast_sim = pybamm.Simulation(model, parameter_values=param,solver=fast_solver)#, experiment=experiment\n",
    "\n",
    "initial_solution = fast_sim.solve(t_eval)\n",
    "\n"
   ]
  },
  {
   "cell_type": "code",
   "execution_count": 10,
   "metadata": {},
   "outputs": [
    {
     "name": "stderr",
     "output_type": "stream",
     "text": [
      "At t = 233.183 and h = 1.28053e-16, the corrector convergence failed repeatedly or with |h| = hmin.\n",
      "At t = 233.183 and h = 3.06498e-14, the corrector convergence failed repeatedly or with |h| = hmin.\n"
     ]
    },
    {
     "data": {
      "application/vnd.jupyter.widget-view+json": {
       "model_id": "6221fd2eedfe4bb4b1a6bbb1d29dad45",
       "version_major": 2,
       "version_minor": 0
      },
      "text/plain": [
       "interactive(children=(FloatSlider(value=0.0, description='t', max=136.5079474211171, step=1.3650794742111712),…"
      ]
     },
     "metadata": {},
     "output_type": "display_data"
    },
    {
     "data": {
      "text/plain": [
       "<pybamm.plotting.quick_plot.QuickPlot at 0x1592769b580>"
      ]
     },
     "execution_count": 10,
     "metadata": {},
     "output_type": "execute_result"
    }
   ],
   "source": [
    "import pandas as pd  # needed to read the csv data file\n",
    "model = pybamm.lithium_ion.DFN()\n",
    "parameter_values = pybamm.ParameterValues(\"Chen2020\")\n",
    "\n",
    "parameter_values[\"Current function [A]\"] = 10\n",
    "parameter_values[\"Open-circuit voltage at 100% SOC [V]\"] = 3.4\n",
    "parameter_values[\"Open-circuit voltage at 0% SOC [V]\"] = 3.0\n",
    "\n",
    "\n",
    "sim = pybamm.Simulation(model, parameter_values=parameter_values)\n",
    "sim.solve([0, 3600], initial_soc=1)\n",
    "sim.plot()\n"
   ]
  },
  {
   "cell_type": "code",
   "execution_count": 12,
   "metadata": {},
   "outputs": [],
   "source": [
    "# Import drive cycle from file\n",
    "drive_cycle = pd.read_csv(\n",
    "    \"US06.csv\", comment=\"#\", header=None\n",
    ").to_numpy()\n",
    "\n",
    "# Create interpolant\n",
    "current_interpolant = pybamm.Interpolant(drive_cycle[:, 0], drive_cycle[:, 1], pybamm.t)\n",
    "\n",
    "# Set drive cycle\n",
    "parameter_values[\"Current function [A]\"] = current_interpolant"
   ]
  },
  {
   "cell_type": "code",
   "execution_count": 14,
   "metadata": {},
   "outputs": [
    {
     "data": {
      "text/plain": [
       "array([[0.0000e+00, 1.2859e-02],\n",
       "       [1.0000e+00, 1.2859e-02],\n",
       "       [2.0000e+00, 1.2859e-02],\n",
       "       ...,\n",
       "       [5.9800e+02, 1.2859e-02],\n",
       "       [5.9900e+02, 1.2859e-02],\n",
       "       [6.0000e+02, 1.2859e-02]])"
      ]
     },
     "execution_count": 14,
     "metadata": {},
     "output_type": "execute_result"
    }
   ],
   "source": [
    "drive_cycle"
   ]
  },
  {
   "cell_type": "code",
   "execution_count": 13,
   "metadata": {},
   "outputs": [
    {
     "data": {
      "application/vnd.jupyter.widget-view+json": {
       "model_id": "250f816cf23542a4b296533af57b1dc0",
       "version_major": 2,
       "version_minor": 0
      },
      "text/plain": [
       "interactive(children=(FloatSlider(value=0.0, description='t', max=600.0, step=6.0), Output()), _dom_classes=('…"
      ]
     },
     "metadata": {},
     "output_type": "display_data"
    },
    {
     "data": {
      "text/plain": [
       "<pybamm.plotting.quick_plot.QuickPlot at 0x15921a78040>"
      ]
     },
     "execution_count": 13,
     "metadata": {},
     "output_type": "execute_result"
    }
   ],
   "source": [
    "model = pybamm.lithium_ion.SPMe()\n",
    "sim = pybamm.Simulation(model, parameter_values=parameter_values)\n",
    "sim.solve()\n",
    "sim.plot([\"Current [A]\", \"Voltage [V]\"])"
   ]
  },
  {
   "cell_type": "code",
   "execution_count": 9,
   "metadata": {},
   "outputs": [
    {
     "name": "stderr",
     "output_type": "stream",
     "text": [
      "At t = 233.183 and h = 1.28053e-16, the corrector convergence failed repeatedly or with |h| = hmin.\n",
      "At t = 233.183 and h = 3.06498e-14, the corrector convergence failed repeatedly or with |h| = hmin.\n"
     ]
    },
    {
     "data": {
      "application/vnd.jupyter.widget-view+json": {
       "model_id": "60060423d43f49d0af4b45ed827789fb",
       "version_major": 2,
       "version_minor": 0
      },
      "text/plain": [
       "interactive(children=(FloatSlider(value=0.0, description='t', max=136.5079474211171, step=1.3650794742111712),…"
      ]
     },
     "metadata": {},
     "output_type": "display_data"
    },
    {
     "data": {
      "text/plain": [
       "<pybamm.plotting.quick_plot.QuickPlot at 0x15925b47910>"
      ]
     },
     "execution_count": 9,
     "metadata": {},
     "output_type": "execute_result"
    }
   ],
   "source": [
    "sim = pybamm.Simulation(model, parameter_values=parameter_values)\n",
    "sim.solve([0, 3600], initial_soc=1)\n",
    "sim.plot()"
   ]
  },
  {
   "cell_type": "code",
   "execution_count": 16,
   "metadata": {},
   "outputs": [
    {
     "data": {
      "application/vnd.jupyter.widget-view+json": {
       "model_id": "11171ed00cf0415c99b9344c0c41e07d",
       "version_major": 2,
       "version_minor": 0
      },
      "text/plain": [
       "interactive(children=(FloatSlider(value=0.0, description='t', max=1.0, step=0.01), Output()), _dom_classes=('w…"
      ]
     },
     "metadata": {},
     "output_type": "display_data"
    },
    {
     "data": {
      "text/plain": [
       "<pybamm.plotting.quick_plot.QuickPlot at 0x15927a0bcd0>"
      ]
     },
     "execution_count": 16,
     "metadata": {},
     "output_type": "execute_result"
    }
   ],
   "source": [
    "import numpy as np\n",
    "t = np.linspace(0, 1, 60)\n",
    "sin_t = 0.5 * np.sin(2 * np.pi * t)\n",
    "drive_cycle_power = np.column_stack([t, sin_t])\n",
    "experiment = pybamm.Experiment([pybamm.step.power(drive_cycle_power)])\n",
    "sim = pybamm.Simulation(model, experiment=experiment)\n",
    "sim.solve()\n",
    "sim.plot()"
   ]
  },
  {
   "cell_type": "markdown",
   "metadata": {},
   "source": [
    "# CH5"
   ]
  },
  {
   "cell_type": "code",
   "execution_count": null,
   "metadata": {},
   "outputs": [],
   "source": [
    "import pybamm\n",
    "import numpy as np\n",
    "\n",
    "experiment = pybamm.Experiment(\n",
    "    [\n",
    "        (\n",
    "            \"Discharge at C/10 for 10 hours or until 3.3 V\",\n",
    "            \"Rest for 1hour\",\n",
    "            \"Charge at 1 A until 4.1 V\",\n",
    "            \"Hold at 4.1 V untile 50 mA\"\n",
    "            \"Rest\"\n",
    "        )    \n",
    "    ]\n",
    ")"
   ]
  },
  {
   "cell_type": "code",
   "execution_count": 19,
   "metadata": {},
   "outputs": [
    {
     "data": {
      "application/vnd.jupyter.widget-view+json": {
       "model_id": "efede39a90aa4ced9eee70f9f3be7665",
       "version_major": 2,
       "version_minor": 0
      },
      "text/plain": [
       "interactive(children=(FloatSlider(value=0.0, description='t', max=3600.0, step=1.0), Output()), _dom_classes=(…"
      ]
     },
     "metadata": {},
     "output_type": "display_data"
    },
    {
     "data": {
      "text/plain": [
       "<function __main__.plot(t)>"
      ]
     },
     "execution_count": 19,
     "metadata": {},
     "output_type": "execute_result"
    }
   ],
   "source": [
    "#%pip install \"pybamm[plot,cite]\" -q    # install PyBaMM if it is not installed\n",
    "import pybamm\n",
    "import numpy as np\n",
    "import matplotlib.pyplot as plt\n",
    "\n",
    "full_model = pybamm.BaseModel(name=\"full model\")\n",
    "reduced_model = pybamm.BaseModel(name=\"reduced model\")\n",
    "\n",
    "models = [full_model, reduced_model]\n",
    "\n",
    "R = pybamm.Parameter(\"Particle radius [m]\")\n",
    "D = pybamm.Parameter(\"Diffusion coefficient [m2.s-1]\")\n",
    "j = pybamm.Parameter(\"Interfacial current density [A.m-2]\")\n",
    "F = pybamm.Parameter(\"Faraday constant [C.mol-1]\")\n",
    "c0 = pybamm.Parameter(\"Initial concentration [mol.m-3]\")\n",
    "\n",
    "c = pybamm.Variable(\"Concentration [mol.m-3]\", domain=\"negative particle\")\n",
    "c_av = pybamm.Variable(\"Average concentration [mol.m-3]\")\n",
    "# governing equations for full model\n",
    "N = -D * pybamm.grad(c)  # flux\n",
    "dcdt = -pybamm.div(N)\n",
    "full_model.rhs = {c: dcdt}\n",
    "\n",
    "# governing equations for reduced model\n",
    "dc_avdt = -3 * j / R / F\n",
    "reduced_model.rhs = {c_av: dc_avdt}\n",
    "\n",
    "# initial conditions (these are the same for both models)\n",
    "full_model.initial_conditions = {c: c0}\n",
    "reduced_model.initial_conditions = {c_av: c0}\n",
    "\n",
    "# boundary conditions (only required for full model)\n",
    "lbc = pybamm.Scalar(0)\n",
    "rbc = -j / F / D\n",
    "full_model.boundary_conditions = {\n",
    "    c: {\"left\": (lbc, \"Neumann\"), \"right\": (rbc, \"Neumann\")}\n",
    "}\n",
    "# full model\n",
    "full_model.variables = {\n",
    "    \"Concentration [mol.m-3]\": c,\n",
    "    \"Surface concentration [mol.m-3]\": pybamm.surf(c),\n",
    "    \"Average concentration [mol.m-3]\": pybamm.r_average(c),\n",
    "}\n",
    "\n",
    "# reduced model\n",
    "reduced_model.variables = {\n",
    "    \"Concentration [mol.m-3]\": pybamm.PrimaryBroadcast(c_av, \"negative particle\"),\n",
    "    \"Surface concentration [mol.m-3]\": c_av,  # in this model the surface concentration is just equal to the scalar average concentration\n",
    "    \"Average concentration [mol.m-3]\": c_av,\n",
    "}\n",
    "param = pybamm.ParameterValues(\n",
    "    {\n",
    "        \"Particle radius [m]\": 10e-6,\n",
    "        \"Diffusion coefficient [m2.s-1]\": 3.9e-14,\n",
    "        \"Interfacial current density [A.m-2]\": 1.4,\n",
    "        \"Faraday constant [C.mol-1]\": 96485,\n",
    "        \"Initial concentration [mol.m-3]\": 2.5e4,\n",
    "    }\n",
    ")\n",
    "# geometry\n",
    "r = pybamm.SpatialVariable(\n",
    "    \"r\", domain=[\"negative particle\"], coord_sys=\"spherical polar\"\n",
    ")\n",
    "geometry = {\"negative particle\": {r: {\"min\": pybamm.Scalar(0), \"max\": R}}}\n",
    "param.process_geometry(geometry)\n",
    "\n",
    "# models\n",
    "for model in models:\n",
    "    param.process_model(model)\n",
    "# mesh\n",
    "submesh_types = {\"negative particle\": pybamm.Uniform1DSubMesh}\n",
    "var_pts = {r: 20}\n",
    "mesh = pybamm.Mesh(geometry, submesh_types, var_pts)\n",
    "\n",
    "# discretisation\n",
    "spatial_methods = {\"negative particle\": pybamm.FiniteVolume()}\n",
    "disc = pybamm.Discretisation(mesh, spatial_methods)\n",
    "\n",
    "# process models\n",
    "for model in models:\n",
    "    disc.process_model(model)\n",
    "\n",
    "# loop over models to solve\n",
    "t = np.linspace(0, 3600, 600)\n",
    "solutions = [None] * len(models)  # create list to hold solutions\n",
    "for i, model in enumerate(models):\n",
    "    solver = pybamm.ScipySolver()\n",
    "    solutions[i] = solver.solve(model, t)\n",
    "\n",
    "# post-process the solution of the full model\n",
    "c_full = solutions[0][\"Concentration [mol.m-3]\"]\n",
    "c_av_full = solutions[0][\"Average concentration [mol.m-3]\"]\n",
    "\n",
    "\n",
    "# post-process the solution of the reduced model\n",
    "c_reduced = solutions[1][\"Concentration [mol.m-3]\"]\n",
    "c_av_reduced = solutions[1][\"Average concentration [mol.m-3]\"]\n",
    "\n",
    "# plot\n",
    "r = mesh[\"negative particle\"].nodes  # radial position\n",
    "\n",
    "\n",
    "def plot(t):\n",
    "    fig, (ax1, ax2) = plt.subplots(1, 2, figsize=(13, 4))\n",
    "\n",
    "    # Plot concetration as a function of r\n",
    "    ax1.plot(r * 1e6, c_full(t=t, r=r), label=\"Full Model\")\n",
    "    ax1.plot(r * 1e6, c_reduced(t=t, r=r), label=\"Reduced Model\")\n",
    "    ax1.set_xlabel(\"Particle radius [microns]\")\n",
    "    ax1.set_ylabel(\"Concentration [mol.m-3]\")\n",
    "    ax1.legend()\n",
    "\n",
    "    # Plot average concentration over time\n",
    "    t_hour = np.linspace(0, 3600, 600)  # plot over full hour\n",
    "    c_min = c_av_reduced(t=3600) * 0.98  # minimum axes limit\n",
    "    c_max = param[\"Initial concentration [mol.m-3]\"] * 1.02  # maximum axes limit\n",
    "\n",
    "    ax2.plot(t_hour, c_av_full(t=t_hour), label=\"Full Model\")\n",
    "    ax2.plot(t_hour, c_av_reduced(t=t_hour), label=\"Reduced Model\")\n",
    "    ax2.plot([t, t], [c_min, c_max], \"k--\")  # plot line to track time\n",
    "    ax2.set_xlabel(\"Time [s]\")\n",
    "    ax2.set_ylabel(\"Average concentration [mol.m-3]\")\n",
    "    ax2.legend()\n",
    "\n",
    "    plt.tight_layout()\n",
    "    plt.show()\n",
    "\n",
    "\n",
    "import ipywidgets as widgets\n",
    "\n",
    "widgets.interact(plot, t=widgets.FloatSlider(min=0, max=3600, step=1, value=0))"
   ]
  },
  {
   "cell_type": "code",
   "execution_count": 25,
   "metadata": {},
   "outputs": [
    {
     "ename": "TypeError",
     "evalue": "BaseSolver.step() got an unexpected keyword argument 'initial_solution'",
     "output_type": "error",
     "traceback": [
      "\u001b[1;31m---------------------------------------------------------------------------\u001b[0m",
      "\u001b[1;31mTypeError\u001b[0m                                 Traceback (most recent call last)",
      "Cell \u001b[1;32mIn[25], line 21\u001b[0m\n\u001b[0;32m     13\u001b[0m new_sim \u001b[38;5;241m=\u001b[39m pybamm\u001b[38;5;241m.\u001b[39mSimulation(\n\u001b[0;32m     14\u001b[0m     model,\n\u001b[0;32m     15\u001b[0m     parameter_values\u001b[38;5;241m=\u001b[39mparam,\n\u001b[0;32m     16\u001b[0m     experiment\u001b[38;5;241m=\u001b[39mnew_experiment,\n\u001b[0;32m     17\u001b[0m     solver\u001b[38;5;241m=\u001b[39mfast_solver\n\u001b[0;32m     18\u001b[0m )\n\u001b[0;32m     20\u001b[0m \u001b[38;5;66;03m# 새로운 실험을 현재 솔루션 상태에서 시작\u001b[39;00m\n\u001b[1;32m---> 21\u001b[0m continued_solution \u001b[38;5;241m=\u001b[39m \u001b[43mnew_sim\u001b[49m\u001b[38;5;241;43m.\u001b[39;49m\u001b[43msolve\u001b[49m\u001b[43m(\u001b[49m\u001b[43minitial_solution\u001b[49m\u001b[38;5;241;43m=\u001b[39;49m\u001b[43minitial_solution\u001b[49m\u001b[43m)\u001b[49m\n",
      "File \u001b[1;32mc:\\Users\\User\\anaconda3\\envs\\FP2024\\lib\\site-packages\\pybamm\\simulation.py:785\u001b[0m, in \u001b[0;36mSimulation.solve\u001b[1;34m(self, t_eval, solver, check_model, save_at_cycles, calc_esoh, starting_solution, initial_soc, callbacks, showprogress, **kwargs)\u001b[0m\n\u001b[0;32m    783\u001b[0m npts \u001b[38;5;241m=\u001b[39m \u001b[38;5;28mmax\u001b[39m(\u001b[38;5;28mint\u001b[39m(\u001b[38;5;28mround\u001b[39m(dt \u001b[38;5;241m/\u001b[39m op_conds\u001b[38;5;241m.\u001b[39mperiod)) \u001b[38;5;241m+\u001b[39m \u001b[38;5;241m1\u001b[39m, \u001b[38;5;241m2\u001b[39m)\n\u001b[0;32m    784\u001b[0m \u001b[38;5;28;01mtry\u001b[39;00m:\n\u001b[1;32m--> 785\u001b[0m     step_solution \u001b[38;5;241m=\u001b[39m solver\u001b[38;5;241m.\u001b[39mstep(\n\u001b[0;32m    786\u001b[0m         current_solution,\n\u001b[0;32m    787\u001b[0m         model,\n\u001b[0;32m    788\u001b[0m         dt,\n\u001b[0;32m    789\u001b[0m         npts\u001b[38;5;241m=\u001b[39mnpts,\n\u001b[0;32m    790\u001b[0m         save\u001b[38;5;241m=\u001b[39m\u001b[38;5;28;01mFalse\u001b[39;00m,\n\u001b[0;32m    791\u001b[0m         \u001b[38;5;241m*\u001b[39m\u001b[38;5;241m*\u001b[39mkwargs,\n\u001b[0;32m    792\u001b[0m     )\n\u001b[0;32m    793\u001b[0m \u001b[38;5;28;01mexcept\u001b[39;00m pybamm\u001b[38;5;241m.\u001b[39mSolverError \u001b[38;5;28;01mas\u001b[39;00m error:\n\u001b[0;32m    794\u001b[0m     \u001b[38;5;28;01mif\u001b[39;00m (\n\u001b[0;32m    795\u001b[0m         \u001b[38;5;124m\"\u001b[39m\u001b[38;5;124mnon-positive at initial conditions\u001b[39m\u001b[38;5;124m\"\u001b[39m \u001b[38;5;129;01min\u001b[39;00m error\u001b[38;5;241m.\u001b[39mmessage\n\u001b[0;32m    796\u001b[0m         \u001b[38;5;129;01mand\u001b[39;00m \u001b[38;5;124m\"\u001b[39m\u001b[38;5;124m[experiment]\u001b[39m\u001b[38;5;124m\"\u001b[39m \u001b[38;5;129;01min\u001b[39;00m error\u001b[38;5;241m.\u001b[39mmessage\n\u001b[0;32m    797\u001b[0m     ):\n",
      "\u001b[1;31mTypeError\u001b[0m: BaseSolver.step() got an unexpected keyword argument 'initial_solution'"
     ]
    }
   ],
   "source": [
    "model = pybamm.lithium_ion.SPMe()\n",
    "param = pybamm.ParameterValues(\"Chen2020\")\n",
    "fast_solver = pybamm.CasadiSolver(atol=1e-3, rtol=1e-3, mode=\"fast\")    \n",
    "\n",
    "experiment = pybamm.Experiment(\n",
    "    [\n",
    "        \"Discharge at 1C until 2.3V\",\n",
    "        \"Rest for 3 hours\"\n",
    "    ]\n",
    ")\n",
    "\n",
    "# 새로운 Simulation 객체 생성\n",
    "new_sim = pybamm.Simulation(\n",
    "    model,\n",
    "    parameter_values=param,\n",
    "    experiment=new_experiment,\n",
    "    solver=fast_solver\n",
    ")\n",
    "\n",
    "# 새로운 실험을 현재 솔루션 상태에서 시작\n",
    "continued_solution = new_sim.solve(initial_solution=initial_solution)\n",
    "\n"
   ]
  },
  {
   "cell_type": "code",
   "execution_count": 1,
   "metadata": {},
   "outputs": [
    {
     "name": "stderr",
     "output_type": "stream",
     "text": [
      "2024-04-04 11:55:06.432 - [INFO] base_model._build_model(652): Start building full thermal model\n",
      "2024-04-04 11:55:06.590 - [INFO] base_battery_model.build_model(1073): Finish building full thermal model\n",
      "2024-04-04 11:55:06.611 - [INFO] base_model._build_model(652): Start building lumped thermal model\n",
      "2024-04-04 11:55:06.695 - [INFO] base_battery_model.build_model(1073): Finish building lumped thermal model\n",
      "2024-04-04 11:55:06.710 - [INFO] parameter_values.process_model(394): Start setting parameters for full thermal model\n",
      "2024-04-04 11:55:06.924 - [INFO] parameter_values.process_model(463): Finish setting parameters for full thermal model\n",
      "2024-04-04 11:55:06.927 - [INFO] discretisation.process_model(145): Start discretising full thermal model\n",
      "2024-04-04 11:55:06.945 - [INFO] discretisation.remove_independent_variables_from_rhs(1126): removing variable Discharge capacity [A.h] from rhs\n",
      "2024-04-04 11:55:06.948 - [INFO] discretisation.remove_independent_variables_from_rhs(1126): removing variable Throughput capacity [A.h] from rhs\n",
      "2024-04-04 11:55:07.770 - [INFO] discretisation.process_model(247): Finish discretising full thermal model\n",
      "2024-04-04 11:55:07.772 - [INFO] base_solver.solve(740): Start solving full thermal model with CasADi solver with 'safe' mode\n",
      "2024-04-04 11:55:07.778 - [INFO] base_solver.set_up(117): Start solver set-up\n",
      "2024-04-04 11:55:08.261 - [INFO] base_solver.set_up(286): Finish solver set-up\n",
      "2024-04-04 11:55:09.393 - [INFO] base_solver.solve(973): Finish solving full thermal model (the solver successfully reached the end of the integration interval)\n",
      "2024-04-04 11:55:09.395 - [INFO] base_solver.solve(974): Set-up time: 484.464 ms, Solve time: 1.130 s (of which integration time: 628.483 ms), Total time: 1.615 s\n",
      "2024-04-04 11:55:09.400 - [INFO] parameter_values.process_model(394): Start setting parameters for lumped thermal model\n",
      "2024-04-04 11:55:09.607 - [INFO] parameter_values.process_model(463): Finish setting parameters for lumped thermal model\n",
      "2024-04-04 11:55:09.611 - [INFO] discretisation.process_model(145): Start discretising lumped thermal model\n",
      "2024-04-04 11:55:09.634 - [INFO] discretisation.remove_independent_variables_from_rhs(1126): removing variable Discharge capacity [A.h] from rhs\n",
      "2024-04-04 11:55:09.637 - [INFO] discretisation.remove_independent_variables_from_rhs(1126): removing variable Throughput capacity [A.h] from rhs\n",
      "2024-04-04 11:55:10.303 - [INFO] discretisation.process_model(247): Finish discretising lumped thermal model\n",
      "2024-04-04 11:55:10.305 - [INFO] base_solver.solve(740): Start solving lumped thermal model with CasADi solver with 'safe' mode\n",
      "2024-04-04 11:55:10.312 - [INFO] base_solver.set_up(117): Start solver set-up\n",
      "2024-04-04 11:55:10.594 - [INFO] base_solver.set_up(286): Finish solver set-up\n",
      "2024-04-04 11:55:10.976 - [INFO] base_solver.solve(973): Finish solving lumped thermal model (the solver successfully reached the end of the integration interval)\n",
      "2024-04-04 11:55:10.978 - [INFO] base_solver.solve(974): Set-up time: 283.657 ms, Solve time: 380.490 ms (of which integration time: 226.391 ms), Total time: 664.147 ms\n"
     ]
    },
    {
     "data": {
      "application/vnd.jupyter.widget-view+json": {
       "model_id": "8d86baf9d5e04174b08cb27fb26ebb1b",
       "version_major": 2,
       "version_minor": 0
      },
      "text/plain": [
       "interactive(children=(FloatSlider(value=0.0, description='t', max=1.0, step=0.01), Output()), _dom_classes=('w…"
      ]
     },
     "metadata": {},
     "output_type": "display_data"
    },
    {
     "data": {
      "text/plain": [
       "<pybamm.plotting.quick_plot.QuickPlot at 0x22b4166fdf0>"
      ]
     },
     "execution_count": 1,
     "metadata": {},
     "output_type": "execute_result"
    }
   ],
   "source": [
    "\n",
    "# Compares the full and lumped thermal models for a single layer Li-ion cell\n",
    "#\n",
    "import pybamm\n",
    "\n",
    "pybamm.set_logging_level(\"INFO\")\n",
    "\n",
    "# load models\n",
    "# for the full model we use the \"x-full\" thermal submodel, which means that we solve\n",
    "# the thermal model in the x-direction for a single-layer pouch cell\n",
    "# for the lumped model we use the \"arbitrary\" cell geometry, which means that we can\n",
    "# specify the surface area for cooling and total heat transfer coefficient\n",
    "full_thermal_model = pybamm.lithium_ion.SPMe(\n",
    "    {\"thermal\": \"x-full\"}, name=\"full thermal model\"\n",
    ")\n",
    "lumped_thermal_model = pybamm.lithium_ion.SPMe(\n",
    "    {\"cell geometry\": \"arbitrary\", \"thermal\": \"lumped\"}, name=\"lumped thermal model\"\n",
    ")\n",
    "models = [full_thermal_model, lumped_thermal_model]\n",
    "\n",
    "# load parameter values, we will use the Marquis2019 parameter set\n",
    "parameter_values = pybamm.ParameterValues(\"Marquis2019\")\n",
    "# for the \"full\" model we use a heat transfer coefficient of 5 W.m-2.K-1 on the large\n",
    "# surfaces of the pouch and zero heat transfer coefficient on the tabs and edges\n",
    "full_params = parameter_values.copy()\n",
    "full_params.update(\n",
    "    {\n",
    "        \"Negative current collector surface heat transfer coefficient [W.m-2.K-1]\"\n",
    "        \"\": 5,\n",
    "        \"Positive current collector surface heat transfer coefficient [W.m-2.K-1]\"\n",
    "        \"\": 5,\n",
    "        \"Negative tab heat transfer coefficient [W.m-2.K-1]\": 0,\n",
    "        \"Positive tab heat transfer coefficient [W.m-2.K-1]\": 0,\n",
    "        \"Edge heat transfer coefficient [W.m-2.K-1]\": 0,\n",
    "    }\n",
    ")\n",
    "# for the lumped model we set the \"Total heat transfer coefficient [W.m-2.K-1]\"\n",
    "# parameter as well as the \"Cell cooling surface area [m2]\" and \"Cell volume [m3]\n",
    "# parameters. Since the \"full\" model only accounts for cooling from the large surfaces\n",
    "# of the pouch, we set the \"Surface area for cooling [m2]\" parameter to the area of the\n",
    "# large surfaces of the pouch, and the total heat transfer coefficient to 5 W.m-2.K-1\n",
    "A = parameter_values[\"Electrode width [m]\"] * parameter_values[\"Electrode height [m]\"]\n",
    "contributing_layers = [\n",
    "    \"Negative current collector\",\n",
    "    \"Negative electrode\",\n",
    "    \"Separator\",\n",
    "    \"Positive electrode\",\n",
    "    \"Positive current collector\",\n",
    "]\n",
    "total_thickness = sum(\n",
    "    [parameter_values[layer + \" thickness [m]\"] for layer in contributing_layers]\n",
    ")\n",
    "electrode_volume = (\n",
    "    total_thickness\n",
    "    * parameter_values[\"Electrode height [m]\"]\n",
    "    * parameter_values[\"Electrode width [m]\"]\n",
    ")\n",
    "lumped_params = parameter_values.copy()\n",
    "lumped_params.update(\n",
    "    {\n",
    "        \"Total heat transfer coefficient [W.m-2.K-1]\": 5,\n",
    "        \"Cell cooling surface area [m2]\": 2 * A,\n",
    "        \"Cell volume [m3]\": electrode_volume,\n",
    "    }\n",
    ")\n",
    "\n",
    "# loop over the models and solve\n",
    "params = [full_params, lumped_params]\n",
    "sols = []\n",
    "for model, param in zip(models, params):\n",
    "    sim = pybamm.Simulation(model, parameter_values=param)\n",
    "    sim.solve([0, 3600])\n",
    "    sols.append(sim.solution)\n",
    "\n",
    "# plot\n",
    "output_variables = [\n",
    "    \"Voltage [V]\",\n",
    "    \"X-averaged cell temperature [K]\",\n",
    "    \"Cell temperature [K]\",\n",
    "]\n",
    "pybamm.dynamic_plot(sols, output_variables)"
   ]
  },
  {
   "cell_type": "code",
   "execution_count": 21,
   "metadata": {},
   "outputs": [
    {
     "name": "stderr",
     "output_type": "stream",
     "text": [
      "2024-04-02 22:14:39.793 - [WARNING] simulation.solve(590): Ignoring t_eval as solution times are specified by the experiment\n",
      "2024-04-02 22:14:40.293 - [WARNING] simulation.solve(590): Ignoring t_eval as solution times are specified by the experiment\n",
      "2024-04-02 22:14:40.455 - [WARNING] simulation.solve(590): Ignoring t_eval as solution times are specified by the experiment\n"
     ]
    },
    {
     "name": "stdout",
     "output_type": "stream",
     "text": [
      "Terminal Voltage: [4.03635574 3.94216222 3.93096432 3.92355714 3.91133262 3.89510077\n",
      " 3.87711307 3.85894122 3.84177565 3.82576744 3.81125519 3.79786192\n",
      " 3.78538264 3.77344775 3.76173239 3.7497607  3.73687999 3.72204262\n",
      " 3.70403072 3.68259638 3.65965868 3.63805896 3.6187448  3.60126226\n",
      " 3.58517583 3.57034366 3.55665486 3.54403032 3.53241578 3.5216871\n",
      " 3.51156449 3.50184804 3.49240887 3.48309133 3.47368349 3.4639888\n",
      " 3.45378726 3.44280336 3.43075357 3.41733811 3.40234928 3.38580566\n",
      " 3.36806441 3.34979861 3.33181418 3.31476556 3.29889657 3.28405577\n",
      " 3.26961281 3.25432277 3.23590972 3.21050096 3.17307158 3.12166844\n",
      " 3.06259466 3.00391883 2.94329241 2.86712943 2.7533497  2.56740426\n",
      " 2.30001003 2.47800355 2.8010386  2.84090324 2.85458706 2.86124065\n",
      " 2.86554159 2.86835485 2.87022887 2.87159296 2.87267996 2.87354434\n",
      " 2.87436354 2.87504485 2.87556917 2.87605663 2.8764521  2.87675584\n",
      " 2.8770358  2.87725782 2.8774257  2.87758093 2.87770689 2.87780657\n",
      " 2.87788297 2.87793906 2.87798207 2.87801417 2.87803807 2.87805721\n",
      " 2.87807503 2.87807429 2.8780497  2.87801885 2.87798455 2.87794962\n",
      " 2.87791688 2.87788915 2.87786925 2.87785998 2.87786418 2.87788466\n",
      " 2.87791495 2.87788579 2.87785897 2.87783551 2.87781644 2.8778028\n",
      " 2.87779562 2.87779592 2.87780474 2.87782311 2.87785206 2.87789262\n",
      " 2.87791188 2.87791986 2.87792922 2.87793995 2.87795209 2.87796563\n",
      " 2.8779806  2.877997   2.87801486 2.87803419 2.87805499 2.87807519\n",
      " 2.87809042 2.87810511 2.87811911 2.87813227 2.87814444 2.87815548\n",
      " 2.87816524 2.87817356 2.87818031 2.87818532 2.87818846 2.87819613\n",
      " 2.87820395 2.87821103 2.87821738 2.878223   2.87822788 2.87823203\n",
      " 2.87823545 2.87823813 2.87824009 2.87824131 2.87824179 2.87824154\n",
      " 2.87824056 2.87823885 2.87823641 2.87823323 2.87822931 2.87822697\n",
      " 2.87822938 2.87823159 2.87823359 2.87823538 2.87823697 2.87823835\n",
      " 2.87823952 2.87824048 2.87824124 2.87824179 2.87824213 2.87824226\n",
      " 2.87824219 2.87824191 2.87824142 2.87824073 2.87823983 2.87823872\n",
      " 2.8782374  2.87823588 2.87823415 2.87823221 2.87823006 2.87822771\n",
      " 2.87822515 2.87822238 2.87821941 2.87821702 2.87821659 2.87821616\n",
      " 2.87821571 2.87821526 2.8782148  2.87821433 2.87821386 2.87821338\n",
      " 2.87821289 2.87821239 2.87821189 2.87821138 2.87821086 2.87821034\n",
      " 2.8782098  2.87820926 2.87820872 2.87820816 2.8782076  2.87820703\n",
      " 2.87820646 2.87820587 2.87820528 2.87820469 2.87820408 2.87820347\n",
      " 2.87820285 2.87820236 2.87820226 2.87820216 2.87820206 2.87820196\n",
      " 2.87820186 2.87820176 2.87820166 2.87820156 2.87820147 2.87820137\n",
      " 2.87820127 2.87820117 2.87820107 2.87820097 2.87820087 2.87820077\n",
      " 2.87820067 2.87820058 2.87820048 2.87820038 2.87820028 2.87820018\n",
      " 2.87820008 2.87819998 2.87819988 2.87819978 2.87819968 2.87819959\n",
      " 2.87819949 2.87819939]\n",
      "Terminal Voltage: [4.03635574 3.94216222 3.93096432 3.92355714 3.91133262 3.89510077\n",
      " 3.87711307 3.85894122 3.84177565 3.82576744 3.81125519 3.79786192\n",
      " 3.78538264 3.77344775 3.76173239 3.7497607  3.73687999 3.72204262\n",
      " 3.70403072 3.68259638 3.65965868 3.63805896 3.6187448  3.60126226\n",
      " 3.58517583 3.57034366 3.55665486 3.54403032 3.53241578 3.5216871\n",
      " 3.51156449 3.50184804 3.49240887 3.48309133 3.47368349 3.4639888\n",
      " 3.45378726 3.44280336 3.43075357 3.41733811 3.40234928 3.38580566\n",
      " 3.36806441 3.34979861 3.33181418 3.31476556 3.29889657 3.28405577\n",
      " 3.26961281 3.25432277 3.23590972 3.21050096 3.17307158 3.12166844\n",
      " 3.06259466 3.00391883 2.94329241 2.86712943 2.7533497  2.56740426\n",
      " 2.30001003 2.47800355 2.8010386  2.84090324 2.85458706 2.86124065\n",
      " 2.86554159 2.86835485 2.87022887 2.87159296 2.87267996 2.87354434\n",
      " 2.87436354 2.87504485 2.87556917 2.87605663 2.8764521  2.87675584\n",
      " 2.8770358  2.87725782 2.8774257  2.87758093 2.87770689 2.87780657\n",
      " 2.87788297 2.87793906 2.87798207 2.87801417 2.87803807 2.87805721\n",
      " 2.87807503 2.87807429 2.8780497  2.87801885 2.87798455 2.87794962\n",
      " 2.87791688 2.87788915 2.87786925 2.87785998 2.87786418 2.87788466\n",
      " 2.87791495 2.87788579 2.87785897 2.87783551 2.87781644 2.8778028\n",
      " 2.87779562 2.87779592 2.87780474 2.87782311 2.87785206 2.87789262\n",
      " 2.87791188 2.87791986 2.87792922 2.87793995 2.87795209 2.87796563\n",
      " 2.8779806  2.877997   2.87801486 2.87803419 2.87805499 2.87807519\n",
      " 2.87809042 2.87810511 2.87811911 2.87813227 2.87814444 2.87815548\n",
      " 2.87816524 2.87817356 2.87818031 2.87818532 2.87818846 2.87819613\n",
      " 2.87820395 2.87821103 2.87821738 2.878223   2.87822788 2.87823203\n",
      " 2.87823545 2.87823813 2.87824009 2.87824131 2.87824179 2.87824154\n",
      " 2.87824056 2.87823885 2.87823641 2.87823323 2.87822931 2.87822697\n",
      " 2.87822938 2.87823159 2.87823359 2.87823538 2.87823697 2.87823835\n",
      " 2.87823952 2.87824048 2.87824124 2.87824179 2.87824213 2.87824226\n",
      " 2.87824219 2.87824191 2.87824142 2.87824073 2.87823983 2.87823872\n",
      " 2.8782374  2.87823588 2.87823415 2.87823221 2.87823006 2.87822771\n",
      " 2.87822515 2.87822238 2.87821941 2.87821702 2.87821659 2.87821616\n",
      " 2.87821571 2.87821526 2.8782148  2.87821433 2.87821386 2.87821338\n",
      " 2.87821289 2.87821239 2.87821189 2.87821138 2.87821086 2.87821034\n",
      " 2.8782098  2.87820926 2.87820872 2.87820816 2.8782076  2.87820703\n",
      " 2.87820646 2.87820587 2.87820528 2.87820469 2.87820408 2.87820347\n",
      " 2.87820285 2.87820236 2.87820226 2.87820216 2.87820206 2.87820196\n",
      " 2.87820186 2.87820176 2.87820166 2.87820156 2.87820147 2.87820137\n",
      " 2.87820127 2.87820117 2.87820107 2.87820097 2.87820087 2.87820077\n",
      " 2.87820067 2.87820058 2.87820048 2.87820038 2.87820028 2.87820018\n",
      " 2.87820008 2.87819998 2.87819988 2.87819978 2.87819968 2.87819959\n",
      " 2.87819949 2.87819939]\n"
     ]
    },
    {
     "name": "stderr",
     "output_type": "stream",
     "text": [
      "2024-04-02 22:14:40.635 - [WARNING] simulation.solve(590): Ignoring t_eval as solution times are specified by the experiment\n",
      "2024-04-02 22:14:40.837 - [WARNING] simulation.solve(590): Ignoring t_eval as solution times are specified by the experiment\n"
     ]
    },
    {
     "name": "stdout",
     "output_type": "stream",
     "text": [
      "Terminal Voltage: [4.03635574 3.94216222 3.93096432 3.92355714 3.91133262 3.89510077\n",
      " 3.87711307 3.85894122 3.84177565 3.82576744 3.81125519 3.79786192\n",
      " 3.78538264 3.77344775 3.76173239 3.7497607  3.73687999 3.72204262\n",
      " 3.70403072 3.68259638 3.65965868 3.63805896 3.6187448  3.60126226\n",
      " 3.58517583 3.57034366 3.55665486 3.54403032 3.53241578 3.5216871\n",
      " 3.51156449 3.50184804 3.49240887 3.48309133 3.47368349 3.4639888\n",
      " 3.45378726 3.44280336 3.43075357 3.41733811 3.40234928 3.38580566\n",
      " 3.36806441 3.34979861 3.33181418 3.31476556 3.29889657 3.28405577\n",
      " 3.26961281 3.25432277 3.23590972 3.21050096 3.17307158 3.12166844\n",
      " 3.06259466 3.00391883 2.94329241 2.86712943 2.7533497  2.56740426\n",
      " 2.30001003 2.47800355 2.8010386  2.84090324 2.85458706 2.86124065\n",
      " 2.86554159 2.86835485 2.87022887 2.87159296 2.87267996 2.87354434\n",
      " 2.87436354 2.87504485 2.87556917 2.87605663 2.8764521  2.87675584\n",
      " 2.8770358  2.87725782 2.8774257  2.87758093 2.87770689 2.87780657\n",
      " 2.87788297 2.87793906 2.87798207 2.87801417 2.87803807 2.87805721\n",
      " 2.87807503 2.87807429 2.8780497  2.87801885 2.87798455 2.87794962\n",
      " 2.87791688 2.87788915 2.87786925 2.87785998 2.87786418 2.87788466\n",
      " 2.87791495 2.87788579 2.87785897 2.87783551 2.87781644 2.8778028\n",
      " 2.87779562 2.87779592 2.87780474 2.87782311 2.87785206 2.87789262\n",
      " 2.87791188 2.87791986 2.87792922 2.87793995 2.87795209 2.87796563\n",
      " 2.8779806  2.877997   2.87801486 2.87803419 2.87805499 2.87807519\n",
      " 2.87809042 2.87810511 2.87811911 2.87813227 2.87814444 2.87815548\n",
      " 2.87816524 2.87817356 2.87818031 2.87818532 2.87818846 2.87819613\n",
      " 2.87820395 2.87821103 2.87821738 2.878223   2.87822788 2.87823203\n",
      " 2.87823545 2.87823813 2.87824009 2.87824131 2.87824179 2.87824154\n",
      " 2.87824056 2.87823885 2.87823641 2.87823323 2.87822931 2.87822697\n",
      " 2.87822938 2.87823159 2.87823359 2.87823538 2.87823697 2.87823835\n",
      " 2.87823952 2.87824048 2.87824124 2.87824179 2.87824213 2.87824226\n",
      " 2.87824219 2.87824191 2.87824142 2.87824073 2.87823983 2.87823872\n",
      " 2.8782374  2.87823588 2.87823415 2.87823221 2.87823006 2.87822771\n",
      " 2.87822515 2.87822238 2.87821941 2.87821702 2.87821659 2.87821616\n",
      " 2.87821571 2.87821526 2.8782148  2.87821433 2.87821386 2.87821338\n",
      " 2.87821289 2.87821239 2.87821189 2.87821138 2.87821086 2.87821034\n",
      " 2.8782098  2.87820926 2.87820872 2.87820816 2.8782076  2.87820703\n",
      " 2.87820646 2.87820587 2.87820528 2.87820469 2.87820408 2.87820347\n",
      " 2.87820285 2.87820236 2.87820226 2.87820216 2.87820206 2.87820196\n",
      " 2.87820186 2.87820176 2.87820166 2.87820156 2.87820147 2.87820137\n",
      " 2.87820127 2.87820117 2.87820107 2.87820097 2.87820087 2.87820077\n",
      " 2.87820067 2.87820058 2.87820048 2.87820038 2.87820028 2.87820018\n",
      " 2.87820008 2.87819998 2.87819988 2.87819978 2.87819968 2.87819959\n",
      " 2.87819949 2.87819939]\n",
      "Terminal Voltage: [4.03635574 3.94216222 3.93096432 3.92355714 3.91133262 3.89510077\n",
      " 3.87711307 3.85894122 3.84177565 3.82576744 3.81125519 3.79786192\n",
      " 3.78538264 3.77344775 3.76173239 3.7497607  3.73687999 3.72204262\n",
      " 3.70403072 3.68259638 3.65965868 3.63805896 3.6187448  3.60126226\n",
      " 3.58517583 3.57034366 3.55665486 3.54403032 3.53241578 3.5216871\n",
      " 3.51156449 3.50184804 3.49240887 3.48309133 3.47368349 3.4639888\n",
      " 3.45378726 3.44280336 3.43075357 3.41733811 3.40234928 3.38580566\n",
      " 3.36806441 3.34979861 3.33181418 3.31476556 3.29889657 3.28405577\n",
      " 3.26961281 3.25432277 3.23590972 3.21050096 3.17307158 3.12166844\n",
      " 3.06259466 3.00391883 2.94329241 2.86712943 2.7533497  2.56740426\n",
      " 2.30001003 2.47800355 2.8010386  2.84090324 2.85458706 2.86124065\n",
      " 2.86554159 2.86835485 2.87022887 2.87159296 2.87267996 2.87354434\n",
      " 2.87436354 2.87504485 2.87556917 2.87605663 2.8764521  2.87675584\n",
      " 2.8770358  2.87725782 2.8774257  2.87758093 2.87770689 2.87780657\n",
      " 2.87788297 2.87793906 2.87798207 2.87801417 2.87803807 2.87805721\n",
      " 2.87807503 2.87807429 2.8780497  2.87801885 2.87798455 2.87794962\n",
      " 2.87791688 2.87788915 2.87786925 2.87785998 2.87786418 2.87788466\n",
      " 2.87791495 2.87788579 2.87785897 2.87783551 2.87781644 2.8778028\n",
      " 2.87779562 2.87779592 2.87780474 2.87782311 2.87785206 2.87789262\n",
      " 2.87791188 2.87791986 2.87792922 2.87793995 2.87795209 2.87796563\n",
      " 2.8779806  2.877997   2.87801486 2.87803419 2.87805499 2.87807519\n",
      " 2.87809042 2.87810511 2.87811911 2.87813227 2.87814444 2.87815548\n",
      " 2.87816524 2.87817356 2.87818031 2.87818532 2.87818846 2.87819613\n",
      " 2.87820395 2.87821103 2.87821738 2.878223   2.87822788 2.87823203\n",
      " 2.87823545 2.87823813 2.87824009 2.87824131 2.87824179 2.87824154\n",
      " 2.87824056 2.87823885 2.87823641 2.87823323 2.87822931 2.87822697\n",
      " 2.87822938 2.87823159 2.87823359 2.87823538 2.87823697 2.87823835\n",
      " 2.87823952 2.87824048 2.87824124 2.87824179 2.87824213 2.87824226\n",
      " 2.87824219 2.87824191 2.87824142 2.87824073 2.87823983 2.87823872\n",
      " 2.8782374  2.87823588 2.87823415 2.87823221 2.87823006 2.87822771\n",
      " 2.87822515 2.87822238 2.87821941 2.87821702 2.87821659 2.87821616\n",
      " 2.87821571 2.87821526 2.8782148  2.87821433 2.87821386 2.87821338\n",
      " 2.87821289 2.87821239 2.87821189 2.87821138 2.87821086 2.87821034\n",
      " 2.8782098  2.87820926 2.87820872 2.87820816 2.8782076  2.87820703\n",
      " 2.87820646 2.87820587 2.87820528 2.87820469 2.87820408 2.87820347\n",
      " 2.87820285 2.87820236 2.87820226 2.87820216 2.87820206 2.87820196\n",
      " 2.87820186 2.87820176 2.87820166 2.87820156 2.87820147 2.87820137\n",
      " 2.87820127 2.87820117 2.87820107 2.87820097 2.87820087 2.87820077\n",
      " 2.87820067 2.87820058 2.87820048 2.87820038 2.87820028 2.87820018\n",
      " 2.87820008 2.87819998 2.87819988 2.87819978 2.87819968 2.87819959\n",
      " 2.87819949 2.87819939]\n"
     ]
    },
    {
     "name": "stderr",
     "output_type": "stream",
     "text": [
      "2024-04-02 22:14:41.015 - [WARNING] simulation.solve(590): Ignoring t_eval as solution times are specified by the experiment\n"
     ]
    },
    {
     "name": "stdout",
     "output_type": "stream",
     "text": [
      "Terminal Voltage: [4.03635574 3.94216222 3.93096432 3.92355714 3.91133262 3.89510077\n",
      " 3.87711307 3.85894122 3.84177565 3.82576744 3.81125519 3.79786192\n",
      " 3.78538264 3.77344775 3.76173239 3.7497607  3.73687999 3.72204262\n",
      " 3.70403072 3.68259638 3.65965868 3.63805896 3.6187448  3.60126226\n",
      " 3.58517583 3.57034366 3.55665486 3.54403032 3.53241578 3.5216871\n",
      " 3.51156449 3.50184804 3.49240887 3.48309133 3.47368349 3.4639888\n",
      " 3.45378726 3.44280336 3.43075357 3.41733811 3.40234928 3.38580566\n",
      " 3.36806441 3.34979861 3.33181418 3.31476556 3.29889657 3.28405577\n",
      " 3.26961281 3.25432277 3.23590972 3.21050096 3.17307158 3.12166844\n",
      " 3.06259466 3.00391883 2.94329241 2.86712943 2.7533497  2.56740426\n",
      " 2.30001003 2.47800355 2.8010386  2.84090324 2.85458706 2.86124065\n",
      " 2.86554159 2.86835485 2.87022887 2.87159296 2.87267996 2.87354434\n",
      " 2.87436354 2.87504485 2.87556917 2.87605663 2.8764521  2.87675584\n",
      " 2.8770358  2.87725782 2.8774257  2.87758093 2.87770689 2.87780657\n",
      " 2.87788297 2.87793906 2.87798207 2.87801417 2.87803807 2.87805721\n",
      " 2.87807503 2.87807429 2.8780497  2.87801885 2.87798455 2.87794962\n",
      " 2.87791688 2.87788915 2.87786925 2.87785998 2.87786418 2.87788466\n",
      " 2.87791495 2.87788579 2.87785897 2.87783551 2.87781644 2.8778028\n",
      " 2.87779562 2.87779592 2.87780474 2.87782311 2.87785206 2.87789262\n",
      " 2.87791188 2.87791986 2.87792922 2.87793995 2.87795209 2.87796563\n",
      " 2.8779806  2.877997   2.87801486 2.87803419 2.87805499 2.87807519\n",
      " 2.87809042 2.87810511 2.87811911 2.87813227 2.87814444 2.87815548\n",
      " 2.87816524 2.87817356 2.87818031 2.87818532 2.87818846 2.87819613\n",
      " 2.87820395 2.87821103 2.87821738 2.878223   2.87822788 2.87823203\n",
      " 2.87823545 2.87823813 2.87824009 2.87824131 2.87824179 2.87824154\n",
      " 2.87824056 2.87823885 2.87823641 2.87823323 2.87822931 2.87822697\n",
      " 2.87822938 2.87823159 2.87823359 2.87823538 2.87823697 2.87823835\n",
      " 2.87823952 2.87824048 2.87824124 2.87824179 2.87824213 2.87824226\n",
      " 2.87824219 2.87824191 2.87824142 2.87824073 2.87823983 2.87823872\n",
      " 2.8782374  2.87823588 2.87823415 2.87823221 2.87823006 2.87822771\n",
      " 2.87822515 2.87822238 2.87821941 2.87821702 2.87821659 2.87821616\n",
      " 2.87821571 2.87821526 2.8782148  2.87821433 2.87821386 2.87821338\n",
      " 2.87821289 2.87821239 2.87821189 2.87821138 2.87821086 2.87821034\n",
      " 2.8782098  2.87820926 2.87820872 2.87820816 2.8782076  2.87820703\n",
      " 2.87820646 2.87820587 2.87820528 2.87820469 2.87820408 2.87820347\n",
      " 2.87820285 2.87820236 2.87820226 2.87820216 2.87820206 2.87820196\n",
      " 2.87820186 2.87820176 2.87820166 2.87820156 2.87820147 2.87820137\n",
      " 2.87820127 2.87820117 2.87820107 2.87820097 2.87820087 2.87820077\n",
      " 2.87820067 2.87820058 2.87820048 2.87820038 2.87820028 2.87820018\n",
      " 2.87820008 2.87819998 2.87819988 2.87819978 2.87819968 2.87819959\n",
      " 2.87819949 2.87819939]\n",
      "Terminal Voltage: [4.03635574 3.94216222 3.93096432 3.92355714 3.91133262 3.89510077\n",
      " 3.87711307 3.85894122 3.84177565 3.82576744 3.81125519 3.79786192\n",
      " 3.78538264 3.77344775 3.76173239 3.7497607  3.73687999 3.72204262\n",
      " 3.70403072 3.68259638 3.65965868 3.63805896 3.6187448  3.60126226\n",
      " 3.58517583 3.57034366 3.55665486 3.54403032 3.53241578 3.5216871\n",
      " 3.51156449 3.50184804 3.49240887 3.48309133 3.47368349 3.4639888\n",
      " 3.45378726 3.44280336 3.43075357 3.41733811 3.40234928 3.38580566\n",
      " 3.36806441 3.34979861 3.33181418 3.31476556 3.29889657 3.28405577\n",
      " 3.26961281 3.25432277 3.23590972 3.21050096 3.17307158 3.12166844\n",
      " 3.06259466 3.00391883 2.94329241 2.86712943 2.7533497  2.56740426\n",
      " 2.30001003 2.47800355 2.8010386  2.84090324 2.85458706 2.86124065\n",
      " 2.86554159 2.86835485 2.87022887 2.87159296 2.87267996 2.87354434\n",
      " 2.87436354 2.87504485 2.87556917 2.87605663 2.8764521  2.87675584\n",
      " 2.8770358  2.87725782 2.8774257  2.87758093 2.87770689 2.87780657\n",
      " 2.87788297 2.87793906 2.87798207 2.87801417 2.87803807 2.87805721\n",
      " 2.87807503 2.87807429 2.8780497  2.87801885 2.87798455 2.87794962\n",
      " 2.87791688 2.87788915 2.87786925 2.87785998 2.87786418 2.87788466\n",
      " 2.87791495 2.87788579 2.87785897 2.87783551 2.87781644 2.8778028\n",
      " 2.87779562 2.87779592 2.87780474 2.87782311 2.87785206 2.87789262\n",
      " 2.87791188 2.87791986 2.87792922 2.87793995 2.87795209 2.87796563\n",
      " 2.8779806  2.877997   2.87801486 2.87803419 2.87805499 2.87807519\n",
      " 2.87809042 2.87810511 2.87811911 2.87813227 2.87814444 2.87815548\n",
      " 2.87816524 2.87817356 2.87818031 2.87818532 2.87818846 2.87819613\n",
      " 2.87820395 2.87821103 2.87821738 2.878223   2.87822788 2.87823203\n",
      " 2.87823545 2.87823813 2.87824009 2.87824131 2.87824179 2.87824154\n",
      " 2.87824056 2.87823885 2.87823641 2.87823323 2.87822931 2.87822697\n",
      " 2.87822938 2.87823159 2.87823359 2.87823538 2.87823697 2.87823835\n",
      " 2.87823952 2.87824048 2.87824124 2.87824179 2.87824213 2.87824226\n",
      " 2.87824219 2.87824191 2.87824142 2.87824073 2.87823983 2.87823872\n",
      " 2.8782374  2.87823588 2.87823415 2.87823221 2.87823006 2.87822771\n",
      " 2.87822515 2.87822238 2.87821941 2.87821702 2.87821659 2.87821616\n",
      " 2.87821571 2.87821526 2.8782148  2.87821433 2.87821386 2.87821338\n",
      " 2.87821289 2.87821239 2.87821189 2.87821138 2.87821086 2.87821034\n",
      " 2.8782098  2.87820926 2.87820872 2.87820816 2.8782076  2.87820703\n",
      " 2.87820646 2.87820587 2.87820528 2.87820469 2.87820408 2.87820347\n",
      " 2.87820285 2.87820236 2.87820226 2.87820216 2.87820206 2.87820196\n",
      " 2.87820186 2.87820176 2.87820166 2.87820156 2.87820147 2.87820137\n",
      " 2.87820127 2.87820117 2.87820107 2.87820097 2.87820087 2.87820077\n",
      " 2.87820067 2.87820058 2.87820048 2.87820038 2.87820028 2.87820018\n",
      " 2.87820008 2.87819998 2.87819988 2.87819978 2.87819968 2.87819959\n",
      " 2.87819949 2.87819939]\n"
     ]
    }
   ],
   "source": [
    "import pybamm\n",
    "\n",
    "# Define the model\n",
    "model = pybamm.lithium_ion.SPMe()\n",
    "\n",
    "# 초기 배터리 정보\n",
    "param = pybamm.ParameterValues(\"Chen2020\")\n",
    "\n",
    "#  방전 후 사용\n",
    "experiment = pybamm.Experiment(\n",
    "    [\n",
    "        \"Discharge at 1C until 2.3V\",\n",
    "        \"Rest for 3 hours\"\n",
    "    ]\n",
    ")\n",
    "\n",
    "# Solver settings\n",
    "fast_solver = pybamm.CasadiSolver(atol=1e-3, rtol=1e-3, mode=\"fast\")\n",
    "\n",
    "# Create simulation\n",
    "fast_sim = pybamm.Simulation(model, parameter_values=param, experiment=experiment, solver=fast_solver)\n",
    "\n",
    "# Define action function\n",
    "def action(current, delta_t):\n",
    "    global start_hour\n",
    "    end_hour = start_hour + delta_t\n",
    "    pybamm.step.string(f\"Charge at {current}C for {delta_t} min\")\n",
    "    solution = fast_sim.solve([start_hour, end_hour])\n",
    "    start_hour = end_hour\n",
    "    voltage = solution[\"Terminal voltage [V]\"].entries[:]  # Get terminal voltage\n",
    "    time = solution[\"Terminal voltage [V]\"].entries[:]  # Get terminal voltage\n",
    "    print(\"Terminal Voltage:\", voltage)\n",
    "    \n",
    "\n",
    "# Perform actions\n",
    "start_hour = 0\n",
    "for i in range(6):\n",
    "    action(1, 10)\n"
   ]
  },
  {
   "cell_type": "code",
   "execution_count": 81,
   "metadata": {},
   "outputs": [
    {
     "name": "stderr",
     "output_type": "stream",
     "text": [
      "2024-04-02 19:41:23.051 - [INFO] base_model._build_model(652): Start building full thermal model\n",
      "2024-04-02 19:41:23.190 - [INFO] base_battery_model.build_model(1073): Finish building full thermal model\n",
      "2024-04-02 19:41:23.221 - [INFO] base_model._build_model(652): Start building lumped thermal model\n",
      "2024-04-02 19:41:23.352 - [INFO] base_battery_model.build_model(1073): Finish building lumped thermal model\n",
      "2024-04-02 19:41:23.375 - [INFO] parameter_values.process_model(394): Start setting parameters for full thermal model\n",
      "2024-04-02 19:41:23.718 - [INFO] parameter_values.process_model(463): Finish setting parameters for full thermal model\n",
      "2024-04-02 19:41:23.718 - [INFO] discretisation.process_model(145): Start discretising full thermal model\n",
      "2024-04-02 19:41:23.767 - [INFO] discretisation.remove_independent_variables_from_rhs(1126): removing variable Discharge capacity [A.h] from rhs\n",
      "2024-04-02 19:41:23.767 - [INFO] discretisation.remove_independent_variables_from_rhs(1126): removing variable Throughput capacity [A.h] from rhs\n",
      "2024-04-02 19:41:24.645 - [INFO] discretisation.process_model(247): Finish discretising full thermal model\n",
      "2024-04-02 19:41:24.647 - [INFO] base_solver.solve(740): Start solving full thermal model with CasADi solver with 'safe' mode\n",
      "2024-04-02 19:41:24.648 - [INFO] base_solver.set_up(117): Start solver set-up\n",
      "2024-04-02 19:41:25.201 - [INFO] base_solver.set_up(286): Finish solver set-up\n",
      "2024-04-02 19:41:25.985 - [INFO] base_solver.solve(973): Finish solving full thermal model (the solver successfully reached the end of the integration interval)\n",
      "2024-04-02 19:41:25.986 - [INFO] base_solver.solve(974): Set-up time: 548.026 ms, Solve time: 782.443 ms (of which integration time: 476.006 ms), Total time: 1.330 s\n",
      "2024-04-02 19:41:25.986 - [INFO] parameter_values.process_model(394): Start setting parameters for lumped thermal model\n",
      "2024-04-02 19:41:26.116 - [INFO] parameter_values.process_model(463): Finish setting parameters for lumped thermal model\n",
      "2024-04-02 19:41:26.116 - [INFO] discretisation.process_model(145): Start discretising lumped thermal model\n",
      "2024-04-02 19:41:26.133 - [INFO] discretisation.remove_independent_variables_from_rhs(1126): removing variable Discharge capacity [A.h] from rhs\n",
      "2024-04-02 19:41:26.133 - [INFO] discretisation.remove_independent_variables_from_rhs(1126): removing variable Throughput capacity [A.h] from rhs\n",
      "2024-04-02 19:41:26.467 - [INFO] discretisation.process_model(247): Finish discretising lumped thermal model\n",
      "2024-04-02 19:41:26.467 - [INFO] base_solver.solve(740): Start solving lumped thermal model with CasADi solver with 'safe' mode\n",
      "2024-04-02 19:41:26.478 - [INFO] base_solver.set_up(117): Start solver set-up\n",
      "2024-04-02 19:41:26.653 - [INFO] base_solver.set_up(286): Finish solver set-up\n",
      "2024-04-02 19:41:26.883 - [INFO] base_solver.solve(973): Finish solving lumped thermal model (the solver successfully reached the end of the integration interval)\n",
      "2024-04-02 19:41:26.883 - [INFO] base_solver.solve(974): Set-up time: 175.915 ms, Solve time: 236.243 ms (of which integration time: 145.251 ms), Total time: 412.158 ms\n"
     ]
    },
    {
     "data": {
      "application/vnd.jupyter.widget-view+json": {
       "model_id": "fc8a96c5c656481588b7228b0c5f4f8b",
       "version_major": 2,
       "version_minor": 0
      },
      "text/plain": [
       "interactive(children=(FloatSlider(value=0.0, description='t', max=1.0, step=0.01), Output()), _dom_classes=('w…"
      ]
     },
     "metadata": {},
     "output_type": "display_data"
    },
    {
     "data": {
      "text/plain": [
       "<pybamm.plotting.quick_plot.QuickPlot at 0x1ec45e08130>"
      ]
     },
     "execution_count": 81,
     "metadata": {},
     "output_type": "execute_result"
    }
   ],
   "source": [
    "#\n",
    "# Compares the full and lumped thermal models for a single layer Li-ion cell\n",
    "#\n",
    "import pybamm\n",
    "\n",
    "pybamm.set_logging_level(\"INFO\")\n",
    "\n",
    "# load models\n",
    "# for the full model we use the \"x-full\" thermal submodel, which means that we solve\n",
    "# the thermal model in the x-direction for a single-layer pouch cell\n",
    "# for the lumped model we use the \"arbitrary\" cell geometry, which means that we can\n",
    "# specify the surface area for cooling and total heat transfer coefficient\n",
    "full_thermal_model = pybamm.lithium_ion.SPMe(\n",
    "    {\"thermal\": \"x-full\"}, name=\"full thermal model\"\n",
    ")\n",
    "lumped_thermal_model = pybamm.lithium_ion.SPMe(\n",
    "    {\"cell geometry\": \"arbitrary\", \"thermal\": \"lumped\"}, name=\"lumped thermal model\"\n",
    ")\n",
    "models = [full_thermal_model, lumped_thermal_model]\n",
    "\n",
    "# load parameter values, we will use the Marquis2019 parameter set\n",
    "parameter_values = pybamm.ParameterValues(\"Marquis2019\")\n",
    "# for the \"full\" model we use a heat transfer coefficient of 5 W.m-2.K-1 on the large\n",
    "# surfaces of the pouch and zero heat transfer coefficient on the tabs and edges\n",
    "full_params = parameter_values.copy()\n",
    "full_params.update(\n",
    "    {\n",
    "        \"Negative current collector surface heat transfer coefficient [W.m-2.K-1]\"\n",
    "        \"\": 5,\n",
    "        \"Positive current collector surface heat transfer coefficient [W.m-2.K-1]\"\n",
    "        \"\": 5,\n",
    "        \"Negative tab heat transfer coefficient [W.m-2.K-1]\": 0,\n",
    "        \"Positive tab heat transfer coefficient [W.m-2.K-1]\": 0,\n",
    "        \"Edge heat transfer coefficient [W.m-2.K-1]\": 0,\n",
    "    }\n",
    ")\n",
    "# for the lumped model we set the \"Total heat transfer coefficient [W.m-2.K-1]\"\n",
    "# parameter as well as the \"Cell cooling surface area [m2]\" and \"Cell volume [m3]\n",
    "# parameters. Since the \"full\" model only accounts for cooling from the large surfaces\n",
    "# of the pouch, we set the \"Surface area for cooling [m2]\" parameter to the area of the\n",
    "# large surfaces of the pouch, and the total heat transfer coefficient to 5 W.m-2.K-1\n",
    "A = parameter_values[\"Electrode width [m]\"] * parameter_values[\"Electrode height [m]\"]\n",
    "contributing_layers = [\n",
    "    \"Negative current collector\",\n",
    "    \"Negative electrode\",\n",
    "    \"Separator\",\n",
    "    \"Positive electrode\",\n",
    "    \"Positive current collector\",\n",
    "]\n",
    "total_thickness = sum(\n",
    "    [parameter_values[layer + \" thickness [m]\"] for layer in contributing_layers]\n",
    ")\n",
    "electrode_volume = (\n",
    "    total_thickness\n",
    "    * parameter_values[\"Electrode height [m]\"]\n",
    "    * parameter_values[\"Electrode width [m]\"]\n",
    ")\n",
    "lumped_params = parameter_values.copy()\n",
    "lumped_params.update(\n",
    "    {\n",
    "        \"Total heat transfer coefficient [W.m-2.K-1]\": 5,\n",
    "        \"Cell cooling surface area [m2]\": 2 * A,\n",
    "        \"Cell volume [m3]\": electrode_volume,\n",
    "    }\n",
    ")\n",
    "\n",
    "# loop over the models and solve\n",
    "params = [full_params, lumped_params]\n",
    "sols = []\n",
    "for model, param in zip(models, params):\n",
    "    sim = pybamm.Simulation(model, parameter_values=param)\n",
    "    sim.solve([0, 3600])\n",
    "    sols.append(sim.solution)\n",
    "\n",
    "# plot\n",
    "output_variables = [\n",
    "    \"Voltage [V]\",\n",
    "    \"X-averaged cell temperature [K]\",\n",
    "    \"Cell temperature [K]\",\n",
    "]\n",
    "pybamm.dynamic_plot(sols, output_variables)"
   ]
  },
  {
   "cell_type": "code",
   "execution_count": 82,
   "metadata": {},
   "outputs": [
    {
     "name": "stderr",
     "output_type": "stream",
     "text": [
      "2024-04-02 19:43:26.809 - [INFO] base_model._build_model(652): Start building Doyle-Fuller-Newman model\n",
      "2024-04-02 19:43:26.863 - [INFO] base_battery_model.build_model(1073): Finish building Doyle-Fuller-Newman model\n",
      "2024-04-02 19:43:26.866 - [INFO] callbacks.on_experiment_start(164): Start running experiment\n",
      "2024-04-02 19:43:26.868 - [INFO] parameter_values.process_model(394): Start setting parameters for Doyle-Fuller-Newman model\n",
      "2024-04-02 19:43:26.974 - [INFO] parameter_values.process_model(463): Finish setting parameters for Doyle-Fuller-Newman model\n",
      "2024-04-02 19:43:26.974 - [INFO] parameter_values.process_model(394): Start setting parameters for Doyle-Fuller-Newman model\n",
      "2024-04-02 19:43:27.094 - [INFO] parameter_values.process_model(463): Finish setting parameters for Doyle-Fuller-Newman model\n",
      "2024-04-02 19:43:27.094 - [INFO] parameter_values.process_model(394): Start setting parameters for Doyle-Fuller-Newman model\n",
      "2024-04-02 19:43:27.208 - [INFO] parameter_values.process_model(463): Finish setting parameters for Doyle-Fuller-Newman model\n",
      "2024-04-02 19:43:27.208 - [INFO] parameter_values.process_model(394): Start setting parameters for Doyle-Fuller-Newman model\n",
      "2024-04-02 19:43:27.358 - [INFO] parameter_values.process_model(463): Finish setting parameters for Doyle-Fuller-Newman model\n",
      "2024-04-02 19:43:27.361 - [INFO] parameter_values.process_model(394): Start setting parameters for Doyle-Fuller-Newman model\n",
      "2024-04-02 19:43:27.457 - [INFO] parameter_values.process_model(463): Finish setting parameters for Doyle-Fuller-Newman model\n",
      "2024-04-02 19:43:27.473 - [INFO] discretisation.process_model(145): Start discretising Doyle-Fuller-Newman model\n",
      "2024-04-02 19:43:27.473 - [INFO] discretisation.remove_independent_variables_from_rhs(1126): removing variable Discharge capacity [A.h] from rhs\n",
      "2024-04-02 19:43:27.473 - [INFO] discretisation.remove_independent_variables_from_rhs(1126): removing variable Throughput capacity [A.h] from rhs\n",
      "2024-04-02 19:43:27.789 - [INFO] discretisation.process_model(247): Finish discretising Doyle-Fuller-Newman model\n",
      "2024-04-02 19:43:27.789 - [INFO] discretisation.process_model(145): Start discretising Doyle-Fuller-Newman model\n",
      "2024-04-02 19:43:27.789 - [INFO] discretisation.remove_independent_variables_from_rhs(1126): removing variable Discharge capacity [A.h] from rhs\n",
      "2024-04-02 19:43:27.789 - [INFO] discretisation.remove_independent_variables_from_rhs(1126): removing variable Throughput capacity [A.h] from rhs\n",
      "2024-04-02 19:43:28.135 - [INFO] discretisation.process_model(247): Finish discretising Doyle-Fuller-Newman model\n",
      "2024-04-02 19:43:28.136 - [INFO] discretisation.process_model(145): Start discretising Doyle-Fuller-Newman model\n",
      "2024-04-02 19:43:28.145 - [INFO] discretisation.remove_independent_variables_from_rhs(1126): removing variable Discharge capacity [A.h] from rhs\n",
      "2024-04-02 19:43:28.146 - [INFO] discretisation.remove_independent_variables_from_rhs(1126): removing variable Throughput capacity [A.h] from rhs\n",
      "2024-04-02 19:43:28.465 - [INFO] discretisation.process_model(247): Finish discretising Doyle-Fuller-Newman model\n",
      "2024-04-02 19:43:28.465 - [INFO] discretisation.process_model(145): Start discretising Doyle-Fuller-Newman model\n",
      "2024-04-02 19:43:28.474 - [INFO] discretisation.remove_independent_variables_from_rhs(1126): removing variable Discharge capacity [A.h] from rhs\n",
      "2024-04-02 19:43:28.476 - [INFO] discretisation.remove_independent_variables_from_rhs(1126): removing variable Throughput capacity [A.h] from rhs\n",
      "2024-04-02 19:43:28.793 - [INFO] discretisation.process_model(247): Finish discretising Doyle-Fuller-Newman model\n",
      "2024-04-02 19:43:28.793 - [INFO] discretisation.process_model(145): Start discretising Doyle-Fuller-Newman model\n",
      "2024-04-02 19:43:28.809 - [INFO] discretisation.remove_independent_variables_from_rhs(1126): removing variable Discharge capacity [A.h] from rhs\n",
      "2024-04-02 19:43:28.809 - [INFO] discretisation.remove_independent_variables_from_rhs(1126): removing variable Throughput capacity [A.h] from rhs\n",
      "2024-04-02 19:43:29.095 - [INFO] discretisation.process_model(247): Finish discretising Doyle-Fuller-Newman model\n",
      "2024-04-02 19:43:29.095 - [NOTICE] callbacks.on_cycle_start(172): Cycle 1/1 (55.500 us elapsed) --------------------\n",
      "2024-04-02 19:43:29.095 - [NOTICE] callbacks.on_step_start(180): Cycle 1/1, step 1/7: Charge at 1 A until 4.0 V\n",
      "2024-04-02 19:43:29.095 - [INFO] base_solver.set_up(117): Start solver set-up\n",
      "2024-04-02 19:43:29.175 - [INFO] base_solver.set_up(286): Finish solver set-up\n",
      "2024-04-02 19:43:29.274 - [NOTICE] callbacks.on_step_start(180): Cycle 1/1, step 2/7: Hold at 4.0 V until 50 mA\n",
      "2024-04-02 19:43:29.274 - [INFO] base_solver.set_up(117): Start solver set-up\n",
      "2024-04-02 19:43:29.358 - [INFO] base_solver.set_up(286): Finish solver set-up\n",
      "2024-04-02 19:43:29.485 - [NOTICE] callbacks.on_step_start(180): Cycle 1/1, step 3/7: Rest for 30 minutes\n",
      "2024-04-02 19:43:29.488 - [INFO] base_solver.set_up(117): Start solver set-up\n",
      "2024-04-02 19:43:29.574 - [INFO] base_solver.set_up(286): Finish solver set-up\n",
      "2024-04-02 19:43:29.674 - [NOTICE] callbacks.on_step_start(180): Cycle 1/1, step 4/7: _Step(current, [[  0.           2.18577634]\n",
      " [  1.           2.18577634]\n",
      " [  2.           2.18577634]\n",
      " ...\n",
      " [598.           2.18577634]\n",
      " [599.           2.18577634]\n",
      " [600.           2.18577634]])\n",
      "2024-04-02 19:43:29.679 - [INFO] base_solver.set_up(117): Start solver set-up\n",
      "2024-04-02 19:43:29.837 - [INFO] base_solver.set_up(286): Finish solver set-up\n",
      "2024-04-02 19:43:34.664 - [NOTICE] callbacks.on_step_start(180): Cycle 1/1, step 5/7: Rest for 30 minutes\n",
      "2024-04-02 19:43:34.764 - [NOTICE] callbacks.on_step_start(180): Cycle 1/1, step 6/7: _Step(power, [[  0.           2.18577634]\n",
      " [  1.           2.18577634]\n",
      " [  2.           2.18577634]\n",
      " ...\n",
      " [598.           2.18577634]\n",
      " [599.           2.18577634]\n",
      " [600.           2.18577634]])\n",
      "2024-04-02 19:43:34.778 - [INFO] base_solver.set_up(117): Start solver set-up\n",
      "2024-04-02 19:43:34.863 - [INFO] base_solver.set_up(286): Finish solver set-up\n",
      "2024-04-02 19:43:40.385 - [NOTICE] callbacks.on_step_start(180): Cycle 1/1, step 7/7: Rest for 30 minutes\n",
      "2024-04-02 19:43:40.665 - [INFO] parameter_values.process_model(394): Start setting parameters for ElectrodeSOH model\n",
      "2024-04-02 19:43:40.680 - [INFO] parameter_values.process_model(463): Finish setting parameters for ElectrodeSOH model\n",
      "2024-04-02 19:43:40.697 - [INFO] discretisation.process_model(145): Start discretising ElectrodeSOH model\n",
      "2024-04-02 19:43:40.714 - [INFO] discretisation.process_model(247): Finish discretising ElectrodeSOH model\n",
      "2024-04-02 19:43:40.715 - [INFO] base_solver.solve(740): Start solving ElectrodeSOH model with Algebraic solver (lm)\n",
      "2024-04-02 19:43:40.715 - [INFO] base_solver.set_up(117): Start solver set-up\n",
      "2024-04-02 19:43:40.732 - [INFO] base_solver.set_up(286): Finish solver set-up\n",
      "2024-04-02 19:43:40.732 - [INFO] base_solver.solve(973): Finish solving ElectrodeSOH model (the solver successfully reached the end of the integration interval)\n",
      "2024-04-02 19:43:40.732 - [INFO] base_solver.solve(974): Set-up time: 22.765 ms, Solve time: 2.199 ms (of which integration time: 1.625 ms), Total time: 24.965 ms\n",
      "2024-04-02 19:43:41.130 - [NOTICE] callbacks.on_experiment_end(220): Finish experiment simulation, took 12.028 s\n"
     ]
    },
    {
     "data": {
      "application/vnd.jupyter.widget-view+json": {
       "model_id": "f5dc4839a4ca40a0afb5ea576bb8205d",
       "version_major": 2,
       "version_minor": 0
      },
      "text/plain": [
       "interactive(children=(FloatSlider(value=0.0, description='t', max=2.13580901471914, step=0.0213580901471914), …"
      ]
     },
     "metadata": {},
     "output_type": "display_data"
    },
    {
     "data": {
      "text/plain": [
       "<pybamm.plotting.quick_plot.QuickPlot at 0x1ec3eb47f70>"
      ]
     },
     "execution_count": 82,
     "metadata": {},
     "output_type": "execute_result"
    }
   ],
   "source": [
    "#\n",
    "# Constant-current constant-voltage charge with US06 Drive Cycle using Experiment Class.\n",
    "#\n",
    "import pybamm\n",
    "import pandas as pd\n",
    "import os\n",
    "\n",
    "os.chdir(pybamm.__path__[0] + \"/..\")\n",
    "\n",
    "pybamm.set_logging_level(\"INFO\")\n",
    "\n",
    "# import drive cycle from file\n",
    "drive_cycle_current = pd.read_csv(\n",
    "    \"pybamm/input/drive_cycles/US06.csv\", comment=\"#\", header=None\n",
    ").to_numpy()\n",
    "\n",
    "\n",
    "# Map Drive Cycle\n",
    "def map_drive_cycle(x, min_op_value, max_op_value):\n",
    "    min_ip_value = x[:, 1].min()\n",
    "    max_ip_value = x[:, 1].max()\n",
    "    x[:, 1] = (x[:, 1] - min_ip_value) / (max_ip_value - min_ip_value) * (\n",
    "        max_op_value - min_op_value\n",
    "    ) + min_op_value\n",
    "    return x\n",
    "\n",
    "\n",
    "# Map current drive cycle to voltage and power\n",
    "drive_cycle_power = map_drive_cycle(drive_cycle_current, 1.5, 3.5)\n",
    "\n",
    "experiment = pybamm.Experiment(\n",
    "    [\n",
    "        (\n",
    "            \"Charge at 1 A until 4.0 V\",\n",
    "            \"Hold at 4.0 V until 50 mA\",\n",
    "            \"Rest for 30 minutes\",\n",
    "            pybamm.sSolutiontep.current(drive_cycle_current),\n",
    "            \"Rest for 30 minutes\",\n",
    "            pybamm.step.power(drive_cycle_power),\n",
    "            \"Rest for 30 minutes\",\n",
    "        ),\n",
    "    ],\n",
    ")\n",
    "\n",
    "model = pybamm.lithium_ion.DFN()\n",
    "sim = pybamm.Simulation(model, experiment=experiment, solver=pybamm.CasadiSolver())\n",
    "sim.solve()\n",
    "\n",
    "# Show all plots\n",
    "sim.plot()"
   ]
  }
 ],
 "metadata": {
  "kernelspec": {
   "display_name": "batt",
   "language": "python",
   "name": "python3"
  },
  "language_info": {
   "codemirror_mode": {
    "name": "ipython",
    "version": 3
   },
   "file_extension": ".py",
   "mimetype": "text/x-python",
   "name": "python",
   "nbconvert_exporter": "python",
   "pygments_lexer": "ipython3",
   "version": "3.10.13"
  }
 },
 "nbformat": 4,
 "nbformat_minor": 2
}
