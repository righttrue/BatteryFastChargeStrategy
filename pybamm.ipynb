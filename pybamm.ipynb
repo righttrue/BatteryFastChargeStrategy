{
 "cells": [
  {
   "cell_type": "code",
   "execution_count": 53,
   "metadata": {},
   "outputs": [],
   "source": [
    "import pybamm"
   ]
  },
  {
   "cell_type": "code",
   "execution_count": 54,
   "metadata": {},
   "outputs": [
    {
     "data": {
      "text/plain": [
       "<pybamm.solvers.solution.Solution at 0x2313afe2f20>"
      ]
     },
     "execution_count": 54,
     "metadata": {},
     "output_type": "execute_result"
    }
   ],
   "source": [
    "model = pybamm.lithium_ion.DFN()\n",
    "sim = pybamm.Simulation(model)\n",
    "sim.solve([0, 3600])"
   ]
  },
  {
   "cell_type": "code",
   "execution_count": 55,
   "metadata": {},
   "outputs": [
    {
     "data": {
      "application/vnd.jupyter.widget-view+json": {
       "model_id": "cc16bdbb21ce43c8898739ac541de976",
       "version_major": 2,
       "version_minor": 0
      },
      "text/plain": [
       "interactive(children=(FloatSlider(value=0.0, description='t', max=1.0, step=0.01), Output()), _dom_classes=('w…"
      ]
     },
     "metadata": {},
     "output_type": "display_data"
    },
    {
     "data": {
      "text/plain": [
       "<pybamm.plotting.quick_plot.QuickPlot at 0x2313aab4730>"
      ]
     },
     "execution_count": 55,
     "metadata": {},
     "output_type": "execute_result"
    }
   ],
   "source": [
    "sim.plot()"
   ]
  },
  {
   "cell_type": "code",
   "execution_count": 56,
   "metadata": {},
   "outputs": [
    {
     "data": {
      "application/vnd.jupyter.widget-view+json": {
       "model_id": "8322ba4966614dadb6abf438cbf8ba84",
       "version_major": 2,
       "version_minor": 0
      },
      "text/plain": [
       "interactive(children=(FloatSlider(value=0.0, description='t', max=1.0, step=0.01), Output()), _dom_classes=('w…"
      ]
     },
     "metadata": {},
     "output_type": "display_data"
    },
    {
     "data": {
      "text/plain": [
       "<pybamm.plotting.quick_plot.QuickPlot at 0x2313ae1cdf0>"
      ]
     },
     "execution_count": 56,
     "metadata": {},
     "output_type": "execute_result"
    }
   ],
   "source": [
    "output_variables = [\"Electrolyte concentration [mol.m-3]\", \"Voltage [V]\"]\n",
    "sim.plot(output_variables=output_variables)"
   ]
  },
  {
   "cell_type": "code",
   "execution_count": 57,
   "metadata": {},
   "outputs": [
    {
     "data": {
      "application/vnd.jupyter.widget-view+json": {
       "model_id": "62f2a39293f14332a87aad86468c3a97",
       "version_major": 2,
       "version_minor": 0
      },
      "text/plain": [
       "interactive(children=(FloatSlider(value=0.0, description='t', max=1.0, step=0.01), Output()), _dom_classes=('w…"
      ]
     },
     "metadata": {},
     "output_type": "display_data"
    },
    {
     "data": {
      "text/plain": [
       "<pybamm.plotting.quick_plot.QuickPlot at 0x2313a8cc130>"
      ]
     },
     "execution_count": 57,
     "metadata": {},
     "output_type": "execute_result"
    }
   ],
   "source": [
    "output_variables = [\"Voltage [V]\"]\n",
    "sim.plot(output_variables=output_variables)"
   ]
  },
  {
   "cell_type": "code",
   "execution_count": 58,
   "metadata": {},
   "outputs": [
    {
     "data": {
      "application/vnd.jupyter.widget-view+json": {
       "model_id": "a3eb4adb2d51411ebfb470556f0b4bdf",
       "version_major": 2,
       "version_minor": 0
      },
      "text/plain": [
       "interactive(children=(FloatSlider(value=0.0, description='t', max=1.0, step=0.01), Output()), _dom_classes=('w…"
      ]
     },
     "metadata": {},
     "output_type": "display_data"
    },
    {
     "data": {
      "text/plain": [
       "<pybamm.plotting.quick_plot.QuickPlot at 0x2313a8cd330>"
      ]
     },
     "execution_count": 58,
     "metadata": {},
     "output_type": "execute_result"
    }
   ],
   "source": [
    "sim.plot(\n",
    "    [\n",
    "        [\"Electrode current density [A.m-2]\", \"Electrolyte current density [A.m-2]\"],\n",
    "        \"Voltage [V]\",\n",
    "    ]\n",
    ")"
   ]
  },
  {
   "cell_type": "code",
   "execution_count": 59,
   "metadata": {},
   "outputs": [
    {
     "data": {
      "text/plain": [
       "['Time [s]',\n",
       " 'Time [min]',\n",
       " 'Time [h]',\n",
       " 'x [m]',\n",
       " 'x_n [m]',\n",
       " 'x_s [m]',\n",
       " 'x_p [m]',\n",
       " 'r_n [m]',\n",
       " 'r_p [m]',\n",
       " 'Current variable [A]',\n",
       " 'Total current density [A.m-2]',\n",
       " 'Current [A]',\n",
       " 'C-rate',\n",
       " 'Discharge capacity [A.h]',\n",
       " 'Throughput capacity [A.h]',\n",
       " 'Discharge energy [W.h]',\n",
       " 'Throughput energy [W.h]',\n",
       " 'Porosity',\n",
       " 'Negative electrode porosity',\n",
       " 'X-averaged negative electrode porosity',\n",
       " 'Separator porosity',\n",
       " 'X-averaged separator porosity',\n",
       " 'Positive electrode porosity',\n",
       " 'X-averaged positive electrode porosity',\n",
       " 'Porosity change',\n",
       " 'Negative electrode porosity change [s-1]',\n",
       " 'X-averaged negative electrode porosity change [s-1]',\n",
       " 'Separator porosity change [s-1]',\n",
       " 'X-averaged separator porosity change [s-1]',\n",
       " 'Positive electrode porosity change [s-1]',\n",
       " 'X-averaged positive electrode porosity change [s-1]',\n",
       " 'Negative electrode interface utilisation variable',\n",
       " 'X-averaged negative electrode interface utilisation variable',\n",
       " 'Negative electrode interface utilisation',\n",
       " 'X-averaged negative electrode interface utilisation',\n",
       " 'Positive electrode interface utilisation variable',\n",
       " 'X-averaged positive electrode interface utilisation variable',\n",
       " 'Positive electrode interface utilisation',\n",
       " 'X-averaged positive electrode interface utilisation',\n",
       " 'Negative particle crack length [m]',\n",
       " 'X-averaged negative particle crack length [m]',\n",
       " 'Negative particle cracking rate [m.s-1]',\n",
       " 'X-averaged negative particle cracking rate [m.s-1]',\n",
       " 'Positive particle crack length [m]',\n",
       " 'X-averaged positive particle crack length [m]',\n",
       " 'Positive particle cracking rate [m.s-1]',\n",
       " 'X-averaged positive particle cracking rate [m.s-1]',\n",
       " 'Negative electrode active material volume fraction',\n",
       " 'X-averaged negative electrode active material volume fraction',\n",
       " 'Negative electrode capacity [A.h]',\n",
       " 'Negative particle radius',\n",
       " 'Negative particle radius [m]',\n",
       " 'X-averaged negative particle radius [m]',\n",
       " 'Negative electrode surface area to volume ratio [m-1]',\n",
       " 'X-averaged negative electrode surface area to volume ratio [m-1]',\n",
       " 'Negative electrode active material volume fraction change [s-1]',\n",
       " 'X-averaged negative electrode active material volume fraction change [s-1]',\n",
       " 'Loss of lithium due to loss of active material in negative electrode [mol]',\n",
       " 'Positive electrode active material volume fraction',\n",
       " 'X-averaged positive electrode active material volume fraction',\n",
       " 'Positive electrode capacity [A.h]',\n",
       " 'Positive particle radius',\n",
       " 'Positive particle radius [m]',\n",
       " 'X-averaged positive particle radius [m]',\n",
       " 'Positive electrode surface area to volume ratio [m-1]',\n",
       " 'X-averaged positive electrode surface area to volume ratio [m-1]',\n",
       " 'Positive electrode active material volume fraction change [s-1]',\n",
       " 'X-averaged positive electrode active material volume fraction change [s-1]',\n",
       " 'Loss of lithium due to loss of active material in positive electrode [mol]',\n",
       " 'Separator pressure [Pa]',\n",
       " 'X-averaged separator pressure [Pa]',\n",
       " 'negative electrode transverse volume-averaged velocity [m.s-1]',\n",
       " 'X-averaged negative electrode transverse volume-averaged velocity [m.s-1]',\n",
       " 'separator transverse volume-averaged velocity [m.s-1]',\n",
       " 'X-averaged separator transverse volume-averaged velocity [m.s-1]',\n",
       " 'positive electrode transverse volume-averaged velocity [m.s-1]',\n",
       " 'X-averaged positive electrode transverse volume-averaged velocity [m.s-1]',\n",
       " 'Transverse volume-averaged velocity [m.s-1]',\n",
       " 'negative electrode transverse volume-averaged acceleration [m.s-2]',\n",
       " 'X-averaged negative electrode transverse volume-averaged acceleration [m.s-2]',\n",
       " 'separator transverse volume-averaged acceleration [m.s-2]',\n",
       " 'X-averaged separator transverse volume-averaged acceleration [m.s-2]',\n",
       " 'positive electrode transverse volume-averaged acceleration [m.s-2]',\n",
       " 'X-averaged positive electrode transverse volume-averaged acceleration [m.s-2]',\n",
       " 'Transverse volume-averaged acceleration [m.s-2]',\n",
       " 'Negative electrode volume-averaged velocity [m.s-1]',\n",
       " 'Negative electrode volume-averaged acceleration [m.s-2]',\n",
       " 'X-averaged negative electrode volume-averaged acceleration [m.s-2]',\n",
       " 'Negative electrode pressure [Pa]',\n",
       " 'X-averaged negative electrode pressure [Pa]',\n",
       " 'Positive electrode volume-averaged velocity [m.s-1]',\n",
       " 'Positive electrode volume-averaged acceleration [m.s-2]',\n",
       " 'X-averaged positive electrode volume-averaged acceleration [m.s-2]',\n",
       " 'Positive electrode pressure [Pa]',\n",
       " 'X-averaged positive electrode pressure [Pa]',\n",
       " 'Negative particle concentration [mol.m-3]',\n",
       " 'X-averaged negative particle concentration [mol.m-3]',\n",
       " 'R-averaged negative particle concentration [mol.m-3]',\n",
       " 'Average negative particle concentration [mol.m-3]',\n",
       " 'Negative particle surface concentration [mol.m-3]',\n",
       " 'X-averaged negative particle surface concentration [mol.m-3]',\n",
       " 'Minimum negative particle concentration [mol.m-3]',\n",
       " 'Maximum negative particle concentration [mol.m-3]',\n",
       " 'Minimum negative particle Minimum negative particle surface concentration [mol.m-3]',\n",
       " 'Maximum negative particle surface concentration [mol.m-3]',\n",
       " 'Negative particle concentration',\n",
       " 'X-averaged negative particle concentration',\n",
       " 'R-averaged negative particle concentration',\n",
       " 'Average negative particle concentration',\n",
       " 'Negative particle surface concentration',\n",
       " 'X-averaged negative particle surface concentration',\n",
       " 'Minimum negative particle concentration',\n",
       " 'Maximum negative particle concentration',\n",
       " 'Minimum negative particle surface concentration',\n",
       " 'Maximum negative particle surface concentration',\n",
       " 'Negative particle stoichiometry',\n",
       " 'X-averaged negative particle stoichiometry',\n",
       " 'R-averaged negative particle stoichiometry',\n",
       " 'Average negative particle stoichiometry',\n",
       " 'Negative particle surface stoichiometry',\n",
       " 'X-averaged negative particle surface stoichiometry',\n",
       " 'Minimum negative particle stoichiometry',\n",
       " 'Maximum negative particle stoichiometry',\n",
       " 'Minimum negative particle surface stoichiometry',\n",
       " 'Maximum negative particle surface stoichiometry',\n",
       " 'Negative electrode extent of lithiation',\n",
       " 'X-averaged negative electrode extent of lithiation',\n",
       " 'Positive particle concentration [mol.m-3]',\n",
       " 'X-averaged positive particle concentration [mol.m-3]',\n",
       " 'R-averaged positive particle concentration [mol.m-3]',\n",
       " 'Average positive particle concentration [mol.m-3]',\n",
       " 'Positive particle surface concentration [mol.m-3]',\n",
       " 'X-averaged positive particle surface concentration [mol.m-3]',\n",
       " 'Minimum positive particle concentration [mol.m-3]',\n",
       " 'Maximum positive particle concentration [mol.m-3]',\n",
       " 'Minimum positive particle Minimum positive particle surface concentration [mol.m-3]',\n",
       " 'Maximum positive particle surface concentration [mol.m-3]',\n",
       " 'Positive particle concentration',\n",
       " 'X-averaged positive particle concentration',\n",
       " 'R-averaged positive particle concentration',\n",
       " 'Average positive particle concentration',\n",
       " 'Positive particle surface concentration',\n",
       " 'X-averaged positive particle surface concentration',\n",
       " 'Minimum positive particle concentration',\n",
       " 'Maximum positive particle concentration',\n",
       " 'Minimum positive particle surface concentration',\n",
       " 'Maximum positive particle surface concentration',\n",
       " 'Positive particle stoichiometry',\n",
       " 'X-averaged positive particle stoichiometry',\n",
       " 'R-averaged positive particle stoichiometry',\n",
       " 'Average positive particle stoichiometry',\n",
       " 'Positive particle surface stoichiometry',\n",
       " 'X-averaged positive particle surface stoichiometry',\n",
       " 'Minimum positive particle stoichiometry',\n",
       " 'Maximum positive particle stoichiometry',\n",
       " 'Minimum positive particle surface stoichiometry',\n",
       " 'Maximum positive particle surface stoichiometry',\n",
       " 'Positive electrode extent of lithiation',\n",
       " 'X-averaged positive electrode extent of lithiation',\n",
       " 'Negative electrode potential [V]',\n",
       " 'X-averaged negative electrode potential [V]',\n",
       " 'Negative electrode ohmic losses [V]',\n",
       " 'X-averaged negative electrode ohmic losses [V]',\n",
       " 'Gradient of negative electrode potential [V.m-1]',\n",
       " 'Positive electrode potential [V]',\n",
       " 'X-averaged positive electrode potential [V]',\n",
       " 'Positive electrode ohmic losses [V]',\n",
       " 'X-averaged positive electrode ohmic losses [V]',\n",
       " 'Gradient of positive electrode potential [V.m-1]',\n",
       " 'Porosity times concentration [mol.m-3]',\n",
       " 'Negative electrode porosity times concentration [mol.m-3]',\n",
       " 'Separator porosity times concentration [mol.m-3]',\n",
       " 'Positive electrode porosity times concentration [mol.m-3]',\n",
       " 'Total lithium in electrolyte [mol]',\n",
       " 'Electrolyte potential [V]',\n",
       " 'X-averaged electrolyte potential [V]',\n",
       " 'X-averaged electrolyte overpotential [V]',\n",
       " 'Gradient of electrolyte potential [V.m-1]',\n",
       " 'Negative electrolyte potential [V]',\n",
       " 'X-averaged negative electrolyte potential [V]',\n",
       " 'Gradient of negative electrolyte potential [V.m-1]',\n",
       " 'Separator electrolyte potential [V]',\n",
       " 'X-averaged separator electrolyte potential [V]',\n",
       " 'Gradient of separator electrolyte potential [V.m-1]',\n",
       " 'Positive electrolyte potential [V]',\n",
       " 'X-averaged positive electrolyte potential [V]',\n",
       " 'Gradient of positive electrolyte potential [V.m-1]',\n",
       " 'Ambient temperature [K]',\n",
       " 'Volume-averaged ambient temperature [K]',\n",
       " 'Cell temperature [K]',\n",
       " 'Negative current collector temperature [K]',\n",
       " 'Positive current collector temperature [K]',\n",
       " 'X-averaged cell temperature [K]',\n",
       " 'Volume-averaged cell temperature [K]',\n",
       " 'Negative electrode temperature [K]',\n",
       " 'X-averaged negative electrode temperature [K]',\n",
       " 'Separator temperature [K]',\n",
       " 'X-averaged separator temperature [K]',\n",
       " 'Positive electrode temperature [K]',\n",
       " 'X-averaged positive electrode temperature [K]',\n",
       " 'Ambient temperature [C]',\n",
       " 'Volume-averaged ambient temperature [C]',\n",
       " 'Cell temperature [C]',\n",
       " 'Negative current collector temperature [C]',\n",
       " 'Positive current collector temperature [C]',\n",
       " 'X-averaged cell temperature [C]',\n",
       " 'Volume-averaged cell temperature [C]',\n",
       " 'Negative electrode temperature [C]',\n",
       " 'X-averaged negative electrode temperature [C]',\n",
       " 'Separator temperature [C]',\n",
       " 'X-averaged separator temperature [C]',\n",
       " 'Positive electrode temperature [C]',\n",
       " 'X-averaged positive electrode temperature [C]',\n",
       " 'Negative current collector potential [V]',\n",
       " 'Negative inner SEI thickness [m]',\n",
       " 'Negative outer SEI thickness [m]',\n",
       " 'X-averaged negative inner SEI thickness [m]',\n",
       " 'X-averaged negative outer SEI thickness [m]',\n",
       " 'Negative SEI [m]',\n",
       " 'Negative total SEI thickness [m]',\n",
       " 'X-averaged negative SEI thickness [m]',\n",
       " 'X-averaged negative total SEI thickness [m]',\n",
       " 'X-averaged negative electrode resistance [Ohm.m2]',\n",
       " 'Negative electrode inner SEI interfacial current density [A.m-2]',\n",
       " 'X-averaged negative electrode inner SEI interfacial current density [A.m-2]',\n",
       " 'Negative electrode outer SEI interfacial current density [A.m-2]',\n",
       " 'X-averaged negative electrode outer SEI interfacial current density [A.m-2]',\n",
       " 'Negative electrode SEI interfacial current density [A.m-2]',\n",
       " 'X-averaged negative electrode SEI interfacial current density [A.m-2]',\n",
       " 'Positive inner SEI thickness [m]',\n",
       " 'Positive outer SEI thickness [m]',\n",
       " 'X-averaged positive inner SEI thickness [m]',\n",
       " 'X-averaged positive outer SEI thickness [m]',\n",
       " 'Positive SEI [m]',\n",
       " 'Positive total SEI thickness [m]',\n",
       " 'X-averaged positive SEI thickness [m]',\n",
       " 'X-averaged positive total SEI thickness [m]',\n",
       " 'X-averaged positive electrode resistance [Ohm.m2]',\n",
       " 'Positive electrode inner SEI interfacial current density [A.m-2]',\n",
       " 'X-averaged positive electrode inner SEI interfacial current density [A.m-2]',\n",
       " 'Positive electrode outer SEI interfacial current density [A.m-2]',\n",
       " 'X-averaged positive electrode outer SEI interfacial current density [A.m-2]',\n",
       " 'Positive electrode SEI interfacial current density [A.m-2]',\n",
       " 'X-averaged positive electrode SEI interfacial current density [A.m-2]',\n",
       " 'Negative inner SEI on cracks thickness [m]',\n",
       " 'Negative outer SEI on cracks thickness [m]',\n",
       " 'X-averaged negative inner SEI on cracks thickness [m]',\n",
       " 'X-averaged negative outer SEI on cracks thickness [m]',\n",
       " 'Negative SEI on cracks [m]',\n",
       " 'Negative total SEI on cracks thickness [m]',\n",
       " 'X-averaged negative SEI on cracks thickness [m]',\n",
       " 'X-averaged negative total SEI on cracks thickness [m]',\n",
       " 'Negative electrode inner SEI on cracks interfacial current density [A.m-2]',\n",
       " 'X-averaged negative electrode inner SEI on cracks interfacial current density [A.m-2]',\n",
       " 'Negative electrode outer SEI on cracks interfacial current density [A.m-2]',\n",
       " 'X-averaged negative electrode outer SEI on cracks interfacial current density [A.m-2]',\n",
       " 'Negative electrode SEI on cracks interfacial current density [A.m-2]',\n",
       " 'X-averaged negative electrode SEI on cracks interfacial current density [A.m-2]',\n",
       " 'Positive inner SEI on cracks thickness [m]',\n",
       " 'Positive outer SEI on cracks thickness [m]',\n",
       " 'X-averaged positive inner SEI on cracks thickness [m]',\n",
       " 'X-averaged positive outer SEI on cracks thickness [m]',\n",
       " 'Positive SEI on cracks [m]',\n",
       " 'Positive total SEI on cracks thickness [m]',\n",
       " 'X-averaged positive SEI on cracks thickness [m]',\n",
       " 'X-averaged positive total SEI on cracks thickness [m]',\n",
       " 'Positive electrode inner SEI on cracks interfacial current density [A.m-2]',\n",
       " 'X-averaged positive electrode inner SEI on cracks interfacial current density [A.m-2]',\n",
       " 'Positive electrode outer SEI on cracks interfacial current density [A.m-2]',\n",
       " 'X-averaged positive electrode outer SEI on cracks interfacial current density [A.m-2]',\n",
       " 'Positive electrode SEI on cracks interfacial current density [A.m-2]',\n",
       " 'X-averaged positive electrode SEI on cracks interfacial current density [A.m-2]',\n",
       " 'Negative lithium plating concentration [mol.m-3]',\n",
       " 'X-averaged negative lithium plating concentration [mol.m-3]',\n",
       " 'Negative dead lithium concentration [mol.m-3]',\n",
       " 'X-averaged negative dead lithium concentration [mol.m-3]',\n",
       " 'Negative lithium plating thickness [m]',\n",
       " 'X-averaged negative lithium plating thickness [m]',\n",
       " 'Negative dead lithium thickness [m]',\n",
       " 'X-averaged negative dead lithium thickness [m]',\n",
       " 'Loss of lithium to negative lithium plating [mol]',\n",
       " 'Loss of capacity to negative lithium plating [A.h]',\n",
       " 'Negative electrode lithium plating reaction overpotential [V]',\n",
       " 'X-averaged negative electrode lithium plating reaction overpotential [V]',\n",
       " 'Negative lithium plating interfacial current density [A.m-2]',\n",
       " 'X-averaged negative lithium plating interfacial current density [A.m-2]',\n",
       " 'Positive lithium plating concentration [mol.m-3]',\n",
       " 'X-averaged positive lithium plating concentration [mol.m-3]',\n",
       " 'Positive dead lithium concentration [mol.m-3]',\n",
       " 'X-averaged positive dead lithium concentration [mol.m-3]',\n",
       " 'Positive lithium plating thickness [m]',\n",
       " 'X-averaged positive lithium plating thickness [m]',\n",
       " 'Positive dead lithium thickness [m]',\n",
       " 'X-averaged positive dead lithium thickness [m]',\n",
       " 'Loss of lithium to positive lithium plating [mol]',\n",
       " 'Loss of capacity to positive lithium plating [A.h]',\n",
       " 'Positive electrode lithium plating reaction overpotential [V]',\n",
       " 'X-averaged positive electrode lithium plating reaction overpotential [V]',\n",
       " 'Positive lithium plating interfacial current density [A.m-2]',\n",
       " 'X-averaged positive lithium plating interfacial current density [A.m-2]',\n",
       " 'Negative crack surface to volume ratio [m-1]',\n",
       " 'Negative electrode roughness ratio',\n",
       " 'X-averaged negative electrode roughness ratio',\n",
       " 'Positive crack surface to volume ratio [m-1]',\n",
       " 'Positive electrode roughness ratio',\n",
       " 'X-averaged positive electrode roughness ratio',\n",
       " 'Electrolyte transport efficiency',\n",
       " 'Negative electrolyte transport efficiency',\n",
       " 'X-averaged negative electrolyte transport efficiency',\n",
       " 'Separator electrolyte transport efficiency',\n",
       " 'X-averaged separator electrolyte transport efficiency',\n",
       " 'Positive electrolyte transport efficiency',\n",
       " 'X-averaged positive electrolyte transport efficiency',\n",
       " 'Electrode transport efficiency',\n",
       " 'Negative electrode transport efficiency',\n",
       " 'X-averaged negative electrode transport efficiency',\n",
       " 'Separator electrode transport efficiency',\n",
       " 'X-averaged separator electrode transport efficiency',\n",
       " 'Positive electrode transport efficiency',\n",
       " 'X-averaged positive electrode transport efficiency',\n",
       " 'Separator volume-averaged velocity [m.s-1]',\n",
       " 'Separator volume-averaged acceleration [m.s-2]',\n",
       " 'X-averaged separator volume-averaged acceleration [m.s-2]',\n",
       " 'Volume-averaged velocity [m.s-1]',\n",
       " 'Volume-averaged acceleration [m.s-1]',\n",
       " 'X-averaged volume-averaged acceleration [m.s-1]',\n",
       " 'Pressure [Pa]',\n",
       " 'Negative electrode stoichiometry',\n",
       " 'Negative electrode volume-averaged concentration',\n",
       " 'Negative electrode volume-averaged concentration [mol.m-3]',\n",
       " 'Total lithium in primary phase in negative electrode [mol]',\n",
       " 'Positive electrode stoichiometry',\n",
       " 'Positive electrode volume-averaged concentration',\n",
       " 'Positive electrode volume-averaged concentration [mol.m-3]',\n",
       " 'Total lithium in primary phase in positive electrode [mol]',\n",
       " 'Negative electrode effective conductivity',\n",
       " 'Negative electrode current density [A.m-2]',\n",
       " 'Positive electrode effective conductivity',\n",
       " 'Positive electrode current density [A.m-2]',\n",
       " 'Electrode current density [A.m-2]',\n",
       " 'Positive current collector potential [V]',\n",
       " 'Local voltage [V]',\n",
       " 'Terminal voltage [V]',\n",
       " 'Voltage [V]',\n",
       " 'Contact overpotential [V]',\n",
       " 'Electrolyte concentration concatenation [mol.m-3]',\n",
       " 'Negative electrolyte concentration [mol.m-3]',\n",
       " 'X-averaged negative electrolyte concentration [mol.m-3]',\n",
       " 'Separator electrolyte concentration [mol.m-3]',\n",
       " 'X-averaged separator electrolyte concentration [mol.m-3]',\n",
       " 'Positive electrolyte concentration [mol.m-3]',\n",
       " 'X-averaged positive electrolyte concentration [mol.m-3]',\n",
       " 'Negative electrolyte concentration [Molar]',\n",
       " 'X-averaged negative electrolyte concentration [Molar]',\n",
       " 'Separator electrolyte concentration [Molar]',\n",
       " 'X-averaged separator electrolyte concentration [Molar]',\n",
       " 'Positive electrolyte concentration [Molar]',\n",
       " 'X-averaged positive electrolyte concentration [Molar]',\n",
       " 'Electrolyte concentration [mol.m-3]',\n",
       " 'X-averaged electrolyte concentration [mol.m-3]',\n",
       " 'Electrolyte concentration [Molar]',\n",
       " 'X-averaged electrolyte concentration [Molar]',\n",
       " 'Electrolyte current density [A.m-2]',\n",
       " 'X-averaged concentration overpotential [V]',\n",
       " 'X-averaged electrolyte ohmic losses [V]',\n",
       " 'Negative electrode surface potential difference [V]',\n",
       " 'Negative electrode surface potential difference at separator interface [V]',\n",
       " 'X-averaged negative electrode surface potential difference [V]',\n",
       " 'Positive electrode surface potential difference [V]',\n",
       " 'Positive electrode surface potential difference at separator interface [V]',\n",
       " 'X-averaged positive electrode surface potential difference [V]',\n",
       " 'Ohmic heating [W.m-3]',\n",
       " 'X-averaged Ohmic heating [W.m-3]',\n",
       " 'Volume-averaged Ohmic heating [W.m-3]',\n",
       " 'Ohmic heating per unit electrode-pair area [W.m-2]',\n",
       " 'Ohmic heating [W]',\n",
       " 'Irreversible electrochemical heating [W.m-3]',\n",
       " 'X-averaged irreversible electrochemical heating [W.m-3]',\n",
       " 'Volume-averaged irreversible electrochemical heating [W.m-3]',\n",
       " 'Irreversible electrochemical heating per unit electrode-pair area [W.m-2]',\n",
       " 'Irreversible electrochemical heating [W]',\n",
       " 'Reversible heating [W.m-3]',\n",
       " 'X-averaged reversible heating [W.m-3]',\n",
       " 'Volume-averaged reversible heating [W.m-3]',\n",
       " 'Reversible heating per unit electrode-pair area [W.m-2]',\n",
       " 'Reversible heating [W]',\n",
       " 'Total heating [W.m-3]',\n",
       " 'X-averaged total heating [W.m-3]',\n",
       " 'Volume-averaged total heating [W.m-3]',\n",
       " 'Total heating per unit electrode-pair area [W.m-2]',\n",
       " 'Total heating [W]',\n",
       " 'Negative current collector Ohmic heating [W.m-3]',\n",
       " 'Positive current collector Ohmic heating [W.m-3]',\n",
       " 'Current collector current density [A.m-2]',\n",
       " 'Negative inner SEI concentration [mol.m-3]',\n",
       " 'X-averaged negative inner SEI concentration [mol.m-3]',\n",
       " 'Negative outer SEI concentration [mol.m-3]',\n",
       " 'X-averaged negative outer SEI concentration [mol.m-3]',\n",
       " 'Negative SEI concentration [mol.m-3]',\n",
       " 'X-averaged negative SEI concentration [mol.m-3]',\n",
       " 'Loss of lithium to negative SEI [mol]',\n",
       " 'Loss of capacity to negative SEI [A.h]',\n",
       " 'Negative electrode SEI volumetric interfacial current density [A.m-3]',\n",
       " 'X-averaged negative electrode SEI volumetric interfacial current density [A.m-3]',\n",
       " 'Positive inner SEI concentration [mol.m-3]',\n",
       " 'X-averaged positive inner SEI concentration [mol.m-3]',\n",
       " 'Positive outer SEI concentration [mol.m-3]',\n",
       " 'X-averaged positive outer SEI concentration [mol.m-3]',\n",
       " 'Positive SEI concentration [mol.m-3]',\n",
       " 'X-averaged positive SEI concentration [mol.m-3]',\n",
       " 'Loss of lithium to positive SEI [mol]',\n",
       " 'Loss of capacity to positive SEI [A.h]',\n",
       " 'Positive electrode SEI volumetric interfacial current density [A.m-3]',\n",
       " 'X-averaged positive electrode SEI volumetric interfacial current density [A.m-3]',\n",
       " 'Negative inner SEI on cracks concentration [mol.m-3]',\n",
       " 'X-averaged negative inner SEI on cracks concentration [mol.m-3]',\n",
       " 'Negative outer SEI on cracks concentration [mol.m-3]',\n",
       " 'X-averaged negative outer SEI on cracks concentration [mol.m-3]',\n",
       " 'Negative SEI on cracks concentration [mol.m-3]',\n",
       " 'X-averaged negative SEI on cracks concentration [mol.m-3]',\n",
       " 'Loss of lithium to negative SEI on cracks [mol]',\n",
       " 'Loss of capacity to negative SEI on cracks [A.h]',\n",
       " 'Negative electrode SEI on cracks volumetric interfacial current density [A.m-3]',\n",
       " 'X-averaged negative electrode SEI on cracks volumetric interfacial current density [A.m-3]',\n",
       " 'Positive inner SEI on cracks concentration [mol.m-3]',\n",
       " 'X-averaged positive inner SEI on cracks concentration [mol.m-3]',\n",
       " 'Positive outer SEI on cracks concentration [mol.m-3]',\n",
       " 'X-averaged positive outer SEI on cracks concentration [mol.m-3]',\n",
       " 'Positive SEI on cracks concentration [mol.m-3]',\n",
       " 'X-averaged positive SEI on cracks concentration [mol.m-3]',\n",
       " 'Loss of lithium to positive SEI on cracks [mol]',\n",
       " 'Loss of capacity to positive SEI on cracks [A.h]',\n",
       " 'Positive electrode SEI on cracks volumetric interfacial current density [A.m-3]',\n",
       " 'X-averaged positive electrode SEI on cracks volumetric interfacial current density [A.m-3]',\n",
       " 'Negative electrode lithium plating interfacial current density [A.m-2]',\n",
       " 'X-averaged negative electrode lithium plating interfacial current density [A.m-2]',\n",
       " 'Negative lithium plating volumetric interfacial current density [A.m-3]',\n",
       " 'X-averaged negative lithium plating volumetric interfacial current density [A.m-3]',\n",
       " 'Negative electrode lithium plating volumetric interfacial current density [A.m-3]',\n",
       " 'X-averaged negative electrode lithium plating volumetric interfacial current density [A.m-3]',\n",
       " 'Positive electrode lithium plating interfacial current density [A.m-2]',\n",
       " 'X-averaged positive electrode lithium plating interfacial current density [A.m-2]',\n",
       " 'Positive lithium plating volumetric interfacial current density [A.m-3]',\n",
       " 'X-averaged positive lithium plating volumetric interfacial current density [A.m-3]',\n",
       " 'Positive electrode lithium plating volumetric interfacial current density [A.m-3]',\n",
       " 'X-averaged positive electrode lithium plating volumetric interfacial current density [A.m-3]',\n",
       " 'Negative electrode open-circuit potential [V]',\n",
       " 'X-averaged negative electrode open-circuit potential [V]',\n",
       " 'Negative electrode bulk open-circuit potential [V]',\n",
       " 'Negative particle concentration overpotential [V]',\n",
       " 'Negative electrode entropic change [V.K-1]',\n",
       " 'X-averaged negative electrode entropic change [V.K-1]',\n",
       " 'Positive electrode open-circuit potential [V]',\n",
       " 'X-averaged positive electrode open-circuit potential [V]',\n",
       " 'Positive electrode bulk open-circuit potential [V]',\n",
       " 'Positive particle concentration overpotential [V]',\n",
       " 'Positive electrode entropic change [V.K-1]',\n",
       " 'X-averaged positive electrode entropic change [V.K-1]',\n",
       " 'Negative electrode interfacial current density [A.m-2]',\n",
       " 'X-averaged negative electrode interfacial current density [A.m-2]',\n",
       " 'X-averaged negative electrode total interfacial current density [A.m-2]',\n",
       " 'X-averaged negative electrode total volumetric interfacial current density [A.m-3]',\n",
       " 'Negative electrode exchange current density [A.m-2]',\n",
       " 'X-averaged negative electrode exchange current density [A.m-2]',\n",
       " 'Negative electrode reaction overpotential [V]',\n",
       " 'X-averaged negative electrode reaction overpotential [V]',\n",
       " 'Negative electrode volumetric interfacial current density [A.m-3]',\n",
       " 'X-averaged negative electrode volumetric interfacial current density [A.m-3]',\n",
       " 'Negative electrode SEI film overpotential [V]',\n",
       " 'X-averaged negative electrode SEI film overpotential [V]',\n",
       " 'Positive electrode interfacial current density [A.m-2]',\n",
       " 'X-averaged positive electrode interfacial current density [A.m-2]',\n",
       " 'X-averaged positive electrode total interfacial current density [A.m-2]',\n",
       " 'X-averaged positive electrode total volumetric interfacial current density [A.m-3]',\n",
       " 'Positive electrode exchange current density [A.m-2]',\n",
       " 'X-averaged positive electrode exchange current density [A.m-2]',\n",
       " 'Positive electrode reaction overpotential [V]',\n",
       " 'X-averaged positive electrode reaction overpotential [V]',\n",
       " 'Positive electrode volumetric interfacial current density [A.m-3]',\n",
       " 'X-averaged positive electrode volumetric interfacial current density [A.m-3]',\n",
       " 'Positive electrode SEI film overpotential [V]',\n",
       " 'X-averaged positive electrode SEI film overpotential [V]',\n",
       " 'Negative particle rhs [mol.m-3.s-1]',\n",
       " 'Negative particle bc [mol.m-4]',\n",
       " 'Negative particle effective diffusivity [m2.s-1]',\n",
       " 'X-averaged negative particle effective diffusivity [m2.s-1]',\n",
       " 'Volume-averaged negative particle effective diffusivity [m2.s-1]',\n",
       " 'Negative particle flux [mol.m-2.s-1]',\n",
       " 'Positive particle rhs [mol.m-3.s-1]',\n",
       " 'Positive particle bc [mol.m-4]',\n",
       " 'Positive particle effective diffusivity [m2.s-1]',\n",
       " 'X-averaged positive particle effective diffusivity [m2.s-1]',\n",
       " 'Volume-averaged positive particle effective diffusivity [m2.s-1]',\n",
       " 'Positive particle flux [mol.m-2.s-1]',\n",
       " 'Electrolyte flux [mol.m-2.s-1]',\n",
       " 'Electrolyte diffusion flux [mol.m-2.s-1]',\n",
       " 'Electrolyte migration flux [mol.m-2.s-1]',\n",
       " 'Electrolyte convection flux [mol.m-2.s-1]',\n",
       " 'Sum of negative electrode electrolyte reaction source terms [A.m-3]',\n",
       " 'Sum of x-averaged negative electrode electrolyte reaction source terms [A.m-3]',\n",
       " 'Sum of negative electrode volumetric interfacial current densities [A.m-3]',\n",
       " 'Sum of x-averaged negative electrode volumetric interfacial current densities [A.m-3]',\n",
       " 'Sum of positive electrode electrolyte reaction source terms [A.m-3]',\n",
       " 'Sum of x-averaged positive electrode electrolyte reaction source terms [A.m-3]',\n",
       " 'Sum of positive electrode volumetric interfacial current densities [A.m-3]',\n",
       " 'Sum of x-averaged positive electrode volumetric interfacial current densities [A.m-3]',\n",
       " 'Interfacial current density [A.m-2]',\n",
       " 'Exchange current density [A.m-2]',\n",
       " 'Sum of volumetric interfacial current densities [A.m-3]',\n",
       " 'Sum of electrolyte reaction source terms [A.m-3]',\n",
       " 'Surface open-circuit voltage [V]',\n",
       " 'Bulk open-circuit voltage [V]',\n",
       " 'Particle concentration overpotential [V]',\n",
       " 'X-averaged reaction overpotential [V]',\n",
       " 'X-averaged SEI film overpotential [V]',\n",
       " 'X-averaged solid phase ohmic losses [V]',\n",
       " 'Battery open-circuit voltage [V]',\n",
       " 'Battery negative electrode bulk open-circuit potential [V]',\n",
       " 'Battery positive electrode bulk open-circuit potential [V]',\n",
       " 'Battery particle concentration overpotential [V]',\n",
       " 'Battery negative particle concentration overpotential [V]',\n",
       " 'Battery positive particle concentration overpotential [V]',\n",
       " 'X-averaged battery reaction overpotential [V]',\n",
       " 'X-averaged battery negative reaction overpotential [V]',\n",
       " 'X-averaged battery positive reaction overpotential [V]',\n",
       " 'X-averaged battery solid phase ohmic losses [V]',\n",
       " 'X-averaged battery negative solid phase ohmic losses [V]',\n",
       " 'X-averaged battery positive solid phase ohmic losses [V]',\n",
       " 'X-averaged battery electrolyte ohmic losses [V]',\n",
       " 'X-averaged battery concentration overpotential [V]',\n",
       " 'Battery voltage [V]',\n",
       " 'Local ECM resistance [Ohm]',\n",
       " 'Terminal power [W]',\n",
       " 'Power [W]',\n",
       " 'Resistance [Ohm]',\n",
       " 'Total lithium in negative electrode [mol]',\n",
       " 'LAM_ne [%]',\n",
       " 'Loss of active material in negative electrode [%]',\n",
       " 'Total lithium in positive electrode [mol]',\n",
       " 'LAM_pe [%]',\n",
       " 'Loss of active material in positive electrode [%]',\n",
       " 'LLI [%]',\n",
       " 'Loss of lithium inventory [%]',\n",
       " 'Loss of lithium inventory, including electrolyte [%]',\n",
       " 'Total lithium [mol]',\n",
       " 'Total lithium in particles [mol]',\n",
       " 'Total lithium capacity [A.h]',\n",
       " 'Total lithium capacity in particles [A.h]',\n",
       " 'Total lithium lost [mol]',\n",
       " 'Total lithium lost from particles [mol]',\n",
       " 'Total lithium lost from electrolyte [mol]',\n",
       " 'Total lithium lost to side reactions [mol]',\n",
       " 'Total capacity lost to side reactions [A.h]']"
      ]
     },
     "execution_count": 59,
     "metadata": {},
     "output_type": "execute_result"
    }
   ],
   "source": [
    "model.variable_names()"
   ]
  },
  {
   "cell_type": "code",
   "execution_count": 60,
   "metadata": {},
   "outputs": [
    {
     "name": "stdout",
     "output_type": "stream",
     "text": [
      "Ambient temperature [C]\n",
      "Ambient temperature [K]\n",
      "Cell temperature [C]\n",
      "Cell temperature [K]\n",
      "Negative current collector temperature [C]\n",
      "Negative current collector temperature [K]\n",
      "Negative electrode temperature [C]\n",
      "Negative electrode temperature [K]\n",
      "Positive current collector temperature [C]\n",
      "Positive current collector temperature [K]\n",
      "Positive electrode temperature [C]\n",
      "Positive electrode temperature [K]\n",
      "Separator temperature [C]\n",
      "Separator temperature [K]\n",
      "Volume-averaged ambient temperature [C]\n",
      "Volume-averaged ambient temperature [K]\n",
      "Volume-averaged cell temperature [C]\n",
      "Volume-averaged cell temperature [K]\n",
      "X-averaged cell temperature [C]\n",
      "X-averaged cell temperature [K]\n",
      "X-averaged negative electrode temperature [C]\n",
      "X-averaged negative electrode temperature [K]\n",
      "X-averaged positive electrode temperature [C]\n",
      "X-averaged positive electrode temperature [K]\n",
      "X-averaged separator temperature [C]\n",
      "X-averaged separator temperature [K]\n"
     ]
    }
   ],
   "source": [
    "model.variables.search(\"temperature \")"
   ]
  },
  {
   "cell_type": "code",
   "execution_count": 89,
   "metadata": {},
   "outputs": [
    {
     "data": {
      "application/vnd.jupyter.widget-view+json": {
       "model_id": "1dd2a48776034f40b176e6f01b6f7429",
       "version_major": 2,
       "version_minor": 0
      },
      "text/plain": [
       "interactive(children=(FloatSlider(value=0.0, description='t', max=1.0, step=0.01), Output()), _dom_classes=('w…"
      ]
     },
     "metadata": {},
     "output_type": "display_data"
    },
    {
     "data": {
      "text/plain": [
       "<pybamm.plotting.quick_plot.QuickPlot at 0x23151f08940>"
      ]
     },
     "execution_count": 89,
     "metadata": {},
     "output_type": "execute_result"
    }
   ],
   "source": [
    "output_variables = [\"Cell temperature [K]\", \"Voltage [V]\"]\n",
    "sim.plot(output_variables=output_variables)"
   ]
  },
  {
   "cell_type": "code",
   "execution_count": 62,
   "metadata": {},
   "outputs": [],
   "source": [
    "parameter_values = pybamm.ParameterValues(\"Chen2020\")"
   ]
  },
  {
   "cell_type": "code",
   "execution_count": 63,
   "metadata": {},
   "outputs": [
    {
     "data": {
      "text/plain": [
       "{'Ambient temperature [K]': 298.15,\n",
       " 'Boltzmann constant [J.K-1]': 1.380649e-23,\n",
       " 'Bulk solvent concentration [mol.m-3]': 2636.0,\n",
       " 'Cation transference number': 0.2594,\n",
       " 'Cell cooling surface area [m2]': 0.00531,\n",
       " 'Cell thermal expansion coefficient [m.K-1]': 1.1e-06,\n",
       " 'Cell volume [m3]': 2.42e-05,\n",
       " 'Contact resistance [Ohm]': 0,\n",
       " 'Current function [A]': 5.0,\n",
       " 'EC diffusivity [m2.s-1]': 2e-18,\n",
       " 'EC initial concentration in electrolyte [mol.m-3]': 4541.0,\n",
       " 'Electrode height [m]': 0.065,\n",
       " 'Electrode width [m]': 1.58,\n",
       " 'Electrolyte conductivity [S.m-1]': <function electrolyte_conductivity_Nyman2008 at 0x0000023141E2A290>,\n",
       " 'Electrolyte diffusivity [m2.s-1]': <function electrolyte_diffusivity_Nyman2008 at 0x0000023141E2A200>,\n",
       " 'Electron charge [C]': 1.602176634e-19,\n",
       " 'Faraday constant [C.mol-1]': 96485.33212,\n",
       " 'Ideal gas constant [J.K-1.mol-1]': 8.314462618,\n",
       " 'Initial concentration in electrolyte [mol.m-3]': 1000.0,\n",
       " 'Initial concentration in negative electrode [mol.m-3]': 29866.0,\n",
       " 'Initial concentration in positive electrode [mol.m-3]': 17038.0,\n",
       " 'Initial inner SEI thickness [m]': 2.5e-09,\n",
       " 'Initial outer SEI thickness [m]': 2.5e-09,\n",
       " 'Initial temperature [K]': 298.15,\n",
       " 'Inner SEI electron conductivity [S.m-1]': 8.95e-14,\n",
       " 'Inner SEI lithium interstitial diffusivity [m2.s-1]': 1e-20,\n",
       " 'Inner SEI open-circuit potential [V]': 0.1,\n",
       " 'Inner SEI partial molar volume [m3.mol-1]': 9.585e-05,\n",
       " 'Inner SEI reaction proportion': 0.5,\n",
       " 'Lithium interstitial reference concentration [mol.m-3]': 15.0,\n",
       " 'Lower voltage cut-off [V]': 2.5,\n",
       " 'Maximum concentration in negative electrode [mol.m-3]': 33133.0,\n",
       " 'Maximum concentration in positive electrode [mol.m-3]': 63104.0,\n",
       " 'Negative current collector conductivity [S.m-1]': 58411000.0,\n",
       " 'Negative current collector density [kg.m-3]': 8960.0,\n",
       " 'Negative current collector specific heat capacity [J.kg-1.K-1]': 385.0,\n",
       " 'Negative current collector thermal conductivity [W.m-1.K-1]': 401.0,\n",
       " 'Negative current collector thickness [m]': 1.2e-05,\n",
       " 'Negative electrode Bruggeman coefficient (electrode)': 0,\n",
       " 'Negative electrode Bruggeman coefficient (electrolyte)': 1.5,\n",
       " 'Negative electrode OCP [V]': <function graphite_LGM50_ocp_Chen2020 at 0x00000231404B7B50>,\n",
       " 'Negative electrode OCP entropic change [V.K-1]': 0.0,\n",
       " 'Negative electrode active material volume fraction': 0.75,\n",
       " 'Negative electrode charge transfer coefficient': 0.5,\n",
       " 'Negative electrode conductivity [S.m-1]': 215.0,\n",
       " 'Negative electrode density [kg.m-3]': 1657.0,\n",
       " 'Negative electrode diffusivity [m2.s-1]': 3.3e-14,\n",
       " 'Negative electrode double-layer capacity [F.m-2]': 0.2,\n",
       " 'Negative electrode exchange-current density [A.m-2]': <function graphite_LGM50_electrolyte_exchange_current_density_Chen2020 at 0x0000023141E2A170>,\n",
       " 'Negative electrode porosity': 0.25,\n",
       " 'Negative electrode reaction-driven LAM factor [m3.mol-1]': 0.0,\n",
       " 'Negative electrode specific heat capacity [J.kg-1.K-1]': 700.0,\n",
       " 'Negative electrode thermal conductivity [W.m-1.K-1]': 1.7,\n",
       " 'Negative electrode thickness [m]': 8.52e-05,\n",
       " 'Negative particle radius [m]': 5.86e-06,\n",
       " 'Nominal cell capacity [A.h]': 5.0,\n",
       " 'Number of cells connected in series to make a battery': 1.0,\n",
       " 'Number of electrodes connected in parallel to make a cell': 1.0,\n",
       " 'Open-circuit voltage at 0% SOC [V]': 2.5,\n",
       " 'Open-circuit voltage at 100% SOC [V]': 4.2,\n",
       " 'Outer SEI open-circuit potential [V]': 0.8,\n",
       " 'Outer SEI partial molar volume [m3.mol-1]': 9.585e-05,\n",
       " 'Outer SEI solvent diffusivity [m2.s-1]': 2.5000000000000002e-22,\n",
       " 'Positive current collector conductivity [S.m-1]': 36914000.0,\n",
       " 'Positive current collector density [kg.m-3]': 2700.0,\n",
       " 'Positive current collector specific heat capacity [J.kg-1.K-1]': 897.0,\n",
       " 'Positive current collector thermal conductivity [W.m-1.K-1]': 237.0,\n",
       " 'Positive current collector thickness [m]': 1.6e-05,\n",
       " 'Positive electrode Bruggeman coefficient (electrode)': 0,\n",
       " 'Positive electrode Bruggeman coefficient (electrolyte)': 1.5,\n",
       " 'Positive electrode OCP [V]': <function nmc_LGM50_ocp_Chen2020 at 0x0000023141E29D80>,\n",
       " 'Positive electrode OCP entropic change [V.K-1]': 0.0,\n",
       " 'Positive electrode active material volume fraction': 0.665,\n",
       " 'Positive electrode charge transfer coefficient': 0.5,\n",
       " 'Positive electrode conductivity [S.m-1]': 0.18,\n",
       " 'Positive electrode density [kg.m-3]': 3262.0,\n",
       " 'Positive electrode diffusivity [m2.s-1]': 4e-15,\n",
       " 'Positive electrode double-layer capacity [F.m-2]': 0.2,\n",
       " 'Positive electrode exchange-current density [A.m-2]': <function nmc_LGM50_electrolyte_exchange_current_density_Chen2020 at 0x0000023141E2A050>,\n",
       " 'Positive electrode porosity': 0.335,\n",
       " 'Positive electrode reaction-driven LAM factor [m3.mol-1]': 0.0,\n",
       " 'Positive electrode specific heat capacity [J.kg-1.K-1]': 700.0,\n",
       " 'Positive electrode thermal conductivity [W.m-1.K-1]': 2.1,\n",
       " 'Positive electrode thickness [m]': 7.56e-05,\n",
       " 'Positive particle radius [m]': 5.22e-06,\n",
       " 'Ratio of lithium moles to SEI moles': 2.0,\n",
       " 'Reference temperature [K]': 298.15,\n",
       " 'SEI growth activation energy [J.mol-1]': 0.0,\n",
       " 'SEI kinetic rate constant [m.s-1]': 1e-12,\n",
       " 'SEI open-circuit potential [V]': 0.4,\n",
       " 'SEI reaction exchange current density [A.m-2]': 1.5e-07,\n",
       " 'SEI resistivity [Ohm.m]': 200000.0,\n",
       " 'Separator Bruggeman coefficient (electrolyte)': 1.5,\n",
       " 'Separator density [kg.m-3]': 397.0,\n",
       " 'Separator porosity': 0.47,\n",
       " 'Separator specific heat capacity [J.kg-1.K-1]': 700.0,\n",
       " 'Separator thermal conductivity [W.m-1.K-1]': 0.16,\n",
       " 'Separator thickness [m]': 1.2e-05,\n",
       " 'Thermodynamic factor': 1.0,\n",
       " 'Total heat transfer coefficient [W.m-2.K-1]': 10.0,\n",
       " 'Upper voltage cut-off [V]': 4.2,\n",
       " 'citations': ['Chen2020']}"
      ]
     },
     "execution_count": 63,
     "metadata": {},
     "output_type": "execute_result"
    }
   ],
   "source": [
    "parameter_values"
   ]
  },
  {
   "cell_type": "code",
   "execution_count": 64,
   "metadata": {},
   "outputs": [
    {
     "name": "stdout",
     "output_type": "stream",
     "text": [
      "| Parameter                                                 | Type of parameter                                                                                                                                                                                           |\n",
      "| ========================================================= | =========================================================================================================================================================================================================== |\n",
      "| Upper voltage cut-off [V]                                 | Parameter                                                                                                                                                                                                   |\n",
      "| Positive electrode Bruggeman coefficient (electrolyte)    | Parameter                                                                                                                                                                                                   |\n",
      "| Lower voltage cut-off [V]                                 | Parameter                                                                                                                                                                                                   |\n",
      "| Negative electrode Bruggeman coefficient (electrode)      | Parameter                                                                                                                                                                                                   |\n",
      "| Separator thickness [m]                                   | Parameter                                                                                                                                                                                                   |\n",
      "| Ideal gas constant [J.K-1.mol-1]                          | Parameter                                                                                                                                                                                                   |\n",
      "| Positive electrode thickness [m]                          | Parameter                                                                                                                                                                                                   |\n",
      "| Nominal cell capacity [A.h]                               | Parameter                                                                                                                                                                                                   |\n",
      "| Initial concentration in electrolyte [mol.m-3]            | Parameter                                                                                                                                                                                                   |\n",
      "| Separator Bruggeman coefficient (electrolyte)             | Parameter                                                                                                                                                                                                   |\n",
      "| Maximum concentration in negative electrode [mol.m-3]     | Parameter                                                                                                                                                                                                   |\n",
      "| Positive electrode Bruggeman coefficient (electrode)      | Parameter                                                                                                                                                                                                   |\n",
      "| Electrode height [m]                                      | Parameter                                                                                                                                                                                                   |\n",
      "| Negative electrode Bruggeman coefficient (electrolyte)    | Parameter                                                                                                                                                                                                   |\n",
      "| Number of cells connected in series to make a battery     | Parameter                                                                                                                                                                                                   |\n",
      "| Initial temperature [K]                                   | Parameter                                                                                                                                                                                                   |\n",
      "| Reference temperature [K]                                 | Parameter                                                                                                                                                                                                   |\n",
      "| Maximum concentration in positive electrode [mol.m-3]     | Parameter                                                                                                                                                                                                   |\n",
      "| Negative electrode thickness [m]                          | Parameter                                                                                                                                                                                                   |\n",
      "| Electrode width [m]                                       | Parameter                                                                                                                                                                                                   |\n",
      "| Faraday constant [C.mol-1]                                | Parameter                                                                                                                                                                                                   |\n",
      "| Number of electrodes connected in parallel to make a cell | Parameter                                                                                                                                                                                                   |\n",
      "| Current function [A]                                      | FunctionParameter with inputs(s) 'Time[s]'                                                                                                                                                                  |\n",
      "| Cation transference number                                | FunctionParameter with inputs(s) 'Electrolyte concentration [mol.m-3]', 'Temperature [K]'                                                                                                                   |\n",
      "| Positive particle radius [m]                              | FunctionParameter with inputs(s) 'Through-cell distance (x) [m]'                                                                                                                                            |\n",
      "| Initial concentration in negative electrode [mol.m-3]     | FunctionParameter with inputs(s) 'Radial distance (r) [m]', 'Through-cell distance (x) [m]'                                                                                                                 |\n",
      "| Thermodynamic factor                                      | FunctionParameter with inputs(s) 'Electrolyte concentration [mol.m-3]', 'Temperature [K]'                                                                                                                   |\n",
      "| Negative particle radius [m]                              | FunctionParameter with inputs(s) 'Through-cell distance (x) [m]'                                                                                                                                            |\n",
      "| Positive electrode OCP entropic change [V.K-1]            | FunctionParameter with inputs(s) 'Positive particle stoichiometry', 'Maximum positive particle surface concentration [mol.m-3]'                                                                             |\n",
      "| Positive electrode exchange-current density [A.m-2]       | FunctionParameter with inputs(s) 'Electrolyte concentration [mol.m-3]', 'Positive particle surface concentration [mol.m-3]', 'Maximum positive particle surface concentration [mol.m-3]', 'Temperature [K]' |\n",
      "| Positive electrode active material volume fraction        | FunctionParameter with inputs(s) 'Through-cell distance (x) [m]'                                                                                                                                            |\n",
      "| Electrolyte conductivity [S.m-1]                          | FunctionParameter with inputs(s) 'Electrolyte concentration [mol.m-3]', 'Temperature [K]'                                                                                                                   |\n",
      "| Negative electrode OCP entropic change [V.K-1]            | FunctionParameter with inputs(s) 'Negative particle stoichiometry', 'Maximum negative particle surface concentration [mol.m-3]'                                                                             |\n",
      "| Negative electrode diffusivity [m2.s-1]                   | FunctionParameter with inputs(s) 'Negative particle stoichiometry', 'Temperature [K]'                                                                                                                       |\n",
      "| Positive electrode porosity                               | FunctionParameter with inputs(s) 'Through-cell distance (x) [m]'                                                                                                                                            |\n",
      "| Initial concentration in positive electrode [mol.m-3]     | FunctionParameter with inputs(s) 'Radial distance (r) [m]', 'Through-cell distance (x) [m]'                                                                                                                 |\n",
      "| Negative electrode OCP [V]                                | FunctionParameter with inputs(s) 'Negative particle stoichiometry'                                                                                                                                          |\n",
      "| Positive electrode OCP [V]                                | FunctionParameter with inputs(s) 'Positive particle stoichiometry'                                                                                                                                          |\n",
      "| Negative electrode conductivity [S.m-1]                   | FunctionParameter with inputs(s) 'Temperature [K]'                                                                                                                                                          |\n",
      "| Separator porosity                                        | FunctionParameter with inputs(s) 'Through-cell distance (x) [m]'                                                                                                                                            |\n",
      "| Negative electrode exchange-current density [A.m-2]       | FunctionParameter with inputs(s) 'Electrolyte concentration [mol.m-3]', 'Negative particle surface concentration [mol.m-3]', 'Maximum negative particle surface concentration [mol.m-3]', 'Temperature [K]' |\n",
      "| Negative electrode porosity                               | FunctionParameter with inputs(s) 'Through-cell distance (x) [m]'                                                                                                                                            |\n",
      "| Electrolyte diffusivity [m2.s-1]                          | FunctionParameter with inputs(s) 'Electrolyte concentration [mol.m-3]', 'Temperature [K]'                                                                                                                   |\n",
      "| Ambient temperature [K]                                   | FunctionParameter with inputs(s) 'Distance across electrode width [m]', 'Distance across electrode height [m]', 'Time [s]'                                                                                  |\n",
      "| Positive electrode conductivity [S.m-1]                   | FunctionParameter with inputs(s) 'Temperature [K]'                                                                                                                                                          |\n",
      "| Negative electrode active material volume fraction        | FunctionParameter with inputs(s) 'Through-cell distance (x) [m]'                                                                                                                                            |\n",
      "| Positive electrode diffusivity [m2.s-1]                   | FunctionParameter with inputs(s) 'Positive particle stoichiometry', 'Temperature [K]'                                                                                                                       |\n"
     ]
    }
   ],
   "source": [
    "model.print_parameter_info()"
   ]
  },
  {
   "cell_type": "code",
   "execution_count": 65,
   "metadata": {},
   "outputs": [],
   "source": [
    "parameter_values[\"Current function [A]\"] = 10"
   ]
  },
  {
   "cell_type": "code",
   "execution_count": 66,
   "metadata": {},
   "outputs": [
    {
     "data": {
      "application/vnd.jupyter.widget-view+json": {
       "model_id": "6fe2e98a8b0743f59576706477e797c1",
       "version_major": 2,
       "version_minor": 0
      },
      "text/plain": [
       "interactive(children=(FloatSlider(value=0.0, description='t', max=1703.0718416496497, step=17.030718416496498)…"
      ]
     },
     "metadata": {},
     "output_type": "display_data"
    },
    {
     "data": {
      "text/plain": [
       "<pybamm.plotting.quick_plot.QuickPlot at 0x2313ad30af0>"
      ]
     },
     "execution_count": 66,
     "metadata": {},
     "output_type": "execute_result"
    }
   ],
   "source": [
    "sim = pybamm.Simulation(model, parameter_values=parameter_values)\n",
    "sim.solve([0, 3600])\n",
    "sim.plot()"
   ]
  },
  {
   "cell_type": "code",
   "execution_count": 67,
   "metadata": {},
   "outputs": [],
   "source": [
    "import numpy as np\n",
    "\n",
    "\n",
    "def my_current(t):\n",
    "    return pybamm.sin(2 * np.pi * t / 60)\n",
    "\n",
    "\n",
    "parameter_values[\"Current function [A]\"] = my_current"
   ]
  },
  {
   "cell_type": "code",
   "execution_count": 68,
   "metadata": {},
   "outputs": [
    {
     "data": {
      "application/vnd.jupyter.widget-view+json": {
       "model_id": "80c350a53e754e5d82da32addf79c10d",
       "version_major": 2,
       "version_minor": 0
      },
      "text/plain": [
       "interactive(children=(FloatSlider(value=0.0, description='t', max=120.0, step=1.2), Output()), _dom_classes=('…"
      ]
     },
     "metadata": {},
     "output_type": "display_data"
    },
    {
     "data": {
      "text/plain": [
       "<pybamm.plotting.quick_plot.QuickPlot at 0x23143597550>"
      ]
     },
     "execution_count": 68,
     "metadata": {},
     "output_type": "execute_result"
    }
   ],
   "source": [
    "sim = pybamm.Simulation(model, parameter_values=parameter_values)\n",
    "t_eval = np.arange(0, 121, 1)\n",
    "sim.solve(t_eval=t_eval)\n",
    "sim.plot([\"Current [A]\", \"Voltage [V]\"])"
   ]
  },
  {
   "cell_type": "code",
   "execution_count": 69,
   "metadata": {},
   "outputs": [],
   "source": [
    "def cube(t):\n",
    "    return t**3\n",
    "\n",
    "\n",
    "parameter_values = pybamm.ParameterValues(\n",
    "    {\n",
    "        \"Negative electrode thickness [m]\": 1e-4,\n",
    "        \"Positive electrode thickness [m]\": 1.2e-4,\n",
    "        \"Current function [A]\": cube,\n",
    "    }\n",
    ")"
   ]
  },
  {
   "cell_type": "code",
   "execution_count": 71,
   "metadata": {},
   "outputs": [],
   "source": [
    "experiment = pybamm.Experiment(\n",
    "    [\n",
    "        \"Discharge at C/10 for 10 hours or until 3.3 V\",\n",
    "        \"Rest for 1 hour\",\n",
    "        \"Charge at 1 A until 4.1 V\",\n",
    "        \"Hold at 4.1 V until 50 mA\",\n",
    "        \"Rest for 1 hour\",\n",
    "    ]\n",
    ")"
   ]
  },
  {
   "cell_type": "code",
   "execution_count": 72,
   "metadata": {},
   "outputs": [],
   "source": [
    "experiment = pybamm.Experiment(\n",
    "    [\n",
    "        (\n",
    "            \"Discharge at C/10 for 10 hours or until 3.3 V\",\n",
    "            \"Rest for 1 hour\",\n",
    "            \"Charge at 1 A until 4.1 V\",\n",
    "            \"Hold at 4.1 V until 50 mA\",\n",
    "            \"Rest for 1 hour\",\n",
    "        )\n",
    "    ]\n",
    "    * 3\n",
    "    + [\n",
    "        \"Discharge at 1C until 3.3 V\",\n",
    "    ]\n",
    ")"
   ]
  },
  {
   "cell_type": "code",
   "execution_count": 73,
   "metadata": {},
   "outputs": [],
   "source": [
    "model = pybamm.lithium_ion.DFN()\n",
    "sim = pybamm.Simulation(model, experiment=experiment)"
   ]
  },
  {
   "cell_type": "code",
   "execution_count": 74,
   "metadata": {},
   "outputs": [
    {
     "name": "stderr",
     "output_type": "stream",
     "text": [
      "At t = 522.66, , mxstep steps taken before reaching tout.\n"
     ]
    },
    {
     "data": {
      "text/plain": [
       "<pybamm.solvers.solution.Solution at 0x23149157e80>"
      ]
     },
     "execution_count": 74,
     "metadata": {},
     "output_type": "execute_result"
    }
   ],
   "source": [
    "sim.solve()"
   ]
  },
  {
   "cell_type": "code",
   "execution_count": 75,
   "metadata": {},
   "outputs": [
    {
     "data": {
      "application/vnd.jupyter.widget-view+json": {
       "model_id": "a8e34ae518f042a69ed80641676da97d",
       "version_major": 2,
       "version_minor": 0
      },
      "text/plain": [
       "interactive(children=(FloatSlider(value=0.0, description='t', max=40.13294901709057, step=0.4013294901709057),…"
      ]
     },
     "metadata": {},
     "output_type": "display_data"
    },
    {
     "data": {
      "text/plain": [
       "<pybamm.plotting.quick_plot.QuickPlot at 0x2313aa610f0>"
      ]
     },
     "execution_count": 75,
     "metadata": {},
     "output_type": "execute_result"
    }
   ],
   "source": [
    "sim.plot()"
   ]
  },
  {
   "cell_type": "code",
   "execution_count": 76,
   "metadata": {},
   "outputs": [
    {
     "data": {
      "application/vnd.jupyter.widget-view+json": {
       "model_id": "1701cdc0d5e641cfb3a44fe78f0033ba",
       "version_major": 2,
       "version_minor": 0
      },
      "text/plain": [
       "interactive(children=(FloatSlider(value=0.0, description='t', max=13.076977039958468, step=0.13076977039958468…"
      ]
     },
     "metadata": {},
     "output_type": "display_data"
    },
    {
     "data": {
      "text/plain": [
       "<pybamm.plotting.quick_plot.QuickPlot at 0x231511857b0>"
      ]
     },
     "execution_count": 76,
     "metadata": {},
     "output_type": "execute_result"
    }
   ],
   "source": [
    "sim.solution.cycles[0].plot()"
   ]
  },
  {
   "cell_type": "code",
   "execution_count": 77,
   "metadata": {},
   "outputs": [
    {
     "data": {
      "text/plain": [
       "_Step(C-rate, 1.0, duration=1 hour, period=1 minute, temperature=25oC, tags=['tag1'], description=Discharge at 1C for 1 hour)"
      ]
     },
     "execution_count": 77,
     "metadata": {},
     "output_type": "execute_result"
    }
   ],
   "source": [
    "pybamm.step.string(\n",
    "    \"Discharge at 1C for 1 hour\", period=\"1 minute\", temperature=\"25oC\", tags=[\"tag1\"]\n",
    ")"
   ]
  },
  {
   "cell_type": "code",
   "execution_count": 78,
   "metadata": {},
   "outputs": [
    {
     "data": {
      "text/plain": [
       "_Step(current, 1, duration=1 hour, termination=2.5 V)"
      ]
     },
     "execution_count": 78,
     "metadata": {},
     "output_type": "execute_result"
    }
   ],
   "source": [
    "pybamm.step.current(1, duration=\"1 hour\", termination=\"2.5 V\")"
   ]
  },
  {
   "cell_type": "code",
   "execution_count": 79,
   "metadata": {},
   "outputs": [
    {
     "data": {
      "text/plain": [
       "_Step(current, 1.0, duration=1 hour, termination=2.5V, description=Discharge at 1A for 1 hour or until 2.5V)"
      ]
     },
     "execution_count": 79,
     "metadata": {},
     "output_type": "execute_result"
    }
   ],
   "source": [
    "pybamm.step.string(\"Discharge at 1A for 1 hour or until 2.5V\")"
   ]
  },
  {
   "cell_type": "code",
   "execution_count": 80,
   "metadata": {},
   "outputs": [
    {
     "data": {
      "application/vnd.jupyter.widget-view+json": {
       "model_id": "4cd615322be04243a17d9aeb50e9ffa1",
       "version_major": 2,
       "version_minor": 0
      },
      "text/plain": [
       "interactive(children=(FloatSlider(value=0.0, description='t', max=1.0, step=0.01), Output()), _dom_classes=('w…"
      ]
     },
     "metadata": {},
     "output_type": "display_data"
    },
    {
     "data": {
      "text/plain": [
       "<pybamm.plotting.quick_plot.QuickPlot at 0x23150749630>"
      ]
     },
     "execution_count": 80,
     "metadata": {},
     "output_type": "execute_result"
    }
   ],
   "source": [
    "t = np.linspace(0, 1, 60)\n",
    "sin_t = 0.5 * np.sin(2 * np.pi * t)\n",
    "drive_cycle_power = np.column_stack([t, sin_t])\n",
    "experiment = pybamm.Experiment([pybamm.step.power(drive_cycle_power)])\n",
    "sim = pybamm.Simulation(model, experiment=experiment)\n",
    "sim.solve()\n",
    "sim.plot()"
   ]
  },
  {
   "cell_type": "code",
   "execution_count": 81,
   "metadata": {},
   "outputs": [
    {
     "data": {
      "text/plain": [
       "<pybamm.solvers.solution.Solution at 0x23151f60340>"
      ]
     },
     "execution_count": 81,
     "metadata": {},
     "output_type": "execute_result"
    }
   ],
   "source": [
    "model = pybamm.lithium_ion.SPMe()\n",
    "sim = pybamm.Simulation(model)\n",
    "sim.solve([0, 3600])"
   ]
  },
  {
   "cell_type": "code",
   "execution_count": 17,
   "metadata": {},
   "outputs": [
    {
     "name": "stderr",
     "output_type": "stream",
     "text": [
      "2024-03-29 17:08:06.808 - [INFO] base_model._build_model(652): Start building Doyle-Fuller-Newman model\n",
      "2024-03-29 17:08:06.872 - [INFO] base_battery_model.build_model(1073): Finish building Doyle-Fuller-Newman model\n"
     ]
    }
   ],
   "source": [
    "experiment = pybamm.Experiment([\n",
    "    \"Charge at 1C until 4.1 V\", \n",
    "    \"Hold at 4.1V until 50 mA\",\n",
    "    \"Discharge at 2 C until 3.105 V\",\n",
    "])\n",
    "\n",
    "model = pybamm.lithium_ion.DFN()\n",
    "sim = pybamm.Simulation(model, experiment=experiment)"
   ]
  },
  {
   "cell_type": "code",
   "execution_count": 18,
   "metadata": {},
   "outputs": [],
   "source": [
    "solution = sim.solution"
   ]
  },
  {
   "cell_type": "code",
   "execution_count": 19,
   "metadata": {},
   "outputs": [
    {
     "name": "stderr",
     "output_type": "stream",
     "text": [
      "2024-03-29 17:08:08.224 - [INFO] callbacks.on_experiment_start(164): Start running experiment\n",
      "2024-03-29 17:08:08.225 - [INFO] parameter_values.process_model(394): Start setting parameters for Doyle-Fuller-Newman model\n",
      "2024-03-29 17:08:08.344 - [INFO] parameter_values.process_model(463): Finish setting parameters for Doyle-Fuller-Newman model\n",
      "2024-03-29 17:08:08.347 - [INFO] parameter_values.process_model(394): Start setting parameters for Doyle-Fuller-Newman model\n",
      "2024-03-29 17:08:08.462 - [INFO] parameter_values.process_model(463): Finish setting parameters for Doyle-Fuller-Newman model\n",
      "2024-03-29 17:08:08.464 - [INFO] parameter_values.process_model(394): Start setting parameters for Doyle-Fuller-Newman model\n",
      "2024-03-29 17:08:08.583 - [INFO] parameter_values.process_model(463): Finish setting parameters for Doyle-Fuller-Newman model\n",
      "2024-03-29 17:08:08.586 - [INFO] discretisation.process_model(145): Start discretising Doyle-Fuller-Newman model\n",
      "2024-03-29 17:08:08.592 - [INFO] discretisation.remove_independent_variables_from_rhs(1126): removing variable Discharge capacity [A.h] from rhs\n",
      "2024-03-29 17:08:08.594 - [INFO] discretisation.remove_independent_variables_from_rhs(1126): removing variable Throughput capacity [A.h] from rhs\n",
      "2024-03-29 17:08:08.921 - [INFO] discretisation.process_model(247): Finish discretising Doyle-Fuller-Newman model\n",
      "2024-03-29 17:08:08.922 - [INFO] discretisation.process_model(145): Start discretising Doyle-Fuller-Newman model\n",
      "2024-03-29 17:08:08.929 - [INFO] discretisation.remove_independent_variables_from_rhs(1126): removing variable Discharge capacity [A.h] from rhs\n",
      "2024-03-29 17:08:08.931 - [INFO] discretisation.remove_independent_variables_from_rhs(1126): removing variable Throughput capacity [A.h] from rhs\n",
      "2024-03-29 17:08:09.330 - [INFO] discretisation.process_model(247): Finish discretising Doyle-Fuller-Newman model\n",
      "2024-03-29 17:08:09.331 - [INFO] discretisation.process_model(145): Start discretising Doyle-Fuller-Newman model\n",
      "2024-03-29 17:08:09.338 - [INFO] discretisation.remove_independent_variables_from_rhs(1126): removing variable Discharge capacity [A.h] from rhs\n",
      "2024-03-29 17:08:09.341 - [INFO] discretisation.remove_independent_variables_from_rhs(1126): removing variable Throughput capacity [A.h] from rhs\n",
      "2024-03-29 17:08:09.643 - [INFO] discretisation.process_model(247): Finish discretising Doyle-Fuller-Newman model\n",
      "2024-03-29 17:08:09.644 - [WARNING] simulation.solve(590): Ignoring t_eval as solution times are specified by the experiment\n",
      "2024-03-29 17:08:09.645 - [NOTICE] callbacks.on_cycle_start(172): Cycle 1/3 (106.600 us elapsed) --------------------\n",
      "2024-03-29 17:08:09.646 - [NOTICE] callbacks.on_step_start(180): Cycle 1/3, step 1/1: Charge at 1C until 4.1 V\n",
      "2024-03-29 17:08:09.649 - [INFO] base_solver.set_up(117): Start solver set-up\n",
      "2024-03-29 17:08:09.730 - [INFO] base_solver.set_up(286): Finish solver set-up\n",
      "At t = 494.701, , mxstep steps taken before reaching tout.\n",
      "2024-03-29 17:08:17.243 - [INFO] parameter_values.process_model(394): Start setting parameters for ElectrodeSOH model\n",
      "2024-03-29 17:08:17.266 - [INFO] parameter_values.process_model(463): Finish setting parameters for ElectrodeSOH model\n",
      "2024-03-29 17:08:17.267 - [INFO] discretisation.process_model(145): Start discretising ElectrodeSOH model\n",
      "2024-03-29 17:08:17.293 - [INFO] discretisation.process_model(247): Finish discretising ElectrodeSOH model\n",
      "2024-03-29 17:08:17.296 - [INFO] base_solver.solve(740): Start solving ElectrodeSOH model with Algebraic solver (lm)\n",
      "2024-03-29 17:08:17.298 - [INFO] base_solver.set_up(117): Start solver set-up\n",
      "2024-03-29 17:08:17.325 - [INFO] base_solver.set_up(286): Finish solver set-up\n",
      "2024-03-29 17:08:17.332 - [INFO] base_solver.solve(973): Finish solving ElectrodeSOH model (the solver successfully reached the end of the integration interval)\n",
      "2024-03-29 17:08:17.333 - [INFO] base_solver.solve(974): Set-up time: 28.538 ms, Solve time: 5.120 ms (of which integration time: 3.624 ms), Total time: 33.659 ms\n",
      "2024-03-29 17:08:17.390 - [NOTICE] callbacks.on_cycle_start(172): Cycle 2/3 (7.745 s elapsed) --------------------\n",
      "2024-03-29 17:08:17.391 - [NOTICE] callbacks.on_step_start(180): Cycle 2/3, step 1/1: Hold at 4.1V until 50 mA\n",
      "2024-03-29 17:08:17.397 - [INFO] base_solver.set_up(117): Start solver set-up\n",
      "2024-03-29 17:08:17.475 - [INFO] base_solver.set_up(286): Finish solver set-up\n",
      "2024-03-29 17:08:17.654 - [INFO] base_solver.solve(740): Start solving ElectrodeSOH model with Algebraic solver (lm)\n",
      "2024-03-29 17:08:17.657 - [INFO] base_solver.solve(973): Finish solving ElectrodeSOH model (the solver successfully reached the end of the integration interval)\n",
      "2024-03-29 17:08:17.658 - [INFO] base_solver.solve(974): Set-up time: 40.300 us, Solve time: 1.380 ms (of which integration time: 979.300 us), Total time: 1.420 ms\n",
      "2024-03-29 17:08:17.692 - [NOTICE] callbacks.on_cycle_start(172): Cycle 3/3 (8.046 s elapsed) --------------------\n",
      "2024-03-29 17:08:17.693 - [NOTICE] callbacks.on_step_start(180): Cycle 3/3, step 1/1: Discharge at 2 C until 3.105 V\n",
      "2024-03-29 17:08:17.697 - [INFO] base_solver.set_up(117): Start solver set-up\n",
      "2024-03-29 17:08:17.770 - [INFO] base_solver.set_up(286): Finish solver set-up\n",
      "2024-03-29 17:08:18.006 - [INFO] base_solver.solve(740): Start solving ElectrodeSOH model with Algebraic solver (lm)\n",
      "2024-03-29 17:08:18.009 - [INFO] base_solver.solve(973): Finish solving ElectrodeSOH model (the solver successfully reached the end of the integration interval)\n",
      "2024-03-29 17:08:18.010 - [INFO] base_solver.solve(974): Set-up time: 16.500 us, Solve time: 1.236 ms (of which integration time: 838.600 us), Total time: 1.252 ms\n",
      "2024-03-29 17:08:18.041 - [NOTICE] callbacks.on_experiment_end(220): Finish experiment simulation, took 8.395 s\n"
     ]
    }
   ],
   "source": [
    "solution = sim.solve([0, 7200])"
   ]
  },
  {
   "cell_type": "code",
   "execution_count": 20,
   "metadata": {},
   "outputs": [],
   "source": [
    "t = solution[\"Time [s]\"]\n",
    "V = solution[\"Voltage [V]\"]\n",
    "temp = solution[\"X-averaged cell temperature [K]\"]"
   ]
  },
  {
   "cell_type": "code",
   "execution_count": 21,
   "metadata": {},
   "outputs": [
    {
     "data": {
      "text/plain": [
       "array([3.9320317 , 3.95075231, 3.96015467, 3.96865847, 3.97744769,\n",
       "       3.98778662, 4.00246052, 4.02537822, 4.05464828, 4.08477975,\n",
       "       4.09999   , 4.1       , 4.1       , 4.1       , 4.1       ,\n",
       "       4.1       , 4.1       , 4.1       , 4.1       , 4.1       ,\n",
       "       4.1       , 4.1       , 4.1       , 4.1       , 4.1       ,\n",
       "       4.1       , 4.1       , 4.1       , 4.1       , 3.9590882 ,\n",
       "       3.80434853, 3.75930585, 3.74393981, 3.73244703, 3.7201707 ,\n",
       "       3.70681093, 3.69297646, 3.67919554, 3.66571107, 3.65285375,\n",
       "       3.64086759, 3.62983947, 3.61975631, 3.61054891, 3.60211285,\n",
       "       3.59432913, 3.58706301, 3.58014568, 3.57326274, 3.56575303,\n",
       "       3.55860544, 3.55304147, 3.54870693, 3.54473636, 3.54064546,\n",
       "       3.53635599, 3.53179183, 3.52676158, 3.52086564, 3.51358693,\n",
       "       3.50447627, 3.49284198, 3.47664389, 3.45188747, 3.4058855 ,\n",
       "       3.26758029, 3.10501   ])"
      ]
     },
     "execution_count": 21,
     "metadata": {},
     "output_type": "execute_result"
    }
   ],
   "source": [
    "V.entries"
   ]
  },
  {
   "cell_type": "code",
   "execution_count": 23,
   "metadata": {},
   "outputs": [
    {
     "data": {
      "text/plain": [
       "array([298.15, 298.15, 298.15, 298.15, 298.15, 298.15, 298.15, 298.15,\n",
       "       298.15, 298.15, 298.15, 298.15, 298.15, 298.15, 298.15, 298.15,\n",
       "       298.15, 298.15, 298.15, 298.15, 298.15, 298.15, 298.15, 298.15,\n",
       "       298.15, 298.15, 298.15, 298.15, 298.15, 298.15, 298.15, 298.15,\n",
       "       298.15, 298.15, 298.15, 298.15, 298.15, 298.15, 298.15, 298.15,\n",
       "       298.15, 298.15, 298.15, 298.15, 298.15, 298.15, 298.15, 298.15,\n",
       "       298.15, 298.15, 298.15, 298.15, 298.15, 298.15, 298.15, 298.15,\n",
       "       298.15, 298.15, 298.15, 298.15, 298.15, 298.15, 298.15, 298.15,\n",
       "       298.15, 298.15, 298.15])"
      ]
     },
     "execution_count": 23,
     "metadata": {},
     "output_type": "execute_result"
    }
   ],
   "source": [
    "temp.entries"
   ]
  },
  {
   "cell_type": "code",
   "execution_count": 24,
   "metadata": {},
   "outputs": [
    {
     "data": {
      "text/plain": [
       "array([   0.        ,   60.        ,  120.        ,  180.        ,\n",
       "        240.        ,  300.        ,  360.        ,  420.        ,\n",
       "        480.        ,  540.        ,  569.95278491,  569.95278491,\n",
       "        629.95278491,  689.95278491,  749.95278491,  809.95278491,\n",
       "        869.95278491,  929.95278491,  989.95278491, 1049.95278491,\n",
       "       1109.95278491, 1169.95278491, 1229.95278491, 1289.95278491,\n",
       "       1349.95278491, 1409.95278491, 1469.95278491, 1529.95278491,\n",
       "       1577.87098408, 1577.87098408, 1637.87098408, 1697.87098408,\n",
       "       1757.87098408, 1817.87098408, 1877.87098408, 1937.87098408,\n",
       "       1997.87098408, 2057.87098408, 2117.87098408, 2177.87098408,\n",
       "       2237.87098408, 2297.87098408, 2357.87098408, 2417.87098408,\n",
       "       2477.87098408, 2537.87098408, 2597.87098408, 2657.87098408,\n",
       "       2717.87098408, 2777.87098408, 2837.87098408, 2897.87098408,\n",
       "       2957.87098408, 3017.87098408, 3077.87098408, 3137.87098408,\n",
       "       3197.87098408, 3257.87098408, 3317.87098408, 3377.87098408,\n",
       "       3437.87098408, 3497.87098408, 3557.87098408, 3617.87098408,\n",
       "       3677.87098408, 3737.87098408, 3769.09413277])"
      ]
     },
     "execution_count": 24,
     "metadata": {},
     "output_type": "execute_result"
    }
   ],
   "source": [
    "t.entries"
   ]
  },
  {
   "cell_type": "code",
   "execution_count": 88,
   "metadata": {},
   "outputs": [
    {
     "data": {
      "text/plain": [
       "array([3.729495  , 3.70861698, 3.67812431, 3.65402263])"
      ]
     },
     "execution_count": 88,
     "metadata": {},
     "output_type": "execute_result"
    }
   ],
   "source": [
    "V([200, 400, 780, 1236])  # times in seconds"
   ]
  },
  {
   "cell_type": "code",
   "execution_count": 1,
   "metadata": {},
   "outputs": [
    {
     "name": "stderr",
     "output_type": "stream",
     "text": [
      "2024-03-29 17:04:33.468 - [INFO] base_model._build_model(652): Start building full thermal model\n",
      "2024-03-29 17:04:33.587 - [INFO] base_battery_model.build_model(1073): Finish building full thermal model\n",
      "2024-03-29 17:04:33.605 - [INFO] base_model._build_model(652): Start building lumped thermal model\n",
      "2024-03-29 17:04:33.686 - [INFO] base_battery_model.build_model(1073): Finish building lumped thermal model\n",
      "2024-03-29 17:04:33.698 - [INFO] parameter_values.process_model(394): Start setting parameters for full thermal model\n",
      "2024-03-29 17:04:33.867 - [INFO] parameter_values.process_model(463): Finish setting parameters for full thermal model\n",
      "2024-03-29 17:04:33.870 - [INFO] discretisation.process_model(145): Start discretising full thermal model\n",
      "2024-03-29 17:04:33.886 - [INFO] discretisation.remove_independent_variables_from_rhs(1126): removing variable Discharge capacity [A.h] from rhs\n",
      "2024-03-29 17:04:33.888 - [INFO] discretisation.remove_independent_variables_from_rhs(1126): removing variable Throughput capacity [A.h] from rhs\n",
      "2024-03-29 17:04:34.535 - [INFO] discretisation.process_model(247): Finish discretising full thermal model\n",
      "2024-03-29 17:04:34.536 - [INFO] base_solver.solve(740): Start solving full thermal model with CasADi solver with 'safe' mode\n",
      "2024-03-29 17:04:34.540 - [INFO] base_solver.set_up(117): Start solver set-up\n",
      "2024-03-29 17:04:34.814 - [INFO] base_solver.set_up(286): Finish solver set-up\n",
      "2024-03-29 17:04:35.452 - [INFO] base_solver.solve(973): Finish solving full thermal model (the solver successfully reached the end of the integration interval)\n",
      "2024-03-29 17:04:35.453 - [INFO] base_solver.solve(974): Set-up time: 275.107 ms, Solve time: 637.319 ms (of which integration time: 350.567 ms), Total time: 912.426 ms\n",
      "2024-03-29 17:04:35.456 - [INFO] parameter_values.process_model(394): Start setting parameters for lumped thermal model\n",
      "2024-03-29 17:04:35.632 - [INFO] parameter_values.process_model(463): Finish setting parameters for lumped thermal model\n",
      "2024-03-29 17:04:35.634 - [INFO] discretisation.process_model(145): Start discretising lumped thermal model\n",
      "2024-03-29 17:04:35.649 - [INFO] discretisation.remove_independent_variables_from_rhs(1126): removing variable Discharge capacity [A.h] from rhs\n",
      "2024-03-29 17:04:35.651 - [INFO] discretisation.remove_independent_variables_from_rhs(1126): removing variable Throughput capacity [A.h] from rhs\n",
      "2024-03-29 17:04:36.097 - [INFO] discretisation.process_model(247): Finish discretising lumped thermal model\n",
      "2024-03-29 17:04:36.098 - [INFO] base_solver.solve(740): Start solving lumped thermal model with CasADi solver with 'safe' mode\n",
      "2024-03-29 17:04:36.104 - [INFO] base_solver.set_up(117): Start solver set-up\n",
      "2024-03-29 17:04:36.280 - [INFO] base_solver.set_up(286): Finish solver set-up\n",
      "2024-03-29 17:04:36.486 - [INFO] base_solver.solve(973): Finish solving lumped thermal model (the solver successfully reached the end of the integration interval)\n",
      "2024-03-29 17:04:36.487 - [INFO] base_solver.solve(974): Set-up time: 177.696 ms, Solve time: 205.027 ms (of which integration time: 128.107 ms), Total time: 382.723 ms\n"
     ]
    },
    {
     "data": {
      "application/vnd.jupyter.widget-view+json": {
       "model_id": "223cdeafa3bd4caa9312437397db7f29",
       "version_major": 2,
       "version_minor": 0
      },
      "text/plain": [
       "interactive(children=(FloatSlider(value=0.0, description='t', max=1.0, step=0.01), Output()), _dom_classes=('w…"
      ]
     },
     "metadata": {},
     "output_type": "display_data"
    },
    {
     "data": {
      "text/plain": [
       "<pybamm.plotting.quick_plot.QuickPlot at 0x1a8f4aa0460>"
      ]
     },
     "execution_count": 1,
     "metadata": {},
     "output_type": "execute_result"
    }
   ],
   "source": [
    "#\n",
    "# Compares the full and lumped thermal models for a single layer Li-ion cell\n",
    "#\n",
    "import pybamm\n",
    "\n",
    "pybamm.set_logging_level(\"INFO\")\n",
    "\n",
    "# load models\n",
    "# for the full model we use the \"x-full\" thermal submodel, which means that we solve\n",
    "# the thermal model in the x-direction for a single-layer pouch cell\n",
    "# for the lumped model we use the \"arbitrary\" cell geometry, which means that we can\n",
    "# specify the surface area for cooling and total heat transfer coefficient\n",
    "full_thermal_model = pybamm.lithium_ion.SPMe(\n",
    "    {\"thermal\": \"x-full\"}, name=\"full thermal model\"\n",
    ")\n",
    "lumped_thermal_model = pybamm.lithium_ion.SPMe(\n",
    "    {\"cell geometry\": \"arbitrary\", \"thermal\": \"lumped\"}, name=\"lumped thermal model\"\n",
    ")\n",
    "models = [full_thermal_model, lumped_thermal_model]\n",
    "\n",
    "# load parameter values, we will use the Marquis2019 parameter set\n",
    "parameter_values = pybamm.ParameterValues(\"Marquis2019\")\n",
    "# for the \"full\" model we use a heat transfer coefficient of 5 W.m-2.K-1 on the large\n",
    "# surfaces of the pouch and zero heat transfer coefficient on the tabs and edges\n",
    "full_params = parameter_values.copy()\n",
    "full_params.update(\n",
    "    {\n",
    "        \"Negative current collector surface heat transfer coefficient [W.m-2.K-1]\"\n",
    "        \"\": 5,\n",
    "        \"Positive current collector surface heat transfer coefficient [W.m-2.K-1]\"\n",
    "        \"\": 5,\n",
    "        \"Negative tab heat transfer coefficient [W.m-2.K-1]\": 0,\n",
    "        \"Positive tab heat transfer coefficient [W.m-2.K-1]\": 0,\n",
    "        \"Edge heat transfer coefficient [W.m-2.K-1]\": 0,\n",
    "    }\n",
    ")\n",
    "# for the lumped model we set the \"Total heat transfer coefficient [W.m-2.K-1]\"\n",
    "# parameter as well as the \"Cell cooling surface area [m2]\" and \"Cell volume [m3]\n",
    "# parameters. Since the \"full\" model only accounts for cooling from the large surfaces\n",
    "# of the pouch, we set the \"Surface area for cooling [m2]\" parameter to the area of the\n",
    "# large surfaces of the pouch, and the total heat transfer coefficient to 5 W.m-2.K-1\n",
    "A = parameter_values[\"Electrode width [m]\"] * parameter_values[\"Electrode height [m]\"]\n",
    "contributing_layers = [\n",
    "    \"Negative current collector\",\n",
    "    \"Negative electrode\",\n",
    "    \"Separator\",\n",
    "    \"Positive electrode\",\n",
    "    \"Positive current collector\",\n",
    "]\n",
    "total_thickness = sum(\n",
    "    [parameter_values[layer + \" thickness [m]\"] for layer in contributing_layers]\n",
    ")\n",
    "electrode_volume = (\n",
    "    total_thickness\n",
    "    * parameter_values[\"Electrode height [m]\"]\n",
    "    * parameter_values[\"Electrode width [m]\"]\n",
    ")\n",
    "lumped_params = parameter_values.copy()\n",
    "lumped_params.update(\n",
    "    {\n",
    "        \"Total heat transfer coefficient [W.m-2.K-1]\": 5,\n",
    "        \"Cell cooling surface area [m2]\": 2 * A,\n",
    "        \"Cell volume [m3]\": electrode_volume,\n",
    "    }\n",
    ")\n",
    "\n",
    "# loop over the models and solve\n",
    "params = [full_params, lumped_params]\n",
    "sols = []\n",
    "for model, param in zip(models, params):\n",
    "    sim = pybamm.Simulation(model, parameter_values=param)\n",
    "    sim.solve([0, 3600])\n",
    "    sols.append(sim.solution)\n",
    "\n",
    "# plot\n",
    "output_variables = [\n",
    "    \"Voltage [V]\",\n",
    "    \"X-averaged cell temperature [K]\",\n",
    "    \"Cell temperature [K]\",\n",
    "]\n",
    "pybamm.dynamic_plot(sols, output_variables)"
   ]
  },
  {
   "cell_type": "code",
   "execution_count": 15,
   "metadata": {},
   "outputs": [],
   "source": [
    "temp = sols[0][\"Cell temperature [K]\"]"
   ]
  },
  {
   "cell_type": "code",
   "execution_count": 16,
   "metadata": {},
   "outputs": [
    {
     "data": {
      "text/plain": [
       "array([[298.15      , 298.26145738, 298.31810723, ..., 298.57139159,\n",
       "        298.63532892, 298.72181266],\n",
       "       [298.15      , 298.26145957, 298.31810997, ..., 298.57139817,\n",
       "        298.63533657, 298.72182176],\n",
       "       [298.15      , 298.26146178, 298.31811272, ..., 298.57140477,\n",
       "        298.63534427, 298.72183091],\n",
       "       ...,\n",
       "       [298.15      , 298.26161411, 298.31827602, ..., 298.57188143,\n",
       "        298.63591236, 298.72252012],\n",
       "       [298.15      , 298.26161263, 298.31827405, ..., 298.57187673,\n",
       "        298.63590692, 298.72251368],\n",
       "       [298.15      , 298.26161099, 298.31827189, ..., 298.5718715 ,\n",
       "        298.63590084, 298.72250646]])"
      ]
     },
     "execution_count": 16,
     "metadata": {},
     "output_type": "execute_result"
    }
   ],
   "source": [
    "temp.entries"
   ]
  }
 ],
 "metadata": {
  "kernelspec": {
   "display_name": "batt",
   "language": "python",
   "name": "python3"
  },
  "language_info": {
   "codemirror_mode": {
    "name": "ipython",
    "version": 3
   },
   "file_extension": ".py",
   "mimetype": "text/x-python",
   "name": "python",
   "nbconvert_exporter": "python",
   "pygments_lexer": "ipython3",
   "version": "3.10.14"
  }
 },
 "nbformat": 4,
 "nbformat_minor": 2
}
