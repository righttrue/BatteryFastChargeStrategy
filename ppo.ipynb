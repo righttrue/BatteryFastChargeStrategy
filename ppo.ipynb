{
 "cells": [
  {
   "cell_type": "code",
   "execution_count": 4,
   "metadata": {},
   "outputs": [],
   "source": [
    "import warnings\n",
    "warnings.filterwarnings('ignore')\n",
    "import tensorflow.compat.v1 as tf\n",
    "tf.disable_v2_behavior()"
   ]
  },
  {
   "cell_type": "code",
   "execution_count": 5,
   "metadata": {},
   "outputs": [],
   "source": [
    "import numpy as np\n",
    "import matplotlib.pyplot as plt\n",
    "import gym"
   ]
  },
  {
   "cell_type": "code",
   "execution_count": 8,
   "metadata": {},
   "outputs": [],
   "source": [
    "env = gym.make('Pendulum-v1').unwrapped"
   ]
  },
  {
   "cell_type": "code",
   "execution_count": 10,
   "metadata": {},
   "outputs": [],
   "source": [
    "state_shape = env.observation_space.shape[0]\n",
    "action_shpae = env.action_space.shape[0]\n",
    "action_bound = [env.action_space.low, env.action_space.high]\n",
    "epsilon = 0.2"
   ]
  },
  {
   "cell_type": "code",
   "execution_count": null,
   "metadata": {},
   "outputs": [],
   "source": [
    "class PPO(object):\n",
    "    def __init__(self):\n",
    "        # start the tensorFlow session\n",
    "        self.sess = tf.Session()\n",
    "        # Define the placeholder for the state\n",
    "        self.state_ph = tf.placeholder(tf.float32, [None, state_shape],'state')\n",
    "        # build the value network that returns the value of a state\n",
    "        with tf.variable_scope('value'):\n",
    "\n",
    "            layer1 = tf.layers.dense(self.state_ph, 100, tf.nn.relu)\n",
    "            self.v = tf.layers.dense(layer1, 1)\n",
    "            self.Q = tf.placeholder(tf.float32, [None,1], 'discounted_r')"
   ]
  },
  {
   "cell_type": "code",
   "execution_count": null,
   "metadata": {},
   "outputs": [],
   "source": []
  }
 ],
 "metadata": {
  "kernelspec": {
   "display_name": "DM",
   "language": "python",
   "name": "python3"
  },
  "language_info": {
   "codemirror_mode": {
    "name": "ipython",
    "version": 3
   },
   "file_extension": ".py",
   "mimetype": "text/x-python",
   "name": "python",
   "nbconvert_exporter": "python",
   "pygments_lexer": "ipython3",
   "version": "3.11.5"
  }
 },
 "nbformat": 4,
 "nbformat_minor": 2
}
