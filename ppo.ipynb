{
 "cells": [
  {
   "cell_type": "code",
   "execution_count": 4,
   "metadata": {},
   "outputs": [],
   "source": [
    "import warnings\n",
    "warnings.filterwarnings('ignore')\n",
    "import tensorflow.compat.v1 as tf\n",
    "tf.disable_v2_behavior()"
   ]
  },
  {
   "cell_type": "code",
   "execution_count": 5,
   "metadata": {},
   "outputs": [],
   "source": [
    "import numpy as np\n",
    "import matplotlib.pyplot as plt\n",
    "import gym"
   ]
  },
  {
   "cell_type": "code",
   "execution_count": 8,
   "metadata": {},
   "outputs": [],
   "source": [
    "env = gym.make('Pendulum-v1').unwrapped"
   ]
  },
  {
   "cell_type": "code",
   "execution_count": 10,
   "metadata": {},
   "outputs": [],
   "source": [
    "state_shape = env.observation_space.shape[0]\n",
    "action_shpae = env.action_space.shape[0]\n",
    "action_bound = [env.action_space.low, env.action_space.high]\n",
    "epsilon = 0.2"
   ]
  },
  {
   "cell_type": "code",
   "execution_count": 1,
   "metadata": {},
   "outputs": [],
   "source": [
    "class PPO(object):\n",
    "    def __init__(self):\n",
    "        # start the tensorFlow session\n",
    "        self.sess = tf.Session()\n",
    "        # Define the placeholder for the state\n",
    "        self.state_ph = tf.placeholder(tf.float32, [None, state_shape],'state')\n",
    "        # build the value network that returns the value of a state\n",
    "        with tf.variable_scope('value'):\n",
    "\n",
    "            layer1 = tf.layers.dense(self.state_ph, 100, tf.nn.relu)\n",
    "            self.v = tf.layers.dense(layer1, 1)\n",
    "            self.Q = tf.placeholder(tf.float32, [None,1], 'discounted_r')\n",
    "            self.advantage = self.Q - self.v\n",
    "            self.value_loss = tf.reduce_mean(tf.square(self.advantage))\n",
    "            self.train_value_nw = tf.train_AdamOptimizer(0.002).minimize(self.value_loss)\n",
    "        \n",
    "        pi, pi_params = self.build_policy_network('pi', trainable = True)\n",
    "        oldpi, oldpi_params = self.build_policy_network('oldpi', trainable = False)\n",
    "\n",
    "        with tf.variable_scope('sample_action'):\n",
    "            self.sample_op = tf.squeeze(pi.sample(1), axis = 0)\n",
    "\n",
    "        with tf.variable_scope('update_oldpi'):\n",
    "            self.update_oldpi_op = [oldp.assign(p) for p, oldp in zip(pi_params, oldpi_params)]\n",
    "\n",
    "        self.action_ph = tf.placehoder(tf.float32, [None, action_shpae], 'action')\n",
    "        self.advantage_ph = tf.placehoder(tf.float32, [None, 1], 'advantage')\n",
    "\n",
    "        with tf.variable_scope('loss'):\n",
    "            with tf.variable_scope('surrogate'):\n",
    "                ratio = pi.prob(self.action_ph) / oldpi.prob(self.action_ph)\n",
    "                objective = ratio * self.advantage_ph\n",
    "                L = tf.reduce_mean(tf.minimum(objective, tf.clip_by_value(ratio, 1.-epsilon,1.+epsilon)*self.advantage_ph))\n",
    "            self.policy_loss = -L\n",
    "\n",
    "        with tf.variable_scope('train_policy'):\n",
    "            self.train_policy_nw = tf.train_AdamOptimizer(0.001).minimize(self.policy_loss)\n",
    "\n",
    "        self.sess.run(tf.global_variables.initializer())\n",
    "\n",
    "    def train(self, state, action, reward):\n",
    "        self.sess.run(self.update_oldpi_op)\n",
    "        adv = self.sess.run"
   ]
  },
  {
   "cell_type": "code",
   "execution_count": null,
   "metadata": {},
   "outputs": [],
   "source": []
  }
 ],
 "metadata": {
  "kernelspec": {
   "display_name": "DM",
   "language": "python",
   "name": "python3"
  },
  "language_info": {
   "codemirror_mode": {
    "name": "ipython",
    "version": 3
   },
   "file_extension": ".py",
   "mimetype": "text/x-python",
   "name": "python",
   "nbconvert_exporter": "python",
   "pygments_lexer": "ipython3",
   "version": "3.11.5"
  }
 },
 "nbformat": 4,
 "nbformat_minor": 2
}
