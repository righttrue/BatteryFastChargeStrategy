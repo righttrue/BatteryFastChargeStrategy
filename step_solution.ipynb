{
 "cells": [
  {
   "cell_type": "code",
   "execution_count": 1,
   "metadata": {},
   "outputs": [],
   "source": [
    "import os\n",
    "\n",
    "# 환경 변수 설정\n",
    "os.environ[\"KMP_DUPLICATE_LIB_OK\"] = \"TRUE\"\n",
    "\n",
    "import random\n",
    "import pandas as pd\n",
    "import numpy as np\n",
    "\n",
    "\n",
    "import gymnasium as gym\n",
    "from gymnasium import spaces\n",
    "import pybamm\n",
    "from gymnasium import Env\n",
    "\n",
    "\n",
    "from stable_baselines3 import DDPG, PPO\n",
    "from stable_baselines3.common.env_checker import check_env\n",
    "from stable_baselines3.common.noise import NormalActionNoise"
   ]
  },
  {
   "cell_type": "code",
   "execution_count": 26,
   "metadata": {},
   "outputs": [],
   "source": [
    "class DFN(Env):\n",
    "    def __init__(self, render_mode=None):\n",
    "        option = {\"thermal\":\"lumped\"}\n",
    "        self.model = pybamm.lithium_ion.SPMe(option)\n",
    "        self.SoC_desired = 0.8\n",
    "        self.r_max_temp = 273 + 30\n",
    "        self.r_max_volt = 4.2\n",
    "        self.Time_goal = 60\n",
    "        self.SoC = 0.2\n",
    "        self.ep_num = 0\n",
    "        # Define observation space and action space\n",
    "        self.observation_space = spaces.Box(low=0, high=400, shape=(3,), dtype=np.float32)\n",
    "        self.action_space = spaces.Box(dtype=np.float32, low=0, high=10, shape=(1,))\n",
    "\n",
    "        # Initialize PyBaMM model and simulation\n",
    "        self.parameter_values = pybamm.ParameterValues(\"Chen2020\")\n",
    "        update_input = ({\n",
    "            'Number of cells connected in series to make a battery': 4.0,\n",
    "            'Number of electrodes connected in parallel to make a cell': 4.0,\n",
    "            'Upper voltage cut-off [V]': 5,})\n",
    "\n",
    "\n",
    "        self.parameter_values.update(update_input)\n",
    "        self.solution = []\n",
    "        self.temp = 0\n",
    "        self.volt = 0\n",
    "        \n",
    "    def _get_obs(self):\n",
    "        #return np.array([self.SoC])\n",
    "        return np.array([self.SoC, self.volt, self.temp], dtype=np.float32)  \n",
    "    \n",
    "    def _get_info(self):\n",
    "        return {\"distance\": self.SoC_desired - self.SoC}    \n",
    "    def get_parameter_values(self):\n",
    "        parms = self.parameter_values.copy()\n",
    "        return parms\n",
    "    def reset(self, seed=None, options=None):\n",
    "        super().reset(seed=seed)\n",
    "        option = {\"thermal\":\"lumped\"}\n",
    "        model = pybamm.lithium_ion.SPMe(option)\n",
    "        parms = self.parameter_values.copy()\n",
    "        self.solution = []\n",
    "        # Reset SoC and start a new simulation\n",
    "        self.SoC = 0.2\n",
    "        experiment = pybamm.Experiment([\"Rest for 30 min\"])\n",
    "        sim = pybamm.Simulation(model, experiment=experiment,parameter_values = parms)\n",
    "        step_solution = sim.solve(initial_soc = 0.2)\n",
    "\n",
    "        self.solution += [step_solution.last_state]\n",
    "        observation = self._get_obs()\n",
    "        info = self._get_info()\n",
    "        self.ep_num +=1\n",
    "        print(self.ep_num)\n",
    "        return observation, info\n",
    "\n",
    "    def step(self, action):\n",
    "        option = {\"thermal\":\"lumped\"}\n",
    "        model = pybamm.lithium_ion.SPMe(option)\n",
    "        parms = self.parameter_values.copy()\n",
    "        if self.SoC >= self.SoC_desired:\n",
    "            terminated = True\n",
    "\n",
    "        else:\n",
    "             terminated = False\n",
    "        charge_rate = float(action)\n",
    "        # Perform one step in the simulation with the given action (charge rate)\n",
    "        #try:\n",
    "\n",
    "            # experiment = pybamm.Experiment([f\"Charge at {charge_rate}A for 30 sec or until 4.2 V\"])\n",
    "        experiment = pybamm.Experiment([f\"Charge at {charge_rate}C for 30 sec or until 4.2 V\"])\n",
    "        sim = pybamm.Simulation(model, experiment=experiment, parameter_values = parms)\n",
    "        step_solution = sim.solve(starting_solution=self.solution[-1].last_state)\n",
    "\n",
    "\n",
    "        self.solution +=[step_solution]\n",
    "        \n",
    "\n",
    "        # Calculate reward based on various factors\n",
    "        self.SoC -= step_solution[\"Discharge capacity [A.h]\"].entries[-1] / self.parameter_values[\"Nominal cell capacity [A.h]\"]\n",
    "        self.volt = step_solution[\"Terminal voltage [V]\"].entries[-1]\n",
    "        self.temp = step_solution[\"X-averaged cell temperature [K]\"].entries[-1]\n",
    "        r_temp = -5 * abs(self.temp - self.r_max_temp) if self.temp > self.r_max_temp else 0\n",
    "        r_volt = -100 * abs(self.volt - self.r_max_volt) if self.volt > self.r_max_volt else 0\n",
    "        r_fast = -0.1\n",
    "        reward = r_fast + r_temp + r_volt\n",
    "\n",
    "        # except:\n",
    "        #     terminated = True\n",
    "        #     reward = -1000\n",
    "        observation = self._get_obs()\n",
    "        info = self._get_info()\n",
    "        print(self.volt,self.temp,self.SoC,reward)\n",
    "        #print(observation,reward, terminated, False, info)\n",
    "        # print(len(self.solution))\n",
    "        # Check if termination condition is met\n",
    "        \n",
    "\n",
    "        return observation, reward, terminated, False, info\n",
    "\n",
    "    def render(self, mode='human'):\n",
    "        pass\n"
   ]
  },
  {
   "cell_type": "code",
   "execution_count": 31,
   "metadata": {},
   "outputs": [],
   "source": [
    "env = DFN()"
   ]
  },
  {
   "cell_type": "code",
   "execution_count": 32,
   "metadata": {},
   "outputs": [
    {
     "name": "stdout",
     "output_type": "stream",
     "text": [
      "1\n"
     ]
    },
    {
     "data": {
      "text/plain": [
       "(array([0.2, 0. , 0. ], dtype=float32), {'distance': 0.6000000000000001})"
      ]
     },
     "execution_count": 32,
     "metadata": {},
     "output_type": "execute_result"
    }
   ],
   "source": [
    "env.reset()"
   ]
  },
  {
   "cell_type": "code",
   "execution_count": 33,
   "metadata": {},
   "outputs": [
    {
     "ename": "SolverError",
     "evalue": "Step 'Charge at 0.1C for 30 sec or until 4.2 V' is infeasible due to exceeded bounds at initial conditions. If this step is part of a longer cycle, round brackets should be used to indicate this, e.g.:\n pybamm.Experiment([(\n\tDischarge at C/5 for 10 hours or until 3.3 V,\n\tCharge at 1 A until 4.1 V,\n\tHold at 4.1 V until 10 mA\n])",
     "output_type": "error",
     "traceback": [
      "\u001b[1;31m---------------------------------------------------------------------------\u001b[0m",
      "\u001b[1;31mSolverError\u001b[0m                               Traceback (most recent call last)",
      "Cell \u001b[1;32mIn[33], line 1\u001b[0m\n\u001b[1;32m----> 1\u001b[0m \u001b[43menv\u001b[49m\u001b[38;5;241;43m.\u001b[39;49m\u001b[43mstep\u001b[49m\u001b[43m(\u001b[49m\u001b[38;5;241;43m0.1\u001b[39;49m\u001b[43m)\u001b[49m\n",
      "Cell \u001b[1;32mIn[26], line 72\u001b[0m, in \u001b[0;36mDFN.step\u001b[1;34m(self, action)\u001b[0m\n\u001b[0;32m     70\u001b[0m experiment \u001b[38;5;241m=\u001b[39m pybamm\u001b[38;5;241m.\u001b[39mExperiment([\u001b[38;5;124mf\u001b[39m\u001b[38;5;124m\"\u001b[39m\u001b[38;5;124mCharge at \u001b[39m\u001b[38;5;132;01m{\u001b[39;00mcharge_rate\u001b[38;5;132;01m}\u001b[39;00m\u001b[38;5;124mC for 30 sec or until 4.2 V\u001b[39m\u001b[38;5;124m\"\u001b[39m])\n\u001b[0;32m     71\u001b[0m sim \u001b[38;5;241m=\u001b[39m pybamm\u001b[38;5;241m.\u001b[39mSimulation(model, experiment\u001b[38;5;241m=\u001b[39mexperiment, parameter_values \u001b[38;5;241m=\u001b[39m parms)\n\u001b[1;32m---> 72\u001b[0m step_solution \u001b[38;5;241m=\u001b[39m \u001b[43msim\u001b[49m\u001b[38;5;241;43m.\u001b[39;49m\u001b[43msolve\u001b[49m\u001b[43m(\u001b[49m\u001b[43mstarting_solution\u001b[49m\u001b[38;5;241;43m=\u001b[39;49m\u001b[38;5;28;43mself\u001b[39;49m\u001b[38;5;241;43m.\u001b[39;49m\u001b[43msolution\u001b[49m\u001b[43m[\u001b[49m\u001b[38;5;241;43m-\u001b[39;49m\u001b[38;5;241;43m1\u001b[39;49m\u001b[43m]\u001b[49m\u001b[38;5;241;43m.\u001b[39;49m\u001b[43mlast_state\u001b[49m\u001b[43m)\u001b[49m\n\u001b[0;32m     75\u001b[0m \u001b[38;5;28mself\u001b[39m\u001b[38;5;241m.\u001b[39msolution \u001b[38;5;241m+\u001b[39m\u001b[38;5;241m=\u001b[39m[step_solution]\n\u001b[0;32m     78\u001b[0m \u001b[38;5;66;03m# Calculate reward based on various factors\u001b[39;00m\n",
      "File \u001b[1;32mc:\\Users\\User\\anaconda3\\envs\\batt\\lib\\site-packages\\pybamm\\simulation.py:882\u001b[0m, in \u001b[0;36mSimulation.solve\u001b[1;34m(self, t_eval, solver, check_model, save_at_cycles, calc_esoh, starting_solution, initial_soc, callbacks, showprogress, **kwargs)\u001b[0m\n\u001b[0;32m    880\u001b[0m \u001b[38;5;28;01mif\u001b[39;00m \u001b[38;5;28mall\u001b[39m(\u001b[38;5;28misinstance\u001b[39m(step, pybamm\u001b[38;5;241m.\u001b[39mEmptySolution) \u001b[38;5;28;01mfor\u001b[39;00m step \u001b[38;5;129;01min\u001b[39;00m steps):\n\u001b[0;32m    881\u001b[0m     \u001b[38;5;28;01mif\u001b[39;00m \u001b[38;5;28mlen\u001b[39m(steps) \u001b[38;5;241m==\u001b[39m \u001b[38;5;241m1\u001b[39m:\n\u001b[1;32m--> 882\u001b[0m         \u001b[38;5;28;01mraise\u001b[39;00m pybamm\u001b[38;5;241m.\u001b[39mSolverError(\n\u001b[0;32m    883\u001b[0m             \u001b[38;5;124mf\u001b[39m\u001b[38;5;124m\"\u001b[39m\u001b[38;5;124mStep \u001b[39m\u001b[38;5;124m'\u001b[39m\u001b[38;5;132;01m{\u001b[39;00mop_conds_str\u001b[38;5;132;01m}\u001b[39;00m\u001b[38;5;124m'\u001b[39m\u001b[38;5;124m is infeasible \u001b[39m\u001b[38;5;124m\"\u001b[39m\n\u001b[0;32m    884\u001b[0m             \u001b[38;5;124m\"\u001b[39m\u001b[38;5;124mdue to exceeded bounds at initial conditions. \u001b[39m\u001b[38;5;124m\"\u001b[39m\n\u001b[0;32m    885\u001b[0m             \u001b[38;5;124m\"\u001b[39m\u001b[38;5;124mIf this step is part of a longer cycle, \u001b[39m\u001b[38;5;124m\"\u001b[39m\n\u001b[0;32m    886\u001b[0m             \u001b[38;5;124m\"\u001b[39m\u001b[38;5;124mround brackets should be used to indicate this, \u001b[39m\u001b[38;5;124m\"\u001b[39m\n\u001b[0;32m    887\u001b[0m             \u001b[38;5;124m\"\u001b[39m\u001b[38;5;124me.g.:\u001b[39m\u001b[38;5;130;01m\\n\u001b[39;00m\u001b[38;5;124m pybamm.Experiment([(\u001b[39m\u001b[38;5;130;01m\\n\u001b[39;00m\u001b[38;5;124m\"\u001b[39m\n\u001b[0;32m    888\u001b[0m             \u001b[38;5;124m\"\u001b[39m\u001b[38;5;130;01m\\t\u001b[39;00m\u001b[38;5;124mDischarge at C/5 for 10 hours or until 3.3 V,\u001b[39m\u001b[38;5;130;01m\\n\u001b[39;00m\u001b[38;5;124m\"\u001b[39m\n\u001b[0;32m    889\u001b[0m             \u001b[38;5;124m\"\u001b[39m\u001b[38;5;130;01m\\t\u001b[39;00m\u001b[38;5;124mCharge at 1 A until 4.1 V,\u001b[39m\u001b[38;5;130;01m\\n\u001b[39;00m\u001b[38;5;124m\"\u001b[39m\n\u001b[0;32m    890\u001b[0m             \u001b[38;5;124m\"\u001b[39m\u001b[38;5;130;01m\\t\u001b[39;00m\u001b[38;5;124mHold at 4.1 V until 10 mA\u001b[39m\u001b[38;5;130;01m\\n\u001b[39;00m\u001b[38;5;124m\"\u001b[39m\n\u001b[0;32m    891\u001b[0m             \u001b[38;5;124m\"\u001b[39m\u001b[38;5;124m])\u001b[39m\u001b[38;5;124m\"\u001b[39m\n\u001b[0;32m    892\u001b[0m         )\n\u001b[0;32m    893\u001b[0m     \u001b[38;5;28;01melse\u001b[39;00m:\n\u001b[0;32m    894\u001b[0m         this_cycle \u001b[38;5;241m=\u001b[39m \u001b[38;5;28mself\u001b[39m\u001b[38;5;241m.\u001b[39mexperiment\u001b[38;5;241m.\u001b[39moperating_conditions_cycles[\n\u001b[0;32m    895\u001b[0m             cycle_num \u001b[38;5;241m-\u001b[39m \u001b[38;5;241m1\u001b[39m\n\u001b[0;32m    896\u001b[0m         ]\n",
      "\u001b[1;31mSolverError\u001b[0m: Step 'Charge at 0.1C for 30 sec or until 4.2 V' is infeasible due to exceeded bounds at initial conditions. If this step is part of a longer cycle, round brackets should be used to indicate this, e.g.:\n pybamm.Experiment([(\n\tDischarge at C/5 for 10 hours or until 3.3 V,\n\tCharge at 1 A until 4.1 V,\n\tHold at 4.1 V until 10 mA\n])"
     ]
    }
   ],
   "source": [
    "env.step(0.1)"
   ]
  },
  {
   "cell_type": "code",
   "execution_count": 30,
   "metadata": {},
   "outputs": [
    {
     "data": {
      "text/plain": [
       "{'Ambient temperature [K]': 298.15,\n",
       " 'Boltzmann constant [J.K-1]': 1.380649e-23,\n",
       " 'Bulk solvent concentration [mol.m-3]': 2636.0,\n",
       " 'Cation transference number': 0.2594,\n",
       " 'Cell cooling surface area [m2]': 0.00531,\n",
       " 'Cell thermal expansion coefficient [m.K-1]': 1.1e-06,\n",
       " 'Cell volume [m3]': 2.42e-05,\n",
       " 'Contact resistance [Ohm]': 0,\n",
       " 'Current function [A]': 5.0,\n",
       " 'EC diffusivity [m2.s-1]': 2e-18,\n",
       " 'EC initial concentration in electrolyte [mol.m-3]': 4541.0,\n",
       " 'Electrode height [m]': 0.065,\n",
       " 'Electrode width [m]': 1.58,\n",
       " 'Electrolyte conductivity [S.m-1]': <function electrolyte_conductivity_Nyman2008 at 0x00000155FFC2C3A0>,\n",
       " 'Electrolyte diffusivity [m2.s-1]': <function electrolyte_diffusivity_Nyman2008 at 0x00000155FFC2C310>,\n",
       " 'Electron charge [C]': 1.602176634e-19,\n",
       " 'Faraday constant [C.mol-1]': 96485.33212,\n",
       " 'Ideal gas constant [J.K-1.mol-1]': 8.314462618,\n",
       " 'Initial concentration in electrolyte [mol.m-3]': 1000.0,\n",
       " 'Initial concentration in negative electrode [mol.m-3]': 29866.0,\n",
       " 'Initial concentration in positive electrode [mol.m-3]': 17038.0,\n",
       " 'Initial inner SEI thickness [m]': 2.5e-09,\n",
       " 'Initial outer SEI thickness [m]': 2.5e-09,\n",
       " 'Initial temperature [K]': 298.15,\n",
       " 'Inner SEI electron conductivity [S.m-1]': 8.95e-14,\n",
       " 'Inner SEI lithium interstitial diffusivity [m2.s-1]': 1e-20,\n",
       " 'Inner SEI open-circuit potential [V]': 0.1,\n",
       " 'Inner SEI partial molar volume [m3.mol-1]': 9.585e-05,\n",
       " 'Inner SEI reaction proportion': 0.5,\n",
       " 'Lithium interstitial reference concentration [mol.m-3]': 15.0,\n",
       " 'Lower voltage cut-off [V]': 2.5,\n",
       " 'Maximum concentration in negative electrode [mol.m-3]': 33133.0,\n",
       " 'Maximum concentration in positive electrode [mol.m-3]': 63104.0,\n",
       " 'Negative current collector conductivity [S.m-1]': 58411000.0,\n",
       " 'Negative current collector density [kg.m-3]': 8960.0,\n",
       " 'Negative current collector specific heat capacity [J.kg-1.K-1]': 385.0,\n",
       " 'Negative current collector thermal conductivity [W.m-1.K-1]': 401.0,\n",
       " 'Negative current collector thickness [m]': 1.2e-05,\n",
       " 'Negative electrode Bruggeman coefficient (electrode)': 0,\n",
       " 'Negative electrode Bruggeman coefficient (electrolyte)': 1.5,\n",
       " 'Negative electrode OCP [V]': <function graphite_LGM50_ocp_Chen2020 at 0x00000155FFC2C670>,\n",
       " 'Negative electrode OCP entropic change [V.K-1]': 0.0,\n",
       " 'Negative electrode active material volume fraction': 0.75,\n",
       " 'Negative electrode charge transfer coefficient': 0.5,\n",
       " 'Negative electrode conductivity [S.m-1]': 215.0,\n",
       " 'Negative electrode density [kg.m-3]': 1657.0,\n",
       " 'Negative electrode diffusivity [m2.s-1]': 3.3e-14,\n",
       " 'Negative electrode double-layer capacity [F.m-2]': 0.2,\n",
       " 'Negative electrode exchange-current density [A.m-2]': <function graphite_LGM50_electrolyte_exchange_current_density_Chen2020 at 0x00000155FFC2C790>,\n",
       " 'Negative electrode porosity': 0.25,\n",
       " 'Negative electrode reaction-driven LAM factor [m3.mol-1]': 0.0,\n",
       " 'Negative electrode specific heat capacity [J.kg-1.K-1]': 700.0,\n",
       " 'Negative electrode thermal conductivity [W.m-1.K-1]': 1.7,\n",
       " 'Negative electrode thickness [m]': 8.52e-05,\n",
       " 'Negative particle radius [m]': 5.86e-06,\n",
       " 'Nominal cell capacity [A.h]': 5.0,\n",
       " 'Number of cells connected in series to make a battery': 4.0,\n",
       " 'Number of electrodes connected in parallel to make a cell': 4.0,\n",
       " 'Open-circuit voltage at 0% SOC [V]': 2.5,\n",
       " 'Open-circuit voltage at 100% SOC [V]': 4.2,\n",
       " 'Outer SEI open-circuit potential [V]': 0.8,\n",
       " 'Outer SEI partial molar volume [m3.mol-1]': 9.585e-05,\n",
       " 'Outer SEI solvent diffusivity [m2.s-1]': 2.5000000000000002e-22,\n",
       " 'Positive current collector conductivity [S.m-1]': 36914000.0,\n",
       " 'Positive current collector density [kg.m-3]': 2700.0,\n",
       " 'Positive current collector specific heat capacity [J.kg-1.K-1]': 897.0,\n",
       " 'Positive current collector thermal conductivity [W.m-1.K-1]': 237.0,\n",
       " 'Positive current collector thickness [m]': 1.6e-05,\n",
       " 'Positive electrode Bruggeman coefficient (electrode)': 0,\n",
       " 'Positive electrode Bruggeman coefficient (electrolyte)': 1.5,\n",
       " 'Positive electrode OCP [V]': <function nmc_LGM50_ocp_Chen2020 at 0x00000155FFC2C700>,\n",
       " 'Positive electrode OCP entropic change [V.K-1]': 0.0,\n",
       " 'Positive electrode active material volume fraction': 0.665,\n",
       " 'Positive electrode charge transfer coefficient': 0.5,\n",
       " 'Positive electrode conductivity [S.m-1]': 0.18,\n",
       " 'Positive electrode density [kg.m-3]': 3262.0,\n",
       " 'Positive electrode diffusivity [m2.s-1]': 4e-15,\n",
       " 'Positive electrode double-layer capacity [F.m-2]': 0.2,\n",
       " 'Positive electrode exchange-current density [A.m-2]': <function nmc_LGM50_electrolyte_exchange_current_density_Chen2020 at 0x00000155FFC2C280>,\n",
       " 'Positive electrode porosity': 0.335,\n",
       " 'Positive electrode reaction-driven LAM factor [m3.mol-1]': 0.0,\n",
       " 'Positive electrode specific heat capacity [J.kg-1.K-1]': 700.0,\n",
       " 'Positive electrode thermal conductivity [W.m-1.K-1]': 2.1,\n",
       " 'Positive electrode thickness [m]': 7.56e-05,\n",
       " 'Positive particle radius [m]': 5.22e-06,\n",
       " 'Ratio of lithium moles to SEI moles': 2.0,\n",
       " 'Reference temperature [K]': 298.15,\n",
       " 'SEI growth activation energy [J.mol-1]': 0.0,\n",
       " 'SEI kinetic rate constant [m.s-1]': 1e-12,\n",
       " 'SEI open-circuit potential [V]': 0.4,\n",
       " 'SEI reaction exchange current density [A.m-2]': 1.5e-07,\n",
       " 'SEI resistivity [Ohm.m]': 200000.0,\n",
       " 'Separator Bruggeman coefficient (electrolyte)': 1.5,\n",
       " 'Separator density [kg.m-3]': 397.0,\n",
       " 'Separator porosity': 0.47,\n",
       " 'Separator specific heat capacity [J.kg-1.K-1]': 700.0,\n",
       " 'Separator thermal conductivity [W.m-1.K-1]': 0.16,\n",
       " 'Separator thickness [m]': 1.2e-05,\n",
       " 'Thermodynamic factor': 1.0,\n",
       " 'Total heat transfer coefficient [W.m-2.K-1]': 10.0,\n",
       " 'Upper voltage cut-off [V]': 5,\n",
       " 'citations': ['Chen2020']}"
      ]
     },
     "execution_count": 30,
     "metadata": {},
     "output_type": "execute_result"
    }
   ],
   "source": [
    "a = env.get_parameter_values()\n",
    "a"
   ]
  },
  {
   "cell_type": "code",
   "execution_count": 9,
   "metadata": {},
   "outputs": [
    {
     "name": "stdout",
     "output_type": "stream",
     "text": [
      "1\n",
      "2\n"
     ]
    },
    {
     "ename": "SolverError",
     "evalue": "Step 'Charge at 3.4108448028564453C for 30 sec or until 4.2 V' is infeasible due to exceeded bounds at initial conditions. If this step is part of a longer cycle, round brackets should be used to indicate this, e.g.:\n pybamm.Experiment([(\n\tDischarge at C/5 for 10 hours or until 3.3 V,\n\tCharge at 1 A until 4.1 V,\n\tHold at 4.1 V until 10 mA\n])",
     "output_type": "error",
     "traceback": [
      "\u001b[1;31m---------------------------------------------------------------------------\u001b[0m",
      "\u001b[1;31mSolverError\u001b[0m                               Traceback (most recent call last)",
      "Cell \u001b[1;32mIn[9], line 3\u001b[0m\n\u001b[0;32m      1\u001b[0m env \u001b[38;5;241m=\u001b[39m DFN()\n\u001b[0;32m      2\u001b[0m \u001b[38;5;66;03m# It will check your custom environment and output additional warnings if needed\u001b[39;00m\n\u001b[1;32m----> 3\u001b[0m \u001b[43mcheck_env\u001b[49m\u001b[43m(\u001b[49m\u001b[43menv\u001b[49m\u001b[43m)\u001b[49m\n",
      "File \u001b[1;32mc:\\Users\\User\\anaconda3\\envs\\batt\\lib\\site-packages\\stable_baselines3\\common\\env_checker.py:473\u001b[0m, in \u001b[0;36mcheck_env\u001b[1;34m(env, warn, skip_render_check)\u001b[0m\n\u001b[0;32m    470\u001b[0m     \u001b[38;5;28;01mreturn\u001b[39;00m\n\u001b[0;32m    472\u001b[0m \u001b[38;5;66;03m# ============ Check the returned values ===============\u001b[39;00m\n\u001b[1;32m--> 473\u001b[0m \u001b[43m_check_returned_values\u001b[49m\u001b[43m(\u001b[49m\u001b[43menv\u001b[49m\u001b[43m,\u001b[49m\u001b[43m \u001b[49m\u001b[43mobservation_space\u001b[49m\u001b[43m,\u001b[49m\u001b[43m \u001b[49m\u001b[43maction_space\u001b[49m\u001b[43m)\u001b[49m\n\u001b[0;32m    475\u001b[0m \u001b[38;5;66;03m# ==== Check the render method and the declared render modes ====\u001b[39;00m\n\u001b[0;32m    476\u001b[0m \u001b[38;5;28;01mif\u001b[39;00m \u001b[38;5;129;01mnot\u001b[39;00m skip_render_check:\n",
      "File \u001b[1;32mc:\\Users\\User\\anaconda3\\envs\\batt\\lib\\site-packages\\stable_baselines3\\common\\env_checker.py:304\u001b[0m, in \u001b[0;36m_check_returned_values\u001b[1;34m(env, observation_space, action_space)\u001b[0m\n\u001b[0;32m    302\u001b[0m \u001b[38;5;66;03m# Sample a random action\u001b[39;00m\n\u001b[0;32m    303\u001b[0m action \u001b[38;5;241m=\u001b[39m action_space\u001b[38;5;241m.\u001b[39msample()\n\u001b[1;32m--> 304\u001b[0m data \u001b[38;5;241m=\u001b[39m \u001b[43menv\u001b[49m\u001b[38;5;241;43m.\u001b[39;49m\u001b[43mstep\u001b[49m\u001b[43m(\u001b[49m\u001b[43maction\u001b[49m\u001b[43m)\u001b[49m\n\u001b[0;32m    306\u001b[0m \u001b[38;5;28;01massert\u001b[39;00m \u001b[38;5;28mlen\u001b[39m(data) \u001b[38;5;241m==\u001b[39m \u001b[38;5;241m5\u001b[39m, (\n\u001b[0;32m    307\u001b[0m     \u001b[38;5;124m\"\u001b[39m\u001b[38;5;124mThe `step()` method must return five values: \u001b[39m\u001b[38;5;124m\"\u001b[39m\n\u001b[0;32m    308\u001b[0m     \u001b[38;5;124mf\u001b[39m\u001b[38;5;124m\"\u001b[39m\u001b[38;5;124mobs, reward, terminated, truncated, info. Actual: \u001b[39m\u001b[38;5;132;01m{\u001b[39;00m\u001b[38;5;28mlen\u001b[39m(data)\u001b[38;5;132;01m}\u001b[39;00m\u001b[38;5;124m values returned.\u001b[39m\u001b[38;5;124m\"\u001b[39m\n\u001b[0;32m    309\u001b[0m )\n\u001b[0;32m    311\u001b[0m \u001b[38;5;66;03m# Unpack\u001b[39;00m\n",
      "Cell \u001b[1;32mIn[8], line 70\u001b[0m, in \u001b[0;36mDFN.step\u001b[1;34m(self, action)\u001b[0m\n\u001b[0;32m     68\u001b[0m experiment \u001b[38;5;241m=\u001b[39m pybamm\u001b[38;5;241m.\u001b[39mExperiment([\u001b[38;5;124mf\u001b[39m\u001b[38;5;124m\"\u001b[39m\u001b[38;5;124mCharge at \u001b[39m\u001b[38;5;132;01m{\u001b[39;00mcharge_rate\u001b[38;5;132;01m}\u001b[39;00m\u001b[38;5;124mC for 30 sec or until 4.2 V\u001b[39m\u001b[38;5;124m\"\u001b[39m])\n\u001b[0;32m     69\u001b[0m sim \u001b[38;5;241m=\u001b[39m pybamm\u001b[38;5;241m.\u001b[39mSimulation(model, experiment\u001b[38;5;241m=\u001b[39mexperiment, parameter_values \u001b[38;5;241m=\u001b[39m parms)\n\u001b[1;32m---> 70\u001b[0m step_solution \u001b[38;5;241m=\u001b[39m \u001b[43msim\u001b[49m\u001b[38;5;241;43m.\u001b[39;49m\u001b[43msolve\u001b[49m\u001b[43m(\u001b[49m\u001b[43mstarting_solution\u001b[49m\u001b[38;5;241;43m=\u001b[39;49m\u001b[38;5;28;43mself\u001b[39;49m\u001b[38;5;241;43m.\u001b[39;49m\u001b[43msolution\u001b[49m\u001b[43m[\u001b[49m\u001b[38;5;241;43m-\u001b[39;49m\u001b[38;5;241;43m1\u001b[39;49m\u001b[43m]\u001b[49m\u001b[38;5;241;43m.\u001b[39;49m\u001b[43mlast_state\u001b[49m\u001b[43m)\u001b[49m\n\u001b[0;32m     73\u001b[0m \u001b[38;5;28mself\u001b[39m\u001b[38;5;241m.\u001b[39msolution \u001b[38;5;241m+\u001b[39m\u001b[38;5;241m=\u001b[39m[step_solution]\n\u001b[0;32m     76\u001b[0m \u001b[38;5;66;03m# Calculate reward based on various factors\u001b[39;00m\n",
      "File \u001b[1;32mc:\\Users\\User\\anaconda3\\envs\\batt\\lib\\site-packages\\pybamm\\simulation.py:882\u001b[0m, in \u001b[0;36mSimulation.solve\u001b[1;34m(self, t_eval, solver, check_model, save_at_cycles, calc_esoh, starting_solution, initial_soc, callbacks, showprogress, **kwargs)\u001b[0m\n\u001b[0;32m    880\u001b[0m \u001b[38;5;28;01mif\u001b[39;00m \u001b[38;5;28mall\u001b[39m(\u001b[38;5;28misinstance\u001b[39m(step, pybamm\u001b[38;5;241m.\u001b[39mEmptySolution) \u001b[38;5;28;01mfor\u001b[39;00m step \u001b[38;5;129;01min\u001b[39;00m steps):\n\u001b[0;32m    881\u001b[0m     \u001b[38;5;28;01mif\u001b[39;00m \u001b[38;5;28mlen\u001b[39m(steps) \u001b[38;5;241m==\u001b[39m \u001b[38;5;241m1\u001b[39m:\n\u001b[1;32m--> 882\u001b[0m         \u001b[38;5;28;01mraise\u001b[39;00m pybamm\u001b[38;5;241m.\u001b[39mSolverError(\n\u001b[0;32m    883\u001b[0m             \u001b[38;5;124mf\u001b[39m\u001b[38;5;124m\"\u001b[39m\u001b[38;5;124mStep \u001b[39m\u001b[38;5;124m'\u001b[39m\u001b[38;5;132;01m{\u001b[39;00mop_conds_str\u001b[38;5;132;01m}\u001b[39;00m\u001b[38;5;124m'\u001b[39m\u001b[38;5;124m is infeasible \u001b[39m\u001b[38;5;124m\"\u001b[39m\n\u001b[0;32m    884\u001b[0m             \u001b[38;5;124m\"\u001b[39m\u001b[38;5;124mdue to exceeded bounds at initial conditions. \u001b[39m\u001b[38;5;124m\"\u001b[39m\n\u001b[0;32m    885\u001b[0m             \u001b[38;5;124m\"\u001b[39m\u001b[38;5;124mIf this step is part of a longer cycle, \u001b[39m\u001b[38;5;124m\"\u001b[39m\n\u001b[0;32m    886\u001b[0m             \u001b[38;5;124m\"\u001b[39m\u001b[38;5;124mround brackets should be used to indicate this, \u001b[39m\u001b[38;5;124m\"\u001b[39m\n\u001b[0;32m    887\u001b[0m             \u001b[38;5;124m\"\u001b[39m\u001b[38;5;124me.g.:\u001b[39m\u001b[38;5;130;01m\\n\u001b[39;00m\u001b[38;5;124m pybamm.Experiment([(\u001b[39m\u001b[38;5;130;01m\\n\u001b[39;00m\u001b[38;5;124m\"\u001b[39m\n\u001b[0;32m    888\u001b[0m             \u001b[38;5;124m\"\u001b[39m\u001b[38;5;130;01m\\t\u001b[39;00m\u001b[38;5;124mDischarge at C/5 for 10 hours or until 3.3 V,\u001b[39m\u001b[38;5;130;01m\\n\u001b[39;00m\u001b[38;5;124m\"\u001b[39m\n\u001b[0;32m    889\u001b[0m             \u001b[38;5;124m\"\u001b[39m\u001b[38;5;130;01m\\t\u001b[39;00m\u001b[38;5;124mCharge at 1 A until 4.1 V,\u001b[39m\u001b[38;5;130;01m\\n\u001b[39;00m\u001b[38;5;124m\"\u001b[39m\n\u001b[0;32m    890\u001b[0m             \u001b[38;5;124m\"\u001b[39m\u001b[38;5;130;01m\\t\u001b[39;00m\u001b[38;5;124mHold at 4.1 V until 10 mA\u001b[39m\u001b[38;5;130;01m\\n\u001b[39;00m\u001b[38;5;124m\"\u001b[39m\n\u001b[0;32m    891\u001b[0m             \u001b[38;5;124m\"\u001b[39m\u001b[38;5;124m])\u001b[39m\u001b[38;5;124m\"\u001b[39m\n\u001b[0;32m    892\u001b[0m         )\n\u001b[0;32m    893\u001b[0m     \u001b[38;5;28;01melse\u001b[39;00m:\n\u001b[0;32m    894\u001b[0m         this_cycle \u001b[38;5;241m=\u001b[39m \u001b[38;5;28mself\u001b[39m\u001b[38;5;241m.\u001b[39mexperiment\u001b[38;5;241m.\u001b[39moperating_conditions_cycles[\n\u001b[0;32m    895\u001b[0m             cycle_num \u001b[38;5;241m-\u001b[39m \u001b[38;5;241m1\u001b[39m\n\u001b[0;32m    896\u001b[0m         ]\n",
      "\u001b[1;31mSolverError\u001b[0m: Step 'Charge at 3.4108448028564453C for 30 sec or until 4.2 V' is infeasible due to exceeded bounds at initial conditions. If this step is part of a longer cycle, round brackets should be used to indicate this, e.g.:\n pybamm.Experiment([(\n\tDischarge at C/5 for 10 hours or until 3.3 V,\n\tCharge at 1 A until 4.1 V,\n\tHold at 4.1 V until 10 mA\n])"
     ]
    }
   ],
   "source": [
    "env = DFN()\n",
    "# It will check your custom environment and output additional warnings if needed\n",
    "check_env(env)  "
   ]
  },
  {
   "cell_type": "code",
   "execution_count": 4,
   "metadata": {},
   "outputs": [],
   "source": [
    "# env = DFN()\n",
    "# model = PPO('MlpPolicy', env)\n",
    "# model.learn(total_timesteps=(20))\n",
    "# model.save(\"batt\")"
   ]
  },
  {
   "cell_type": "code",
   "execution_count": 5,
   "metadata": {},
   "outputs": [],
   "source": [
    "# env = DFN()\n",
    "# model = PPO('MlpPolicy', env)\n",
    "# model.learn(total_timesteps=(6000000))\n",
    "# model.save(\"batt\")"
   ]
  },
  {
   "cell_type": "code",
   "execution_count": 6,
   "metadata": {},
   "outputs": [],
   "source": [
    "# env = DFN()\n",
    "# model = PPO.load(\"batt\",env=env)\n",
    "\n",
    "# vec_env = model.get_env()\n",
    "# obs = vec_env.reset()"
   ]
  },
  {
   "cell_type": "code",
   "execution_count": 7,
   "metadata": {},
   "outputs": [],
   "source": [
    "# b = True\n",
    "# while b:\n",
    "#     action, _states = model.predict(obs)\n",
    "#     observation, reward, terminated, a, info = env.step(action)\n",
    "#     print(observation, reward, terminated, a, info)\n",
    "#     b = terminated"
   ]
  },
  {
   "cell_type": "code",
   "execution_count": null,
   "metadata": {},
   "outputs": [],
   "source": []
  }
 ],
 "metadata": {
  "kernelspec": {
   "display_name": "eve_2",
   "language": "python",
   "name": "python3"
  },
  "language_info": {
   "codemirror_mode": {
    "name": "ipython",
    "version": 3
   },
   "file_extension": ".py",
   "mimetype": "text/x-python",
   "name": "python",
   "nbconvert_exporter": "python",
   "pygments_lexer": "ipython3",
   "version": "3.10.14"
  }
 },
 "nbformat": 4,
 "nbformat_minor": 2
}
