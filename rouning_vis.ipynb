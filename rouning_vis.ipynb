{
 "cells": [
  {
   "cell_type": "code",
   "execution_count": 394,
   "metadata": {},
   "outputs": [],
   "source": [
    "import cplex\n",
    "import numpy\n",
    "import re\n",
    "from datetime import datetime, timedelta\n",
    "\n",
    "cpx = cplex.Cplex()\n",
    "\n",
    "n = 4\n",
    "N = [str(i) for i in range(1, n+1)]\n",
    "N_hat = ['h' + item for item in N]\n",
    "\n",
    "is_cloned = {original: cloned  for original, cloned in zip(N, N_hat)}\n",
    "\n",
    "V = N + N_hat\n",
    "\n",
    "V_0 = V.copy()\n",
    "V_0.append(str(0))\n",
    "\n",
    "V_1 = V.copy()\n",
    "V_1.append(str(len(N) + 1))\n",
    "\n",
    "V_2 = V.copy()\n",
    "V_2.append(str(0))\n",
    "V_2.append(str(len(N) + 1))\n",
    "\n",
    "A_1 = {(i, j) for i in V for j in V if i != j and (j not in is_cloned or is_cloned[j] != j)}\n",
    "A_2 = {(original, cloned) for original, cloned in is_cloned.items()}\n",
    "A_3 = {(str(0), j) for j in V}\n",
    "A_4 = {(i, str(len(N) + 1)) for i in V}\n",
    "A_5 = {(cloned, original) for original, cloned in is_cloned.items()}\n",
    "\n",
    "A = A_1.union(A_2, A_3, A_4) - A_5\n",
    "A_p = A - A_2\n",
    "\n",
    "def time_to_m(time_str):\n",
    "    hour, minute = map(int, time_str.split(':'))\n",
    "    return hour * 60 + minute\n",
    "\n",
    "T = [1,2]\n",
    "B = ['1','2','3','4']\n",
    "CB_l = [75,75,75,75]\n",
    "\n",
    "S_i = [0] * len(V)\n",
    "C_i = [40] * len(N)\n",
    "CT = 2\n",
    "\n",
    "T_ij = {}\n",
    "for (i, j) in A:\n",
    "    if (i, j) in A_2:\n",
    "        T_ij[(i, j)] = C_i[V.index(i)] \n",
    "    else:\n",
    "        T_ij[(i, j)] = 10\n",
    "\n",
    "E_i = ['01:00','01:20','01:10','01:20']\n",
    "E_i = [time_to_m(E_i[i]) for i in range(len(E_i))]\n",
    "L_i = ['02:00','02:20','02:10','02:20']\n",
    "L_i = [time_to_m(L_i[i]) for i in range(len(L_i))]\n",
    "R_i = [30,30,30,30]\n",
    "Depo_time = ['00:00', '06:00']\n",
    "E_0 = [time_to_m(Depo_time[0])]\n",
    "L_n = [time_to_m(Depo_time[1])]\n",
    "\n",
    "M = 10000\n",
    "alp = 1000\n",
    "lamb = 10000"
   ]
  },
  {
   "cell_type": "code",
   "execution_count": 395,
   "metadata": {},
   "outputs": [
    {
     "data": {
      "text/plain": [
       "range(369, 378)"
      ]
     },
     "execution_count": 395,
     "metadata": {},
     "output_type": "execute_result"
    }
   ],
   "source": [
    "cpx.objective.set_sense(cpx.objective.sense.maximize)\n",
    "\n",
    "x_i_j = lambda i, j: 'x_%s_%s' % (i, j)\n",
    "y_i_j_l = lambda i, j, l: 'y_%s_%s_%s' % (i, j, l)\n",
    "z_i_l = lambda i, l: 'z_%s_%s' % (i, l)\n",
    "o_i = lambda i: 'o_%s' % (i)\n",
    "u_i = lambda i: 'u_%s' % (i)\n",
    "v_i = lambda i: 'v_%s' % (i)\n",
    "\n",
    "cpx.variables.add(\n",
    "    obj=[-1 for (i, j) in A],\n",
    "    ub=[1 for (i, j) in A],\n",
    "    lb=[0 for (i, j) in A],\n",
    "    types=['B' for (i, j) in A],\n",
    "    names=[x_i_j(str(i), str(j)) for (i, j) in A]\n",
    ")\n",
    "cpx.variables.add(\n",
    "    obj=[0 for (i, j) in A for l in B],\n",
    "    ub=[1 for (i, j) in A for l in B],\n",
    "    lb=[0 for (i, j) in A for l in B],\n",
    "    types=['B' for (i, j) in A for l in B],\n",
    "    names=[y_i_j_l(str(i), str(j), str(l)) for (i, j) in A for l in B]\n",
    ")\n",
    "\n",
    "cpx.variables.add(\n",
    "    obj=[0 for i in N for l in B],\n",
    "    ub=[1 for i in N for l in B],\n",
    "    lb=[0 for i in N for l in B],\n",
    "    types=['B' for i in N for l in B],\n",
    "    names=[z_i_l(str(i), str(l)) for i in N for l in B]\n",
    ")\n",
    "\n",
    "cpx.variables.add(\n",
    "    obj=[100 for i in N],\n",
    "    ub=[1 for i in N],\n",
    "    lb=[0 for i in N],\n",
    "    types=['B' for i in N],\n",
    "    names=[o_i(str(i)) for i in N]\n",
    ")\n",
    "\n",
    "cpx.variables.add(\n",
    "    obj=[0 for i in V_1],\n",
    "    lb=[0 for i in V_1],\n",
    "    types=['C' for i in V_1],\n",
    "    names=[u_i(str(i)) for i in V_1]\n",
    ")\n",
    "\n",
    "cpx.variables.add(\n",
    "    obj=[0 for i in V_0],\n",
    "    lb=[0 for i in V_0],\n",
    "    types=['C' for i in V_0],\n",
    "    names=[v_i(str(i)) for i in V_0]\n",
    ")"
   ]
  },
  {
   "cell_type": "code",
   "execution_count": 396,
   "metadata": {},
   "outputs": [
    {
     "data": {
      "text/plain": [
       "range(0, 1)"
      ]
     },
     "execution_count": 396,
     "metadata": {},
     "output_type": "execute_result"
    }
   ],
   "source": [
    "#2\n",
    "T_len = len(T)\n",
    "\n",
    "cpx.linear_constraints.add(\n",
    "    lin_expr=[\n",
    "        cplex.SparsePair(\n",
    "            ind=[x_i_j(0, i) for i in V],\n",
    "            val=[1 for i in V]\n",
    "        )\n",
    "    ],\n",
    "    senses=['L'],\n",
    "    rhs=[T_len],\n",
    "    names=['const2']\n",
    ")\n"
   ]
  },
  {
   "cell_type": "code",
   "execution_count": 397,
   "metadata": {},
   "outputs": [
    {
     "data": {
      "text/plain": [
       "range(1, 9)"
      ]
     },
     "execution_count": 397,
     "metadata": {},
     "output_type": "execute_result"
    }
   ],
   "source": [
    "#3\n",
    "cpx.linear_constraints.add(\n",
    "    lin_expr=[\n",
    "        cplex.SparsePair(\n",
    "            ind=[x_i_j(a, b) for (a,b) in A if b == j ],\n",
    "            val=[1 for (a,b) in A if b == j  ]\n",
    "        ) for j in V\n",
    "    ],\n",
    "    senses=['L' for j in V],\n",
    "    rhs=[1 for j in V],\n",
    "    names=['const3_%s' % j for j in V]\n",
    ")"
   ]
  },
  {
   "cell_type": "code",
   "execution_count": 398,
   "metadata": {},
   "outputs": [
    {
     "data": {
      "text/plain": [
       "range(9, 17)"
      ]
     },
     "execution_count": 398,
     "metadata": {},
     "output_type": "execute_result"
    }
   ],
   "source": [
    "#4\n",
    "cpx.linear_constraints.add(\n",
    "    lin_expr=[\n",
    "        cplex.SparsePair(\n",
    "            ind=[x_i_j(a, b) for (a, b) in A if a == i] + [x_i_j(c, d) for (c,d) in A if d == i],\n",
    "            val=[1 for (a, b) in A if a == i] + [-1 for (c, d) in A if d == i]\n",
    "        ) for i in V\n",
    "    ],\n",
    "    \n",
    "    senses=['E' for i in V] ,\n",
    "    rhs=[0 for i in V],\n",
    "    names=['const4_%s' % (i) for i in V]\n",
    ")\n"
   ]
  },
  {
   "cell_type": "code",
   "execution_count": 399,
   "metadata": {},
   "outputs": [
    {
     "data": {
      "text/plain": [
       "range(17, 21)"
      ]
     },
     "execution_count": 399,
     "metadata": {},
     "output_type": "execute_result"
    }
   ],
   "source": [
    "#5\n",
    "cpx.linear_constraints.add(\n",
    "    lin_expr=[\n",
    "        cplex.SparsePair(\n",
    "            ind=[x_i_j(a, b) for (a, b) in A if b == i ] + [x_i_j(c, d) for (c, d) in A if d == j],\n",
    "            val=[1 for (a, b) in A if b == i] + [-1 for (c, d) in A if d == j]\n",
    "        ) for (i,j) in A_2\n",
    "    ], \n",
    "    senses=['E' for (i,j) in A_2],\n",
    "    rhs=[0 for (i,j) in A_2],\n",
    "    names=['const5_%s_%s' % (i, j) for (i,j) in A_2]\n",
    ") \n"
   ]
  },
  {
   "cell_type": "code",
   "execution_count": 400,
   "metadata": {},
   "outputs": [
    {
     "data": {
      "text/plain": [
       "range(21, 25)"
      ]
     },
     "execution_count": 400,
     "metadata": {},
     "output_type": "execute_result"
    }
   ],
   "source": [
    "#6\n",
    "cpx.linear_constraints.add(\n",
    "    lin_expr=[\n",
    "        cplex.SparsePair(\n",
    "            ind=[y_i_j_l(0, i, l) for i in V],\n",
    "            val=[1 for i in V]\n",
    "        ) for l in B\n",
    "    ],\n",
    "    senses=['L' for l in B],\n",
    "    rhs=[1 for l in B],\n",
    "    names=['const6_%s' % (l) for l in B]\n",
    ")\n"
   ]
  },
  {
   "cell_type": "code",
   "execution_count": 401,
   "metadata": {},
   "outputs": [
    {
     "data": {
      "text/plain": [
       "range(25, 57)"
      ]
     },
     "execution_count": 401,
     "metadata": {},
     "output_type": "execute_result"
    }
   ],
   "source": [
    "#7\n",
    "cpx.linear_constraints.add(\n",
    "    lin_expr=[\n",
    "        cplex.SparsePair(\n",
    "            ind=[y_i_j_l(a, b, l) for (a, b) in A if a == i] + [y_i_j_l(c, d, l) for (c, d) in A if d == i],\n",
    "            val=[1] * len([y_i_j_l(a, b, l) for (a, b) in A if a == i]) + [-1] * len([y_i_j_l(c, d, l) for (c, d) in A if d == i])\n",
    "        ) for i in V for l in B\n",
    "    ],\n",
    "    senses=['E' for i in V for l in B] ,\n",
    "    rhs=[0 for i in V for l in B] ,\n",
    "    names=['const7_%s_%s' % (i, l) for i in V for l in B]\n",
    ")\n"
   ]
  },
  {
   "cell_type": "code",
   "execution_count": 402,
   "metadata": {},
   "outputs": [
    {
     "data": {
      "text/plain": [
       "range(57, 121)"
      ]
     },
     "execution_count": 402,
     "metadata": {},
     "output_type": "execute_result"
    }
   ],
   "source": [
    "#8\n",
    "cpx.linear_constraints.add(\n",
    "    lin_expr=[\n",
    "        cplex.SparsePair(\n",
    "            ind=[x_i_j(i, j)] + [y_i_j_l(i, j, l) for l in B],\n",
    "            val=[CT] + [-1 for l in B]\n",
    "        ) for (i,j) in A_p\n",
    "    ],\n",
    "    senses=['G' for (i,j) in A_p],\n",
    "    rhs=[0 for (i,j) in A_p],\n",
    "    names=['const8_%s_%s' % (i,j) for (i,j) in A_p]\n",
    ")\n"
   ]
  },
  {
   "cell_type": "code",
   "execution_count": 403,
   "metadata": {},
   "outputs": [
    {
     "data": {
      "text/plain": [
       "range(121, 125)"
      ]
     },
     "execution_count": 403,
     "metadata": {},
     "output_type": "execute_result"
    }
   ],
   "source": [
    "#9\n",
    "cpx.linear_constraints.add(\n",
    "    lin_expr=[\n",
    "        cplex.SparsePair(\n",
    "            ind=[z_i_l(i, l) for i in N],\n",
    "            val=[R_i[N.index(i)] for i in N]\n",
    "        ) for l in B\n",
    "    ],\n",
    "    senses=['L' for l in B],\n",
    "    rhs=[CB_l[B.index(l)] for l in B],\n",
    "    names=['const9_%s' % (l) for l in B]\n",
    ")"
   ]
  },
  {
   "cell_type": "code",
   "execution_count": 404,
   "metadata": {},
   "outputs": [
    {
     "data": {
      "text/plain": [
       "range(125, 129)"
      ]
     },
     "execution_count": 404,
     "metadata": {},
     "output_type": "execute_result"
    }
   ],
   "source": [
    "#10\n",
    "cpx.linear_constraints.add(\n",
    "    lin_expr=[\n",
    "        cplex.SparsePair(\n",
    "            ind=[z_i_l(i,l) for l in B],\n",
    "            val=[1 for l in B]\n",
    "        ) for i in N\n",
    "    ],\n",
    "    senses=['L' for i in N],\n",
    "    rhs=[1 for i in N],\n",
    "    names=['const10_%s' % (i) for i in N]\n",
    ")"
   ]
  },
  {
   "cell_type": "code",
   "execution_count": 405,
   "metadata": {},
   "outputs": [
    {
     "data": {
      "text/plain": [
       "range(129, 133)"
      ]
     },
     "execution_count": 405,
     "metadata": {},
     "output_type": "execute_result"
    }
   ],
   "source": [
    "#11\n",
    "cpx.linear_constraints.add(\n",
    "    lin_expr=[\n",
    "        cplex.SparsePair(\n",
    "            ind=[o_i(i)] + [z_i_l(i, l) for l in B],\n",
    "            val=[1] + [-1 for l in B]\n",
    "        ) for i in N\n",
    "    ],\n",
    "    senses=['E' for i in N],\n",
    "    rhs=[0 for i in N],\n",
    "    names=['const11_%s' % (i) for i in N]\n",
    ")"
   ]
  },
  {
   "cell_type": "code",
   "execution_count": 406,
   "metadata": {},
   "outputs": [
    {
     "data": {
      "text/plain": [
       "range(133, 149)"
      ]
     },
     "execution_count": 406,
     "metadata": {},
     "output_type": "execute_result"
    }
   ],
   "source": [
    "#12\n",
    "cpx.linear_constraints.add(\n",
    "    lin_expr=[\n",
    "        cplex.SparsePair(\n",
    "            ind=[y_i_j_l(i, j, l)] + [z_i_l(i, l)],\n",
    "            val=[1] + [-1]\n",
    "        ) for (i, j) in A_2 for l in B\n",
    "    ],\n",
    "    senses=['E' for (i, j) in A_2 for l in B],\n",
    "    rhs=[0 for (i, j) in A_2 for l in B],\n",
    "    names=['const12_%s_%s_%s' % (i, j, l) for (i, j) in A_2 for l in B]\n",
    ")"
   ]
  },
  {
   "cell_type": "code",
   "execution_count": 407,
   "metadata": {},
   "outputs": [
    {
     "data": {
      "text/plain": [
       "range(149, 157)"
      ]
     },
     "execution_count": 407,
     "metadata": {},
     "output_type": "execute_result"
    }
   ],
   "source": [
    "#13\n",
    "cpx.linear_constraints.add(\n",
    "    lin_expr=[\n",
    "        cplex.SparsePair(\n",
    "            ind=[v_i(i)] + [u_i(i)],\n",
    "            val=[1] + [-1]\n",
    "        ) for i in V\n",
    "    ],\n",
    "    senses=['G' for i in V],\n",
    "    rhs=[S_i[i] for i in range(0,len(V))],\n",
    "    names=['const13_%s' % (i) for i in V]\n",
    ")"
   ]
  },
  {
   "cell_type": "code",
   "execution_count": 408,
   "metadata": {},
   "outputs": [
    {
     "data": {
      "text/plain": [
       "range(157, 225)"
      ]
     },
     "execution_count": 408,
     "metadata": {},
     "output_type": "execute_result"
    }
   ],
   "source": [
    "#14\n",
    "cpx.linear_constraints.add(\n",
    "    lin_expr=[\n",
    "        cplex.SparsePair(\n",
    "            ind=[v_i(i)] + [u_i(j)] + [x_i_j(i,j)],\n",
    "            val=[1] + [-1] + [M]\n",
    "        ) for (i,j) in A\n",
    "    ],\n",
    "    senses=['L' for (i,j) in A],\n",
    "    rhs=[ - T_ij[(i,j)] + M for (i,j) in A],\n",
    "    names=['const14_%s_%s' % (i,j) for (i,j) in A]\n",
    ")\n"
   ]
  },
  {
   "cell_type": "code",
   "execution_count": 409,
   "metadata": {},
   "outputs": [
    {
     "data": {
      "text/plain": [
       "range(225, 229)"
      ]
     },
     "execution_count": 409,
     "metadata": {},
     "output_type": "execute_result"
    }
   ],
   "source": [
    "#15\n",
    "cpx.linear_constraints.add(\n",
    "    lin_expr=[\n",
    "        cplex.SparsePair(\n",
    "            ind=[u_i(j)] + [v_i(i)],\n",
    "            val=[1] + [-1]\n",
    "        ) for (i, j) in A_2\n",
    "    ],\n",
    "    senses=['G' for (i, j) in A_2],\n",
    "    rhs=[C_i[N.index(i)] for (i, j) in A_2],\n",
    "    names=['const15_%s_%s' % (i,j) for (i, j) in A_2]\n",
    ")"
   ]
  },
  {
   "cell_type": "code",
   "execution_count": 410,
   "metadata": {},
   "outputs": [
    {
     "data": {
      "text/plain": [
       "range(229, 233)"
      ]
     },
     "execution_count": 410,
     "metadata": {},
     "output_type": "execute_result"
    }
   ],
   "source": [
    "#16 떠나는 i_hat lower bound \n",
    "cpx.linear_constraints.add(\n",
    "    lin_expr=[\n",
    "        cplex.SparsePair(\n",
    "            ind=[v_i(j)],\n",
    "            val=[1]\n",
    "        ) for (i, j) in A_2\n",
    "    ],\n",
    "    senses=['G' for (i, j) in A_2],\n",
    "    rhs=[E_i[N.index(i)] + S_i[N.index(i)] + C_i[N.index(i)] + S_i[N_hat.index(j)] for (i, j) in A_2],\n",
    "    names=['const16_%s_%s' % (i,j) for (i, j) in A_2]\n",
    ")"
   ]
  },
  {
   "cell_type": "code",
   "execution_count": 411,
   "metadata": {},
   "outputs": [
    {
     "data": {
      "text/plain": [
       "range(233, 237)"
      ]
     },
     "execution_count": 411,
     "metadata": {},
     "output_type": "execute_result"
    }
   ],
   "source": [
    "#17 들어오는 i upper bound 최소 이전에는 들어와야함\n",
    "cpx.linear_constraints.add(\n",
    "    lin_expr=[\n",
    "        cplex.SparsePair(\n",
    "            ind=[u_i(i)],\n",
    "            val=[1]\n",
    "        ) for (i, j) in A_2\n",
    "    ],\n",
    "    senses=['L' for (i, j) in A_2],\n",
    "    rhs=[ L_i[N.index(i)]- S_i[N.index(i)] -C_i[N.index(i)] -S_i[N_hat.index(j)] for (i, j) in A_2],\n",
    "    names=['const17_%s_%s' % (i,j) for (i, j) in A_2]\n",
    ")"
   ]
  },
  {
   "cell_type": "code",
   "execution_count": 412,
   "metadata": {},
   "outputs": [
    {
     "data": {
      "text/plain": [
       "range(237, 241)"
      ]
     },
     "execution_count": 412,
     "metadata": {},
     "output_type": "execute_result"
    }
   ],
   "source": [
    "#17-2 떠나는 i lower bound \n",
    "cpx.linear_constraints.add(\n",
    "    lin_expr=[\n",
    "        cplex.SparsePair(\n",
    "            ind=[v_i(i)],\n",
    "            val=[1]\n",
    "        ) for i in N\n",
    "    ],\n",
    "    senses=['G' for i in N],\n",
    "    rhs=[E_i[N.index(i)] + S_i[N.index(i)] for i in N],\n",
    "    names=['const17-2_%s' % (i) for i in N]\n",
    ")"
   ]
  },
  {
   "cell_type": "code",
   "execution_count": 413,
   "metadata": {},
   "outputs": [
    {
     "data": {
      "text/plain": [
       "range(241, 242)"
      ]
     },
     "execution_count": 413,
     "metadata": {},
     "output_type": "execute_result"
    }
   ],
   "source": [
    "#18\n",
    "cpx.linear_constraints.add(\n",
    "    lin_expr=[\n",
    "        cplex.SparsePair(\n",
    "            ind=[v_i(str(0))],\n",
    "            val=[1]\n",
    "        )\n",
    "    ],\n",
    "    senses=['G'],\n",
    "    rhs=[E_0[0]],\n",
    "    names=['const18']\n",
    ")"
   ]
  },
  {
   "cell_type": "code",
   "execution_count": 414,
   "metadata": {},
   "outputs": [
    {
     "data": {
      "text/plain": [
       "range(242, 243)"
      ]
     },
     "execution_count": 414,
     "metadata": {},
     "output_type": "execute_result"
    }
   ],
   "source": [
    "#19\n",
    "cpx.linear_constraints.add(\n",
    "    lin_expr=[\n",
    "        cplex.SparsePair(\n",
    "            ind=[u_i(str(len(N)+1))],\n",
    "            val=[1]\n",
    "        )\n",
    "    ],\n",
    "    senses=['L'],\n",
    "    rhs=[L_n[0]],\n",
    "    names=['const19']\n",
    ")"
   ]
  },
  {
   "cell_type": "code",
   "execution_count": 415,
   "metadata": {},
   "outputs": [
    {
     "name": "stdout",
     "output_type": "stream",
     "text": [
      "Version identifier: 22.1.1.0 | 2022-11-27 | 9160aff4d\n",
      "CPXPARAM_Read_DataCheck                          1\n",
      "Found incumbent of value 0.000000 after 0.00 sec. (0.05 ticks)\n",
      "Tried aggregator 2 times.\n",
      "MIP Presolve eliminated 64 rows and 72 columns.\n",
      "MIP Presolve modified 124 coefficients.\n",
      "Aggregator did 20 substitutions.\n",
      "Reduced MIP has 159 rows, 286 columns, and 990 nonzeros.\n",
      "Reduced MIP has 274 binaries, 0 generals, 0 SOSs, and 0 indicators.\n",
      "Presolve time = 0.02 sec. (1.08 ticks)\n",
      "Probing time = 0.00 sec. (0.96 ticks)\n",
      "Tried aggregator 2 times.\n",
      "Detecting symmetries...\n",
      "MIP Presolve modified 24 coefficients.\n",
      "Aggregator did 4 substitutions.\n",
      "Reduced MIP has 155 rows, 282 columns, and 982 nonzeros.\n",
      "Reduced MIP has 274 binaries, 0 generals, 0 SOSs, and 0 indicators.\n",
      "Presolve time = 0.00 sec. (0.95 ticks)\n",
      "Probing time = 0.00 sec. (0.95 ticks)\n",
      "Clique table members: 790.\n",
      "MIP emphasis: balance optimality and feasibility.\n",
      "MIP search method: dynamic search.\n",
      "Parallel mode: deterministic, using up to 8 threads.\n",
      "Root relaxation solution time = 0.00 sec. (0.74 ticks)\n",
      "\n",
      "        Nodes                                         Cuts/\n",
      "   Node  Left     Objective  IInf  Best Integer    Best Bound    ItCnt     Gap\n",
      "\n",
      "*     0+    0                            0.0000      400.0000              --- \n",
      "      0     0      394.0000    12        0.0000      394.0000      107     --- \n",
      "      0     0      394.0000    36        0.0000      Cuts: 17      138     --- \n",
      "      0     0      393.0000    47        0.0000      Cuts: 14      208     --- \n",
      "      0     0      393.0000    42        0.0000      Cuts: 34      272     --- \n",
      "      0     0      393.0000    47        0.0000      Cuts: 32      316     --- \n",
      "*     0+    0                          290.0000      393.0000            35.52%\n",
      "*     0+    0                          292.0000      393.0000            34.59%\n",
      "*     0+    0                          390.0000      393.0000             0.77%\n",
      "      0     0        cutoff            390.0000                    316     --- \n",
      "Elapsed time = 0.12 sec. (22.07 ticks, tree = 0.01 MB, solutions = 4)\n",
      "\n",
      "Cover cuts applied:  4\n",
      "Implied bound cuts applied:  1\n",
      "Mixed integer rounding cuts applied:  1\n",
      "Zero-half cuts applied:  13\n",
      "Gomory fractional cuts applied:  2\n",
      "\n",
      "Root node processing (before b&c):\n",
      "  Real time             =    0.12 sec. (22.09 ticks)\n",
      "Parallel b&c, 8 threads:\n",
      "  Real time             =    0.00 sec. (0.00 ticks)\n",
      "  Sync time (average)   =    0.00 sec.\n",
      "  Wait time (average)   =    0.00 sec.\n",
      "                          ------------\n",
      "Total (root+branch&cut) =    0.12 sec. (22.09 ticks)\n",
      "Objective Value: 390.0\n",
      "Variable Values:\n",
      "x_2_4 = 1.0\n",
      "x_h4_h1 = 1.0\n",
      "x_1_3 = 1.0\n",
      "x_4_h3 = 1.0\n",
      "x_3_h4 = 1.0\n",
      "x_h1_5 = 1.0\n",
      "x_h3_h2 = 1.0\n",
      "x_0_2 = 1.0\n",
      "x_0_1 = 1.0\n",
      "x_h2_5 = 1.0\n",
      "y_2_h2_2 = 1.0\n",
      "y_2_4_1 = 1.0\n",
      "y_h4_h1_1 = 1.0\n",
      "y_1_3_3 = 1.0\n",
      "y_4_h4_1 = 1.0\n",
      "y_3_h3_3 = 1.0\n",
      "y_h1_5_1 = 1.0\n",
      "y_h1_5_4 = 1.0\n",
      "y_h3_h2_3 = 1.0\n",
      "y_0_2_1 = 1.0\n",
      "y_0_2_2 = 1.0\n",
      "y_1_h1_4 = 1.0\n",
      "y_0_1_3 = 1.0\n",
      "y_0_1_4 = 1.0\n",
      "y_h2_5_2 = 1.0\n",
      "y_h2_5_3 = 1.0\n",
      "z_1_4 = 1.0\n",
      "z_2_2 = 1.0\n",
      "z_3_3 = 1.0\n",
      "z_4_1 = 1.0\n",
      "o_1 = 1.0\n",
      "o_2 = 1.0\n",
      "o_3 = 1.0\n",
      "o_4 = 1.0\n",
      "u_1 = 60.0\n",
      "u_2 = 80.0\n",
      "u_3 = 70.0\n",
      "u_4 = 90.0\n",
      "u_h1 = 140.0\n",
      "u_h2 = 120.0\n",
      "u_h3 = 110.0\n",
      "u_h4 = 130.0\n",
      "u_5 = 360.0\n",
      "v_1 = 60.0\n",
      "v_2 = 80.0\n",
      "v_3 = 70.0\n",
      "v_4 = 90.0\n",
      "v_h1 = 140.0\n",
      "v_h2 = 120.0\n",
      "v_h3 = 110.0\n",
      "v_h4 = 130.0\n",
      "Solution status: 101\n"
     ]
    }
   ],
   "source": [
    "cpx.solve()\n",
    "\n",
    "print(\"Objective Value:\", cpx.solution.get_objective_value()) \n",
    "\n",
    "print(\"Variable Values:\")\n",
    "variable_names = cpx.variables.get_names()\n",
    "variable_values = cpx.solution.get_values()\n",
    "\n",
    "for name, value in zip(variable_names, variable_values):\n",
    "    if value >= 0.0001:\n",
    "\n",
    "        print(name, \"=\", value) \n",
    "\n",
    "print(\"Solution status:\", cpx.solution.get_status())"
   ]
  },
  {
   "cell_type": "code",
   "execution_count": 416,
   "metadata": {},
   "outputs": [
    {
     "name": "stderr",
     "output_type": "stream",
     "text": [
      "Warning:  Output names have been modified due to duplicate names or characters invalid in LP format.\n"
     ]
    }
   ],
   "source": [
    "cpx.write('eve_01.lp')"
   ]
  },
  {
   "cell_type": "code",
   "execution_count": 446,
   "metadata": {},
   "outputs": [
    {
     "data": {
      "image/png": "[encoded data removed]",
      "text/plain": [
       "<Figure size 640x480 with 1 Axes>"
      ]
     },
     "metadata": {},
     "output_type": "display_data"
    },
    {
     "data": {
      "image/png": "[encoded data removed]",
      "text/plain": [
       "<Figure size 640x480 with 1 Axes>"
      ]
     },
     "metadata": {},
     "output_type": "display_data"
    }
   ],
   "source": [
    "import re\n",
    "import numpy as np\n",
    "import matplotlib.pyplot as plt\n",
    "import matplotlib.patches as patches\n",
    "\n",
    "ans = {}\n",
    "for name, value in zip(variable_names, variable_values):\n",
    "    ans[name] = value\n",
    "\n",
    "ans_starting_with_x = {key: value for key, value in ans.items() if key.startswith('x')}\n",
    "ax_list = []\n",
    "for key, value in zip(ans_starting_with_x.keys(), ans_starting_with_x.values()):\n",
    "    key_split = key.split(\"_\")\n",
    "    ax_list.append((key_split,value))\n",
    "interval = 30\n",
    "point = {}\n",
    "point_h = {}\n",
    "interval = 30\n",
    "point['0'] = (0, 0) \n",
    "point_h[f'{n+1}'] = (interval, 0) \n",
    "np.random.seed(42) \n",
    "for i in range(1, n+1):  \n",
    "    x = np.random.randint(0,1000)\n",
    "    y = np.random.randint(0,1000)\n",
    "    point[f'{i}'] = (x, y)  \n",
    "    point_h[f'h{i}'] = (x + interval, y)  \n",
    "\n",
    "x_h_values = [value[0] for value in point_h.values()]\n",
    "y_h_values = [value[1] for value in point_h.values()]\n",
    "plt.scatter(x_h_values, y_h_values)\n",
    "\n",
    "x_values = [value[0] for value in point.values()]\n",
    "y_values = [value[1] for value in point.values()]\n",
    "plt.scatter(x_values, y_values)\n",
    "\n",
    "for i in point_h:\n",
    "    plt.text(point_h[i][0],point_h[i][1]+interval, i)\n",
    "for i in point:\n",
    "    plt.text(point[i][0],point[i][1]+interval, i)\n",
    "\n",
    "\n",
    "for i in range(len(ax_list)-1):\n",
    "    if ax_list[i][1] > 0:\n",
    "        if ax_list[i][0][1].startswith('h') or ax_list[i][0][1].startswith(f'{n+1}') :\n",
    "            start = point_h[ax_list[i][0][1]]\n",
    "        else:\n",
    "            start = point[ax_list[i][0][1]]\n",
    "        \n",
    "        if ax_list[i][0][2].startswith('h') or ax_list[i][0][2].startswith(f'{n+1}') :\n",
    "            end = point_h[ax_list[i][0][2]]\n",
    "        else:\n",
    "            end = point[ax_list[i][0][2]]\n",
    "        line_1 = patches.FancyArrowPatch((start[0], start[1]), (end[0], end[1]), connectionstyle=\"arc3,rad=0.1\", arrowstyle=\"Simple, tail_width=0.5, head_width=4, head_length=8\", color='r')\n",
    "        plt.gca().add_patch(line_1)\n",
    "        #plt.arrow(start[0],  start[1], end[0] - start[0]  , end[1] - start[1] , head_width=10, head_length=10, fc='black', ec='red')\n",
    "    else:\n",
    "        pass\n",
    "     \n",
    "plt.show()\n",
    "\n",
    "\n",
    "ans = {}\n",
    "for name, value in zip(variable_names, variable_values):\n",
    "    ans[name] = value\n",
    "\n",
    "ans_starting_with_y = {key: value for key, value in ans.items() if key.startswith('y')}\n",
    "\n",
    "ay_list = []\n",
    "for key, value in zip(ans_starting_with_y.keys(), ans_starting_with_y.values()):\n",
    "    key_split = key.split(\"_\")\n",
    "    ay_list.append((key_split,value))\n",
    "\n",
    "x_h_values = [value[0] for value in point_h.values()]\n",
    "y_h_values = [value[1] for value in point_h.values()]\n",
    "plt.scatter(x_h_values, y_h_values)\n",
    "\n",
    "x_values = [value[0] for value in point.values()]\n",
    "y_values = [value[1] for value in point.values()]\n",
    "plt.scatter(x_values, y_values)\n",
    "\n",
    "\n",
    "for i in point_h:\n",
    "    plt.text(point_h[i][0],point_h[i][1]+interval, i)\n",
    "for i in point:\n",
    "    plt.text(point[i][0],point[i][1]+interval, i)\n",
    "\n",
    "for i in range(len(ay_list)-1):\n",
    "    \n",
    "    if ay_list[i][1] > 0:\n",
    "        if ay_list[i][0][1].startswith('h') or ay_list[i][0][1].startswith(f'{n+1}') :\n",
    "            start = point_h[ay_list[i][0][1]]\n",
    "        else:\n",
    "            start = point[ay_list[i][0][1]]\n",
    "        \n",
    "        if ay_list[i][0][2].startswith('h') or ay_list[i][0][2].startswith(f'{n+1}') :\n",
    "            end = point_h[ay_list[i][0][2]]\n",
    "        else:\n",
    "            end = point[ay_list[i][0][2]]\n",
    "        if ay_list[i][0][3] == '1':\n",
    "            a_1 = patches.FancyArrowPatch((start[0], start[1]), (end[0], end[1]), connectionstyle=\"arc3,rad=0.1\", arrowstyle=\"Simple, tail_width=0.5, head_width=4, head_length=8\", color='r')\n",
    "            plt.gca().add_patch(a_1)\n",
    "        if ay_list[i][0][3] == '2':\n",
    "            a_2 = patches.FancyArrowPatch((start[0], start[1]), (end[0], end[1]), connectionstyle=\"arc3,rad=0.1\", arrowstyle=\"Simple, tail_width=0.5, head_width=4, head_length=8\", color='b')                \n",
    "            plt.gca().add_patch(a_2)\n",
    "        if ay_list[i][0][3] == '3':\n",
    "            a_3 = patches.FancyArrowPatch((start[0], start[1]), (end[0], end[1]), connectionstyle=\"arc3,rad=0.1\", arrowstyle=\"Simple, tail_width=0.5, head_width=4, head_length=8\", color='g')                \n",
    "            plt.gca().add_patch(a_3)\n",
    "        if ay_list[i][0][3] == '4':\n",
    "            a_4 = patches.FancyArrowPatch((start[0], start[1]), (end[0], end[1]), connectionstyle=\"arc3,rad=0.1\", arrowstyle=\"Simple, tail_width=0.5, head_width=4, head_length=8\", color='y')                \n",
    "            plt.gca().add_patch(a_4)\n",
    "    else:\n",
    "        pass\n",
    "     \n",
    "plt.show()"
   ]
  }
 ],
 "metadata": {
  "kernelspec": {
   "display_name": "baekya",
   "language": "python",
   "name": "python3"
  },
  "language_info": {
   "codemirror_mode": {
    "name": "ipython",
    "version": 3
   },
   "file_extension": ".py",
   "mimetype": "text/x-python",
   "name": "python",
   "nbconvert_exporter": "python",
   "pygments_lexer": "ipython3",
   "version": "3.10.14"
  }
 },
 "nbformat": 4,
 "nbformat_minor": 2
}
